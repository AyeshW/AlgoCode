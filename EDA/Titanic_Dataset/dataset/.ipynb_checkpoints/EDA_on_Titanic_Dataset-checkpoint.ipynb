{
 "cells": [
  {
   "cell_type": "code",
   "execution_count": 214,
   "metadata": {},
   "outputs": [],
   "source": [
    "%matplotlib inline\n",
    "\n",
    "# Data Analysis\n",
    "import pandas as pd \n",
    "import numpy as np\n",
    "import matplotlib.pyplot as plt \n",
    "import seaborn as sns"
   ]
  },
  {
   "cell_type": "code",
   "execution_count": 2,
   "metadata": {},
   "outputs": [],
   "source": [
    "# Loading In the data\n",
    "train = pd.read_csv(\"train.csv\")\n",
    "test = pd.read_csv(\"test.csv\")\n",
    "gender_submission = pd.read_csv(\"gender_submission.csv\")"
   ]
  },
  {
   "cell_type": "markdown",
   "metadata": {},
   "source": [
    "### Data Descriptions \n",
    "\n",
    "| Variable      | Definition    | Key     |\n",
    "| :------------- | :----------: | -----------: |\n",
    "|  **survival** |  Survival  |  0 = No, 1 = Yes   |\n",
    "| **pclass**  | Ticket class | 1 = 1st, 2 = 2nd, 3 = 3rd|\n",
    "|  **sex** | Sex   |     |\n",
    "|  **Age**  | Age in years |  |\n",
    "|  **sibsp** |  # of siblings / spouses aboard the Titanic  |     |\n",
    "|  **parch**  | # of parents / children aboard the Titanic |  |\n",
    "|  **ticket** |  Ticket number  |     |\n",
    "|  **fare**  | Passenger fare |  |\n",
    "|  **cabin**  | Cabin Number |   |\n",
    "|  **embarked**  | Port of Embarkation | C = Cherbourg, Q = Queenstown,S = Southampton |"
   ]
  },
  {
   "cell_type": "code",
   "execution_count": 3,
   "metadata": {},
   "outputs": [
    {
     "data": {
      "text/html": [
       "<div>\n",
       "<style scoped>\n",
       "    .dataframe tbody tr th:only-of-type {\n",
       "        vertical-align: middle;\n",
       "    }\n",
       "\n",
       "    .dataframe tbody tr th {\n",
       "        vertical-align: top;\n",
       "    }\n",
       "\n",
       "    .dataframe thead th {\n",
       "        text-align: right;\n",
       "    }\n",
       "</style>\n",
       "<table border=\"1\" class=\"dataframe\">\n",
       "  <thead>\n",
       "    <tr style=\"text-align: right;\">\n",
       "      <th></th>\n",
       "      <th>PassengerId</th>\n",
       "      <th>Survived</th>\n",
       "      <th>Pclass</th>\n",
       "      <th>Name</th>\n",
       "      <th>Sex</th>\n",
       "      <th>Age</th>\n",
       "      <th>SibSp</th>\n",
       "      <th>Parch</th>\n",
       "      <th>Ticket</th>\n",
       "      <th>Fare</th>\n",
       "      <th>Cabin</th>\n",
       "      <th>Embarked</th>\n",
       "    </tr>\n",
       "  </thead>\n",
       "  <tbody>\n",
       "    <tr>\n",
       "      <th>0</th>\n",
       "      <td>1</td>\n",
       "      <td>0</td>\n",
       "      <td>3</td>\n",
       "      <td>Braund, Mr. Owen Harris</td>\n",
       "      <td>male</td>\n",
       "      <td>22.0</td>\n",
       "      <td>1</td>\n",
       "      <td>0</td>\n",
       "      <td>A/5 21171</td>\n",
       "      <td>7.2500</td>\n",
       "      <td>NaN</td>\n",
       "      <td>S</td>\n",
       "    </tr>\n",
       "    <tr>\n",
       "      <th>1</th>\n",
       "      <td>2</td>\n",
       "      <td>1</td>\n",
       "      <td>1</td>\n",
       "      <td>Cumings, Mrs. John Bradley (Florence Briggs Th...</td>\n",
       "      <td>female</td>\n",
       "      <td>38.0</td>\n",
       "      <td>1</td>\n",
       "      <td>0</td>\n",
       "      <td>PC 17599</td>\n",
       "      <td>71.2833</td>\n",
       "      <td>C85</td>\n",
       "      <td>C</td>\n",
       "    </tr>\n",
       "    <tr>\n",
       "      <th>2</th>\n",
       "      <td>3</td>\n",
       "      <td>1</td>\n",
       "      <td>3</td>\n",
       "      <td>Heikkinen, Miss. Laina</td>\n",
       "      <td>female</td>\n",
       "      <td>26.0</td>\n",
       "      <td>0</td>\n",
       "      <td>0</td>\n",
       "      <td>STON/O2. 3101282</td>\n",
       "      <td>7.9250</td>\n",
       "      <td>NaN</td>\n",
       "      <td>S</td>\n",
       "    </tr>\n",
       "    <tr>\n",
       "      <th>3</th>\n",
       "      <td>4</td>\n",
       "      <td>1</td>\n",
       "      <td>1</td>\n",
       "      <td>Futrelle, Mrs. Jacques Heath (Lily May Peel)</td>\n",
       "      <td>female</td>\n",
       "      <td>35.0</td>\n",
       "      <td>1</td>\n",
       "      <td>0</td>\n",
       "      <td>113803</td>\n",
       "      <td>53.1000</td>\n",
       "      <td>C123</td>\n",
       "      <td>S</td>\n",
       "    </tr>\n",
       "    <tr>\n",
       "      <th>4</th>\n",
       "      <td>5</td>\n",
       "      <td>0</td>\n",
       "      <td>3</td>\n",
       "      <td>Allen, Mr. William Henry</td>\n",
       "      <td>male</td>\n",
       "      <td>35.0</td>\n",
       "      <td>0</td>\n",
       "      <td>0</td>\n",
       "      <td>373450</td>\n",
       "      <td>8.0500</td>\n",
       "      <td>NaN</td>\n",
       "      <td>S</td>\n",
       "    </tr>\n",
       "  </tbody>\n",
       "</table>\n",
       "</div>"
      ],
      "text/plain": [
       "   PassengerId  Survived  Pclass  \\\n",
       "0            1         0       3   \n",
       "1            2         1       1   \n",
       "2            3         1       3   \n",
       "3            4         1       1   \n",
       "4            5         0       3   \n",
       "\n",
       "                                                Name     Sex   Age  SibSp  \\\n",
       "0                            Braund, Mr. Owen Harris    male  22.0      1   \n",
       "1  Cumings, Mrs. John Bradley (Florence Briggs Th...  female  38.0      1   \n",
       "2                             Heikkinen, Miss. Laina  female  26.0      0   \n",
       "3       Futrelle, Mrs. Jacques Heath (Lily May Peel)  female  35.0      1   \n",
       "4                           Allen, Mr. William Henry    male  35.0      0   \n",
       "\n",
       "   Parch            Ticket     Fare Cabin Embarked  \n",
       "0      0         A/5 21171   7.2500   NaN        S  \n",
       "1      0          PC 17599  71.2833   C85        C  \n",
       "2      0  STON/O2. 3101282   7.9250   NaN        S  \n",
       "3      0            113803  53.1000  C123        S  \n",
       "4      0            373450   8.0500   NaN        S  "
      ]
     },
     "execution_count": 3,
     "metadata": {},
     "output_type": "execute_result"
    }
   ],
   "source": [
    "train.head()"
   ]
  },
  {
   "cell_type": "code",
   "execution_count": 4,
   "metadata": {},
   "outputs": [
    {
     "data": {
      "text/plain": [
       "891"
      ]
     },
     "execution_count": 4,
     "metadata": {},
     "output_type": "execute_result"
    }
   ],
   "source": [
    "len(train)"
   ]
  },
  {
   "cell_type": "code",
   "execution_count": 5,
   "metadata": {},
   "outputs": [
    {
     "data": {
      "text/html": [
       "<div>\n",
       "<style scoped>\n",
       "    .dataframe tbody tr th:only-of-type {\n",
       "        vertical-align: middle;\n",
       "    }\n",
       "\n",
       "    .dataframe tbody tr th {\n",
       "        vertical-align: top;\n",
       "    }\n",
       "\n",
       "    .dataframe thead th {\n",
       "        text-align: right;\n",
       "    }\n",
       "</style>\n",
       "<table border=\"1\" class=\"dataframe\">\n",
       "  <thead>\n",
       "    <tr style=\"text-align: right;\">\n",
       "      <th></th>\n",
       "      <th>PassengerId</th>\n",
       "      <th>Survived</th>\n",
       "      <th>Pclass</th>\n",
       "      <th>Age</th>\n",
       "      <th>SibSp</th>\n",
       "      <th>Parch</th>\n",
       "      <th>Fare</th>\n",
       "    </tr>\n",
       "  </thead>\n",
       "  <tbody>\n",
       "    <tr>\n",
       "      <th>count</th>\n",
       "      <td>891.000000</td>\n",
       "      <td>891.000000</td>\n",
       "      <td>891.000000</td>\n",
       "      <td>714.000000</td>\n",
       "      <td>891.000000</td>\n",
       "      <td>891.000000</td>\n",
       "      <td>891.000000</td>\n",
       "    </tr>\n",
       "    <tr>\n",
       "      <th>mean</th>\n",
       "      <td>446.000000</td>\n",
       "      <td>0.383838</td>\n",
       "      <td>2.308642</td>\n",
       "      <td>29.699118</td>\n",
       "      <td>0.523008</td>\n",
       "      <td>0.381594</td>\n",
       "      <td>32.204208</td>\n",
       "    </tr>\n",
       "    <tr>\n",
       "      <th>std</th>\n",
       "      <td>257.353842</td>\n",
       "      <td>0.486592</td>\n",
       "      <td>0.836071</td>\n",
       "      <td>14.526497</td>\n",
       "      <td>1.102743</td>\n",
       "      <td>0.806057</td>\n",
       "      <td>49.693429</td>\n",
       "    </tr>\n",
       "    <tr>\n",
       "      <th>min</th>\n",
       "      <td>1.000000</td>\n",
       "      <td>0.000000</td>\n",
       "      <td>1.000000</td>\n",
       "      <td>0.420000</td>\n",
       "      <td>0.000000</td>\n",
       "      <td>0.000000</td>\n",
       "      <td>0.000000</td>\n",
       "    </tr>\n",
       "    <tr>\n",
       "      <th>25%</th>\n",
       "      <td>223.500000</td>\n",
       "      <td>0.000000</td>\n",
       "      <td>2.000000</td>\n",
       "      <td>20.125000</td>\n",
       "      <td>0.000000</td>\n",
       "      <td>0.000000</td>\n",
       "      <td>7.910400</td>\n",
       "    </tr>\n",
       "    <tr>\n",
       "      <th>50%</th>\n",
       "      <td>446.000000</td>\n",
       "      <td>0.000000</td>\n",
       "      <td>3.000000</td>\n",
       "      <td>28.000000</td>\n",
       "      <td>0.000000</td>\n",
       "      <td>0.000000</td>\n",
       "      <td>14.454200</td>\n",
       "    </tr>\n",
       "    <tr>\n",
       "      <th>75%</th>\n",
       "      <td>668.500000</td>\n",
       "      <td>1.000000</td>\n",
       "      <td>3.000000</td>\n",
       "      <td>38.000000</td>\n",
       "      <td>1.000000</td>\n",
       "      <td>0.000000</td>\n",
       "      <td>31.000000</td>\n",
       "    </tr>\n",
       "    <tr>\n",
       "      <th>max</th>\n",
       "      <td>891.000000</td>\n",
       "      <td>1.000000</td>\n",
       "      <td>3.000000</td>\n",
       "      <td>80.000000</td>\n",
       "      <td>8.000000</td>\n",
       "      <td>6.000000</td>\n",
       "      <td>512.329200</td>\n",
       "    </tr>\n",
       "  </tbody>\n",
       "</table>\n",
       "</div>"
      ],
      "text/plain": [
       "       PassengerId    Survived      Pclass         Age       SibSp  \\\n",
       "count   891.000000  891.000000  891.000000  714.000000  891.000000   \n",
       "mean    446.000000    0.383838    2.308642   29.699118    0.523008   \n",
       "std     257.353842    0.486592    0.836071   14.526497    1.102743   \n",
       "min       1.000000    0.000000    1.000000    0.420000    0.000000   \n",
       "25%     223.500000    0.000000    2.000000   20.125000    0.000000   \n",
       "50%     446.000000    0.000000    3.000000   28.000000    0.000000   \n",
       "75%     668.500000    1.000000    3.000000   38.000000    1.000000   \n",
       "max     891.000000    1.000000    3.000000   80.000000    8.000000   \n",
       "\n",
       "            Parch        Fare  \n",
       "count  891.000000  891.000000  \n",
       "mean     0.381594   32.204208  \n",
       "std      0.806057   49.693429  \n",
       "min      0.000000    0.000000  \n",
       "25%      0.000000    7.910400  \n",
       "50%      0.000000   14.454200  \n",
       "75%      0.000000   31.000000  \n",
       "max      6.000000  512.329200  "
      ]
     },
     "execution_count": 5,
     "metadata": {},
     "output_type": "execute_result"
    }
   ],
   "source": [
    "train.describe()"
   ]
  },
  {
   "cell_type": "code",
   "execution_count": 6,
   "metadata": {},
   "outputs": [
    {
     "name": "stdout",
     "output_type": "stream",
     "text": [
      "<class 'pandas.core.frame.DataFrame'>\n",
      "RangeIndex: 891 entries, 0 to 890\n",
      "Data columns (total 12 columns):\n",
      " #   Column       Non-Null Count  Dtype  \n",
      "---  ------       --------------  -----  \n",
      " 0   PassengerId  891 non-null    int64  \n",
      " 1   Survived     891 non-null    int64  \n",
      " 2   Pclass       891 non-null    int64  \n",
      " 3   Name         891 non-null    object \n",
      " 4   Sex          891 non-null    object \n",
      " 5   Age          714 non-null    float64\n",
      " 6   SibSp        891 non-null    int64  \n",
      " 7   Parch        891 non-null    int64  \n",
      " 8   Ticket       891 non-null    object \n",
      " 9   Fare         891 non-null    float64\n",
      " 10  Cabin        204 non-null    object \n",
      " 11  Embarked     889 non-null    object \n",
      "dtypes: float64(2), int64(5), object(5)\n",
      "memory usage: 83.7+ KB\n"
     ]
    }
   ],
   "source": [
    "# Datatype and info about train dataframe\n",
    "train.info()"
   ]
  },
  {
   "cell_type": "code",
   "execution_count": 7,
   "metadata": {},
   "outputs": [
    {
     "data": {
      "text/html": [
       "<div>\n",
       "<style scoped>\n",
       "    .dataframe tbody tr th:only-of-type {\n",
       "        vertical-align: middle;\n",
       "    }\n",
       "\n",
       "    .dataframe tbody tr th {\n",
       "        vertical-align: top;\n",
       "    }\n",
       "\n",
       "    .dataframe thead th {\n",
       "        text-align: right;\n",
       "    }\n",
       "</style>\n",
       "<table border=\"1\" class=\"dataframe\">\n",
       "  <thead>\n",
       "    <tr style=\"text-align: right;\">\n",
       "      <th></th>\n",
       "      <th>PassengerId</th>\n",
       "      <th>Pclass</th>\n",
       "      <th>Name</th>\n",
       "      <th>Sex</th>\n",
       "      <th>Age</th>\n",
       "      <th>SibSp</th>\n",
       "      <th>Parch</th>\n",
       "      <th>Ticket</th>\n",
       "      <th>Fare</th>\n",
       "      <th>Cabin</th>\n",
       "      <th>Embarked</th>\n",
       "    </tr>\n",
       "  </thead>\n",
       "  <tbody>\n",
       "    <tr>\n",
       "      <th>0</th>\n",
       "      <td>892</td>\n",
       "      <td>3</td>\n",
       "      <td>Kelly, Mr. James</td>\n",
       "      <td>male</td>\n",
       "      <td>34.5</td>\n",
       "      <td>0</td>\n",
       "      <td>0</td>\n",
       "      <td>330911</td>\n",
       "      <td>7.8292</td>\n",
       "      <td>NaN</td>\n",
       "      <td>Q</td>\n",
       "    </tr>\n",
       "    <tr>\n",
       "      <th>1</th>\n",
       "      <td>893</td>\n",
       "      <td>3</td>\n",
       "      <td>Wilkes, Mrs. James (Ellen Needs)</td>\n",
       "      <td>female</td>\n",
       "      <td>47.0</td>\n",
       "      <td>1</td>\n",
       "      <td>0</td>\n",
       "      <td>363272</td>\n",
       "      <td>7.0000</td>\n",
       "      <td>NaN</td>\n",
       "      <td>S</td>\n",
       "    </tr>\n",
       "    <tr>\n",
       "      <th>2</th>\n",
       "      <td>894</td>\n",
       "      <td>2</td>\n",
       "      <td>Myles, Mr. Thomas Francis</td>\n",
       "      <td>male</td>\n",
       "      <td>62.0</td>\n",
       "      <td>0</td>\n",
       "      <td>0</td>\n",
       "      <td>240276</td>\n",
       "      <td>9.6875</td>\n",
       "      <td>NaN</td>\n",
       "      <td>Q</td>\n",
       "    </tr>\n",
       "    <tr>\n",
       "      <th>3</th>\n",
       "      <td>895</td>\n",
       "      <td>3</td>\n",
       "      <td>Wirz, Mr. Albert</td>\n",
       "      <td>male</td>\n",
       "      <td>27.0</td>\n",
       "      <td>0</td>\n",
       "      <td>0</td>\n",
       "      <td>315154</td>\n",
       "      <td>8.6625</td>\n",
       "      <td>NaN</td>\n",
       "      <td>S</td>\n",
       "    </tr>\n",
       "    <tr>\n",
       "      <th>4</th>\n",
       "      <td>896</td>\n",
       "      <td>3</td>\n",
       "      <td>Hirvonen, Mrs. Alexander (Helga E Lindqvist)</td>\n",
       "      <td>female</td>\n",
       "      <td>22.0</td>\n",
       "      <td>1</td>\n",
       "      <td>1</td>\n",
       "      <td>3101298</td>\n",
       "      <td>12.2875</td>\n",
       "      <td>NaN</td>\n",
       "      <td>S</td>\n",
       "    </tr>\n",
       "  </tbody>\n",
       "</table>\n",
       "</div>"
      ],
      "text/plain": [
       "   PassengerId  Pclass                                          Name     Sex  \\\n",
       "0          892       3                              Kelly, Mr. James    male   \n",
       "1          893       3              Wilkes, Mrs. James (Ellen Needs)  female   \n",
       "2          894       2                     Myles, Mr. Thomas Francis    male   \n",
       "3          895       3                              Wirz, Mr. Albert    male   \n",
       "4          896       3  Hirvonen, Mrs. Alexander (Helga E Lindqvist)  female   \n",
       "\n",
       "    Age  SibSp  Parch   Ticket     Fare Cabin Embarked  \n",
       "0  34.5      0      0   330911   7.8292   NaN        Q  \n",
       "1  47.0      1      0   363272   7.0000   NaN        S  \n",
       "2  62.0      0      0   240276   9.6875   NaN        Q  \n",
       "3  27.0      0      0   315154   8.6625   NaN        S  \n",
       "4  22.0      1      1  3101298  12.2875   NaN        S  "
      ]
     },
     "execution_count": 7,
     "metadata": {},
     "output_type": "execute_result"
    }
   ],
   "source": [
    "test.head()"
   ]
  },
  {
   "cell_type": "code",
   "execution_count": 8,
   "metadata": {},
   "outputs": [
    {
     "data": {
      "text/plain": [
       "418"
      ]
     },
     "execution_count": 8,
     "metadata": {},
     "output_type": "execute_result"
    }
   ],
   "source": [
    "len(test)"
   ]
  },
  {
   "cell_type": "code",
   "execution_count": 9,
   "metadata": {},
   "outputs": [
    {
     "data": {
      "text/html": [
       "<div>\n",
       "<style scoped>\n",
       "    .dataframe tbody tr th:only-of-type {\n",
       "        vertical-align: middle;\n",
       "    }\n",
       "\n",
       "    .dataframe tbody tr th {\n",
       "        vertical-align: top;\n",
       "    }\n",
       "\n",
       "    .dataframe thead th {\n",
       "        text-align: right;\n",
       "    }\n",
       "</style>\n",
       "<table border=\"1\" class=\"dataframe\">\n",
       "  <thead>\n",
       "    <tr style=\"text-align: right;\">\n",
       "      <th></th>\n",
       "      <th>PassengerId</th>\n",
       "      <th>Pclass</th>\n",
       "      <th>Age</th>\n",
       "      <th>SibSp</th>\n",
       "      <th>Parch</th>\n",
       "      <th>Fare</th>\n",
       "    </tr>\n",
       "  </thead>\n",
       "  <tbody>\n",
       "    <tr>\n",
       "      <th>count</th>\n",
       "      <td>418.000000</td>\n",
       "      <td>418.000000</td>\n",
       "      <td>332.000000</td>\n",
       "      <td>418.000000</td>\n",
       "      <td>418.000000</td>\n",
       "      <td>417.000000</td>\n",
       "    </tr>\n",
       "    <tr>\n",
       "      <th>mean</th>\n",
       "      <td>1100.500000</td>\n",
       "      <td>2.265550</td>\n",
       "      <td>30.272590</td>\n",
       "      <td>0.447368</td>\n",
       "      <td>0.392344</td>\n",
       "      <td>35.627188</td>\n",
       "    </tr>\n",
       "    <tr>\n",
       "      <th>std</th>\n",
       "      <td>120.810458</td>\n",
       "      <td>0.841838</td>\n",
       "      <td>14.181209</td>\n",
       "      <td>0.896760</td>\n",
       "      <td>0.981429</td>\n",
       "      <td>55.907576</td>\n",
       "    </tr>\n",
       "    <tr>\n",
       "      <th>min</th>\n",
       "      <td>892.000000</td>\n",
       "      <td>1.000000</td>\n",
       "      <td>0.170000</td>\n",
       "      <td>0.000000</td>\n",
       "      <td>0.000000</td>\n",
       "      <td>0.000000</td>\n",
       "    </tr>\n",
       "    <tr>\n",
       "      <th>25%</th>\n",
       "      <td>996.250000</td>\n",
       "      <td>1.000000</td>\n",
       "      <td>21.000000</td>\n",
       "      <td>0.000000</td>\n",
       "      <td>0.000000</td>\n",
       "      <td>7.895800</td>\n",
       "    </tr>\n",
       "    <tr>\n",
       "      <th>50%</th>\n",
       "      <td>1100.500000</td>\n",
       "      <td>3.000000</td>\n",
       "      <td>27.000000</td>\n",
       "      <td>0.000000</td>\n",
       "      <td>0.000000</td>\n",
       "      <td>14.454200</td>\n",
       "    </tr>\n",
       "    <tr>\n",
       "      <th>75%</th>\n",
       "      <td>1204.750000</td>\n",
       "      <td>3.000000</td>\n",
       "      <td>39.000000</td>\n",
       "      <td>1.000000</td>\n",
       "      <td>0.000000</td>\n",
       "      <td>31.500000</td>\n",
       "    </tr>\n",
       "    <tr>\n",
       "      <th>max</th>\n",
       "      <td>1309.000000</td>\n",
       "      <td>3.000000</td>\n",
       "      <td>76.000000</td>\n",
       "      <td>8.000000</td>\n",
       "      <td>9.000000</td>\n",
       "      <td>512.329200</td>\n",
       "    </tr>\n",
       "  </tbody>\n",
       "</table>\n",
       "</div>"
      ],
      "text/plain": [
       "       PassengerId      Pclass         Age       SibSp       Parch        Fare\n",
       "count   418.000000  418.000000  332.000000  418.000000  418.000000  417.000000\n",
       "mean   1100.500000    2.265550   30.272590    0.447368    0.392344   35.627188\n",
       "std     120.810458    0.841838   14.181209    0.896760    0.981429   55.907576\n",
       "min     892.000000    1.000000    0.170000    0.000000    0.000000    0.000000\n",
       "25%     996.250000    1.000000   21.000000    0.000000    0.000000    7.895800\n",
       "50%    1100.500000    3.000000   27.000000    0.000000    0.000000   14.454200\n",
       "75%    1204.750000    3.000000   39.000000    1.000000    0.000000   31.500000\n",
       "max    1309.000000    3.000000   76.000000    8.000000    9.000000  512.329200"
      ]
     },
     "execution_count": 9,
     "metadata": {},
     "output_type": "execute_result"
    }
   ],
   "source": [
    "test.describe()"
   ]
  },
  {
   "cell_type": "code",
   "execution_count": 10,
   "metadata": {},
   "outputs": [
    {
     "name": "stdout",
     "output_type": "stream",
     "text": [
      "<class 'pandas.core.frame.DataFrame'>\n",
      "RangeIndex: 418 entries, 0 to 417\n",
      "Data columns (total 11 columns):\n",
      " #   Column       Non-Null Count  Dtype  \n",
      "---  ------       --------------  -----  \n",
      " 0   PassengerId  418 non-null    int64  \n",
      " 1   Pclass       418 non-null    int64  \n",
      " 2   Name         418 non-null    object \n",
      " 3   Sex          418 non-null    object \n",
      " 4   Age          332 non-null    float64\n",
      " 5   SibSp        418 non-null    int64  \n",
      " 6   Parch        418 non-null    int64  \n",
      " 7   Ticket       418 non-null    object \n",
      " 8   Fare         417 non-null    float64\n",
      " 9   Cabin        91 non-null     object \n",
      " 10  Embarked     418 non-null    object \n",
      "dtypes: float64(2), int64(4), object(5)\n",
      "memory usage: 36.0+ KB\n"
     ]
    }
   ],
   "source": [
    "# Datatype and info about test dataframe\n",
    "test.info()"
   ]
  },
  {
   "cell_type": "code",
   "execution_count": 11,
   "metadata": {},
   "outputs": [
    {
     "data": {
      "text/html": [
       "<div>\n",
       "<style scoped>\n",
       "    .dataframe tbody tr th:only-of-type {\n",
       "        vertical-align: middle;\n",
       "    }\n",
       "\n",
       "    .dataframe tbody tr th {\n",
       "        vertical-align: top;\n",
       "    }\n",
       "\n",
       "    .dataframe thead th {\n",
       "        text-align: right;\n",
       "    }\n",
       "</style>\n",
       "<table border=\"1\" class=\"dataframe\">\n",
       "  <thead>\n",
       "    <tr style=\"text-align: right;\">\n",
       "      <th></th>\n",
       "      <th>PassengerId</th>\n",
       "      <th>Survived</th>\n",
       "    </tr>\n",
       "  </thead>\n",
       "  <tbody>\n",
       "    <tr>\n",
       "      <th>0</th>\n",
       "      <td>892</td>\n",
       "      <td>0</td>\n",
       "    </tr>\n",
       "    <tr>\n",
       "      <th>1</th>\n",
       "      <td>893</td>\n",
       "      <td>1</td>\n",
       "    </tr>\n",
       "    <tr>\n",
       "      <th>2</th>\n",
       "      <td>894</td>\n",
       "      <td>0</td>\n",
       "    </tr>\n",
       "    <tr>\n",
       "      <th>3</th>\n",
       "      <td>895</td>\n",
       "      <td>0</td>\n",
       "    </tr>\n",
       "    <tr>\n",
       "      <th>4</th>\n",
       "      <td>896</td>\n",
       "      <td>1</td>\n",
       "    </tr>\n",
       "  </tbody>\n",
       "</table>\n",
       "</div>"
      ],
      "text/plain": [
       "   PassengerId  Survived\n",
       "0          892         0\n",
       "1          893         1\n",
       "2          894         0\n",
       "3          895         0\n",
       "4          896         1"
      ]
     },
     "execution_count": 11,
     "metadata": {},
     "output_type": "execute_result"
    }
   ],
   "source": [
    "gender_submission.head()"
   ]
  },
  {
   "cell_type": "code",
   "execution_count": 12,
   "metadata": {},
   "outputs": [
    {
     "data": {
      "text/plain": [
       "418"
      ]
     },
     "execution_count": 12,
     "metadata": {},
     "output_type": "execute_result"
    }
   ],
   "source": [
    "len(gender_submission)"
   ]
  },
  {
   "cell_type": "markdown",
   "metadata": {},
   "source": [
    "## Missing Values"
   ]
  },
  {
   "cell_type": "code",
   "execution_count": 13,
   "metadata": {},
   "outputs": [
    {
     "data": {
      "text/plain": [
       "PassengerId      0\n",
       "Survived         0\n",
       "Pclass           0\n",
       "Name             0\n",
       "Sex              0\n",
       "Age            177\n",
       "SibSp            0\n",
       "Parch            0\n",
       "Ticket           0\n",
       "Fare             0\n",
       "Cabin          687\n",
       "Embarked         2\n",
       "dtype: int64"
      ]
     },
     "execution_count": 13,
     "metadata": {},
     "output_type": "execute_result"
    }
   ],
   "source": [
    "# Counting the no. of missing values \n",
    "train.isnull().sum()"
   ]
  },
  {
   "cell_type": "code",
   "execution_count": 14,
   "metadata": {},
   "outputs": [
    {
     "data": {
      "image/png": "[encoded data removed]",
      "text/plain": [
       "<Figure size 910x390 with 2 Axes>"
      ]
     },
     "metadata": {
      "needs_background": "light"
     },
     "output_type": "display_data"
    }
   ],
   "source": [
    "# Visualisng the missing values\n",
    "plt.figure(figsize = (7,3), dpi = 130)\n",
    "ax = sns.heatmap(train.isnull(), cmap = \"Oranges\")\n",
    "\n",
    "\n",
    "tick = [train['PassengerId'].min(), train['PassengerId'].max()]\n",
    "plt.yticks(tick,tick, fontsize = 7)\n",
    "plt.xticks(fontsize = 7)\n",
    "\n",
    "for i in range(train.shape[1]+1):\n",
    "    ax.axvline(i, color='white', lw = 2)\n",
    "\n",
    "plt.show()"
   ]
  },
  {
   "cell_type": "markdown",
   "metadata": {},
   "source": [
    "We see that we are missing almost 20% data in Age column and almost 80% data in Cabin column. So its best to drop the cabin column later in our analysis or change it to \"Cabin known or unknown\"."
   ]
  },
  {
   "cell_type": "markdown",
   "metadata": {},
   "source": [
    "## Univariate analysis"
   ]
  },
  {
   "cell_type": "markdown",
   "metadata": {},
   "source": [
    "### Creating a function to create countplot"
   ]
  },
  {
   "cell_type": "code",
   "execution_count": 15,
   "metadata": {},
   "outputs": [],
   "source": [
    "def plot_count(target_column, data, hue=None, palette=None, color=None, dpi=None, figsize=(6, 6)):\n",
    "    plt.figure(figsize=figsize, dpi=dpi)\n",
    "    sns.set_style('darkgrid')\n",
    "    sns.countplot(x=target_column, data=data, hue=hue, palette=palette, color=color)\n",
    "    plt.show()"
   ]
  },
  {
   "cell_type": "markdown",
   "metadata": {},
   "source": [
    "## Feature : Survived"
   ]
  },
  {
   "cell_type": "markdown",
   "metadata": {},
   "source": [
    "Description: Whether the passenger survived or not."
   ]
  },
  {
   "cell_type": "markdown",
   "metadata": {},
   "source": [
    "Key: 0 = did not survive, 1 = survived"
   ]
  },
  {
   "cell_type": "markdown",
   "metadata": {},
   "source": [
    "This is the variable we want our machine learning model to predict based off all the others."
   ]
  },
  {
   "cell_type": "markdown",
   "metadata": {},
   "source": [
    "### Of all the people in training set how many survived and how many died ?"
   ]
  },
  {
   "cell_type": "code",
   "execution_count": 16,
   "metadata": {
    "scrolled": false
   },
   "outputs": [
    {
     "data": {
      "text/html": [
       "<div>\n",
       "<style scoped>\n",
       "    .dataframe tbody tr th:only-of-type {\n",
       "        vertical-align: middle;\n",
       "    }\n",
       "\n",
       "    .dataframe tbody tr th {\n",
       "        vertical-align: top;\n",
       "    }\n",
       "\n",
       "    .dataframe thead th {\n",
       "        text-align: right;\n",
       "    }\n",
       "</style>\n",
       "<table border=\"1\" class=\"dataframe\">\n",
       "  <thead>\n",
       "    <tr style=\"text-align: right;\">\n",
       "      <th></th>\n",
       "      <th>PassengerId</th>\n",
       "      <th>Survived</th>\n",
       "      <th>Pclass</th>\n",
       "      <th>Name</th>\n",
       "      <th>Sex</th>\n",
       "      <th>Age</th>\n",
       "      <th>SibSp</th>\n",
       "      <th>Parch</th>\n",
       "      <th>Ticket</th>\n",
       "      <th>Fare</th>\n",
       "      <th>Cabin</th>\n",
       "      <th>Embarked</th>\n",
       "    </tr>\n",
       "  </thead>\n",
       "  <tbody>\n",
       "    <tr>\n",
       "      <th>0</th>\n",
       "      <td>1</td>\n",
       "      <td>0</td>\n",
       "      <td>3</td>\n",
       "      <td>Braund, Mr. Owen Harris</td>\n",
       "      <td>male</td>\n",
       "      <td>22.0</td>\n",
       "      <td>1</td>\n",
       "      <td>0</td>\n",
       "      <td>A/5 21171</td>\n",
       "      <td>7.2500</td>\n",
       "      <td>NaN</td>\n",
       "      <td>S</td>\n",
       "    </tr>\n",
       "    <tr>\n",
       "      <th>1</th>\n",
       "      <td>2</td>\n",
       "      <td>1</td>\n",
       "      <td>1</td>\n",
       "      <td>Cumings, Mrs. John Bradley (Florence Briggs Th...</td>\n",
       "      <td>female</td>\n",
       "      <td>38.0</td>\n",
       "      <td>1</td>\n",
       "      <td>0</td>\n",
       "      <td>PC 17599</td>\n",
       "      <td>71.2833</td>\n",
       "      <td>C85</td>\n",
       "      <td>C</td>\n",
       "    </tr>\n",
       "    <tr>\n",
       "      <th>2</th>\n",
       "      <td>3</td>\n",
       "      <td>1</td>\n",
       "      <td>3</td>\n",
       "      <td>Heikkinen, Miss. Laina</td>\n",
       "      <td>female</td>\n",
       "      <td>26.0</td>\n",
       "      <td>0</td>\n",
       "      <td>0</td>\n",
       "      <td>STON/O2. 3101282</td>\n",
       "      <td>7.9250</td>\n",
       "      <td>NaN</td>\n",
       "      <td>S</td>\n",
       "    </tr>\n",
       "    <tr>\n",
       "      <th>3</th>\n",
       "      <td>4</td>\n",
       "      <td>1</td>\n",
       "      <td>1</td>\n",
       "      <td>Futrelle, Mrs. Jacques Heath (Lily May Peel)</td>\n",
       "      <td>female</td>\n",
       "      <td>35.0</td>\n",
       "      <td>1</td>\n",
       "      <td>0</td>\n",
       "      <td>113803</td>\n",
       "      <td>53.1000</td>\n",
       "      <td>C123</td>\n",
       "      <td>S</td>\n",
       "    </tr>\n",
       "    <tr>\n",
       "      <th>4</th>\n",
       "      <td>5</td>\n",
       "      <td>0</td>\n",
       "      <td>3</td>\n",
       "      <td>Allen, Mr. William Henry</td>\n",
       "      <td>male</td>\n",
       "      <td>35.0</td>\n",
       "      <td>0</td>\n",
       "      <td>0</td>\n",
       "      <td>373450</td>\n",
       "      <td>8.0500</td>\n",
       "      <td>NaN</td>\n",
       "      <td>S</td>\n",
       "    </tr>\n",
       "  </tbody>\n",
       "</table>\n",
       "</div>"
      ],
      "text/plain": [
       "   PassengerId  Survived  Pclass  \\\n",
       "0            1         0       3   \n",
       "1            2         1       1   \n",
       "2            3         1       3   \n",
       "3            4         1       1   \n",
       "4            5         0       3   \n",
       "\n",
       "                                                Name     Sex   Age  SibSp  \\\n",
       "0                            Braund, Mr. Owen Harris    male  22.0      1   \n",
       "1  Cumings, Mrs. John Bradley (Florence Briggs Th...  female  38.0      1   \n",
       "2                             Heikkinen, Miss. Laina  female  26.0      0   \n",
       "3       Futrelle, Mrs. Jacques Heath (Lily May Peel)  female  35.0      1   \n",
       "4                           Allen, Mr. William Henry    male  35.0      0   \n",
       "\n",
       "   Parch            Ticket     Fare Cabin Embarked  \n",
       "0      0         A/5 21171   7.2500   NaN        S  \n",
       "1      0          PC 17599  71.2833   C85        C  \n",
       "2      0  STON/O2. 3101282   7.9250   NaN        S  \n",
       "3      0            113803  53.1000  C123        S  \n",
       "4      0            373450   8.0500   NaN        S  "
      ]
     },
     "execution_count": 16,
     "metadata": {},
     "output_type": "execute_result"
    }
   ],
   "source": [
    "train.head()"
   ]
  },
  {
   "cell_type": "code",
   "execution_count": 17,
   "metadata": {},
   "outputs": [
    {
     "data": {
      "text/plain": [
       "0    549\n",
       "1    342\n",
       "Name: Survived, dtype: int64"
      ]
     },
     "execution_count": 17,
     "metadata": {},
     "output_type": "execute_result"
    }
   ],
   "source": [
    "# How many people survived\n",
    "train[\"Survived\"].value_counts()"
   ]
  },
  {
   "cell_type": "code",
   "execution_count": 18,
   "metadata": {},
   "outputs": [
    {
     "data": {
      "image/png": "[encoded data removed]",
      "text/plain": [
       "<Figure size 360x432 with 1 Axes>"
      ]
     },
     "metadata": {
      "needs_background": "light"
     },
     "output_type": "display_data"
    }
   ],
   "source": [
    "# Visualising how many people survived\n",
    "plot_count(\"Survived\", train, figsize=(5,6), palette=\"rainbow\")"
   ]
  },
  {
   "cell_type": "markdown",
   "metadata": {},
   "source": [
    "## Feature: Pclass"
   ]
  },
  {
   "cell_type": "markdown",
   "metadata": {},
   "source": [
    "Description: The ticket class of the passenger."
   ]
  },
  {
   "cell_type": "markdown",
   "metadata": {},
   "source": [
    "Key: 1 = 1st Class, 2 = 2nd Class, 3 = 3rd Class"
   ]
  },
  {
   "cell_type": "markdown",
   "metadata": {},
   "source": [
    "### How many passengers in each Pclass ?"
   ]
  },
  {
   "cell_type": "code",
   "execution_count": 19,
   "metadata": {},
   "outputs": [
    {
     "data": {
      "image/png": "[encoded data removed]",
      "text/plain": [
       "<Figure size 432x432 with 1 Axes>"
      ]
     },
     "metadata": {},
     "output_type": "display_data"
    }
   ],
   "source": [
    "# Count the no. of passengers in different classes \n",
    "plot_count(\"Pclass\", train, color=\"#ff6666\")"
   ]
  },
  {
   "cell_type": "markdown",
   "metadata": {},
   "source": [
    "We see that there were a lot of passengers who belonged to 3rd class"
   ]
  },
  {
   "cell_type": "markdown",
   "metadata": {},
   "source": [
    "## Feature: Name"
   ]
  },
  {
   "cell_type": "markdown",
   "metadata": {},
   "source": [
    "Description: The name of the passenger."
   ]
  },
  {
   "cell_type": "code",
   "execution_count": 20,
   "metadata": {},
   "outputs": [
    {
     "data": {
      "text/html": [
       "<div>\n",
       "<style scoped>\n",
       "    .dataframe tbody tr th:only-of-type {\n",
       "        vertical-align: middle;\n",
       "    }\n",
       "\n",
       "    .dataframe tbody tr th {\n",
       "        vertical-align: top;\n",
       "    }\n",
       "\n",
       "    .dataframe thead th {\n",
       "        text-align: right;\n",
       "    }\n",
       "</style>\n",
       "<table border=\"1\" class=\"dataframe\">\n",
       "  <thead>\n",
       "    <tr style=\"text-align: right;\">\n",
       "      <th></th>\n",
       "      <th>PassengerId</th>\n",
       "      <th>Survived</th>\n",
       "      <th>Pclass</th>\n",
       "      <th>Name</th>\n",
       "      <th>Sex</th>\n",
       "      <th>Age</th>\n",
       "      <th>SibSp</th>\n",
       "      <th>Parch</th>\n",
       "      <th>Ticket</th>\n",
       "      <th>Fare</th>\n",
       "      <th>Cabin</th>\n",
       "      <th>Embarked</th>\n",
       "    </tr>\n",
       "  </thead>\n",
       "  <tbody>\n",
       "    <tr>\n",
       "      <th>0</th>\n",
       "      <td>1</td>\n",
       "      <td>0</td>\n",
       "      <td>3</td>\n",
       "      <td>Braund, Mr. Owen Harris</td>\n",
       "      <td>male</td>\n",
       "      <td>22.0</td>\n",
       "      <td>1</td>\n",
       "      <td>0</td>\n",
       "      <td>A/5 21171</td>\n",
       "      <td>7.2500</td>\n",
       "      <td>NaN</td>\n",
       "      <td>S</td>\n",
       "    </tr>\n",
       "    <tr>\n",
       "      <th>1</th>\n",
       "      <td>2</td>\n",
       "      <td>1</td>\n",
       "      <td>1</td>\n",
       "      <td>Cumings, Mrs. John Bradley (Florence Briggs Th...</td>\n",
       "      <td>female</td>\n",
       "      <td>38.0</td>\n",
       "      <td>1</td>\n",
       "      <td>0</td>\n",
       "      <td>PC 17599</td>\n",
       "      <td>71.2833</td>\n",
       "      <td>C85</td>\n",
       "      <td>C</td>\n",
       "    </tr>\n",
       "    <tr>\n",
       "      <th>2</th>\n",
       "      <td>3</td>\n",
       "      <td>1</td>\n",
       "      <td>3</td>\n",
       "      <td>Heikkinen, Miss. Laina</td>\n",
       "      <td>female</td>\n",
       "      <td>26.0</td>\n",
       "      <td>0</td>\n",
       "      <td>0</td>\n",
       "      <td>STON/O2. 3101282</td>\n",
       "      <td>7.9250</td>\n",
       "      <td>NaN</td>\n",
       "      <td>S</td>\n",
       "    </tr>\n",
       "    <tr>\n",
       "      <th>3</th>\n",
       "      <td>4</td>\n",
       "      <td>1</td>\n",
       "      <td>1</td>\n",
       "      <td>Futrelle, Mrs. Jacques Heath (Lily May Peel)</td>\n",
       "      <td>female</td>\n",
       "      <td>35.0</td>\n",
       "      <td>1</td>\n",
       "      <td>0</td>\n",
       "      <td>113803</td>\n",
       "      <td>53.1000</td>\n",
       "      <td>C123</td>\n",
       "      <td>S</td>\n",
       "    </tr>\n",
       "    <tr>\n",
       "      <th>4</th>\n",
       "      <td>5</td>\n",
       "      <td>0</td>\n",
       "      <td>3</td>\n",
       "      <td>Allen, Mr. William Henry</td>\n",
       "      <td>male</td>\n",
       "      <td>35.0</td>\n",
       "      <td>0</td>\n",
       "      <td>0</td>\n",
       "      <td>373450</td>\n",
       "      <td>8.0500</td>\n",
       "      <td>NaN</td>\n",
       "      <td>S</td>\n",
       "    </tr>\n",
       "  </tbody>\n",
       "</table>\n",
       "</div>"
      ],
      "text/plain": [
       "   PassengerId  Survived  Pclass  \\\n",
       "0            1         0       3   \n",
       "1            2         1       1   \n",
       "2            3         1       3   \n",
       "3            4         1       1   \n",
       "4            5         0       3   \n",
       "\n",
       "                                                Name     Sex   Age  SibSp  \\\n",
       "0                            Braund, Mr. Owen Harris    male  22.0      1   \n",
       "1  Cumings, Mrs. John Bradley (Florence Briggs Th...  female  38.0      1   \n",
       "2                             Heikkinen, Miss. Laina  female  26.0      0   \n",
       "3       Futrelle, Mrs. Jacques Heath (Lily May Peel)  female  35.0      1   \n",
       "4                           Allen, Mr. William Henry    male  35.0      0   \n",
       "\n",
       "   Parch            Ticket     Fare Cabin Embarked  \n",
       "0      0         A/5 21171   7.2500   NaN        S  \n",
       "1      0          PC 17599  71.2833   C85        C  \n",
       "2      0  STON/O2. 3101282   7.9250   NaN        S  \n",
       "3      0            113803  53.1000  C123        S  \n",
       "4      0            373450   8.0500   NaN        S  "
      ]
     },
     "execution_count": 20,
     "metadata": {},
     "output_type": "execute_result"
    }
   ],
   "source": [
    "train.head()"
   ]
  },
  {
   "cell_type": "code",
   "execution_count": 21,
   "metadata": {},
   "outputs": [
    {
     "data": {
      "text/plain": [
       "Shelley, Mrs. William (Imanita Parrish Hall)         1\n",
       "Harper, Mr. Henry Sleeper                            1\n",
       "Moubarek, Master. Halim Gonios (\"William George\")    1\n",
       "Dennis, Mr. Samuel                                   1\n",
       "Hamalainen, Mrs. William (Anna)                      1\n",
       "                                                    ..\n",
       "Thayer, Mr. John Borland                             1\n",
       "Dowdell, Miss. Elizabeth                             1\n",
       "Klaber, Mr. Herman                                   1\n",
       "Waelens, Mr. Achille                                 1\n",
       "O'Brien, Mr. Timothy                                 1\n",
       "Name: Name, Length: 891, dtype: int64"
      ]
     },
     "execution_count": 21,
     "metadata": {},
     "output_type": "execute_result"
    }
   ],
   "source": [
    "train[\"Name\"].value_counts()"
   ]
  },
  {
   "cell_type": "markdown",
   "metadata": {},
   "source": [
    "We see that every name occurs uniquely."
   ]
  },
  {
   "cell_type": "markdown",
   "metadata": {},
   "source": [
    "What we can do is extract a different titles from the names and create a new column based on it"
   ]
  },
  {
   "cell_type": "markdown",
   "metadata": {},
   "source": [
    "First we can see the different titles in the list"
   ]
  },
  {
   "cell_type": "code",
   "execution_count": 22,
   "metadata": {},
   "outputs": [
    {
     "name": "stdout",
     "output_type": "stream",
     "text": [
      "['the Countess', 'Mme', 'Capt', 'Mr', 'Miss', 'Dr', 'Sir', 'Jonkheer', 'Mrs', 'Mlle', 'Col', 'Master', 'Major', 'Lady', 'Ms', 'Rev', 'Don']\n"
     ]
    }
   ],
   "source": [
    "# Collecting different titles in the list\n",
    "names = []\n",
    "for name in train[\"Name\"]:\n",
    "    names.append(name.split(\",\")[1].split(\".\")[0].strip())\n",
    "names = list(set(names))\n",
    "print(names)"
   ]
  },
  {
   "cell_type": "markdown",
   "metadata": {},
   "source": [
    "Now making column for the titles"
   ]
  },
  {
   "cell_type": "code",
   "execution_count": 23,
   "metadata": {},
   "outputs": [
    {
     "data": {
      "text/html": [
       "<div>\n",
       "<style scoped>\n",
       "    .dataframe tbody tr th:only-of-type {\n",
       "        vertical-align: middle;\n",
       "    }\n",
       "\n",
       "    .dataframe tbody tr th {\n",
       "        vertical-align: top;\n",
       "    }\n",
       "\n",
       "    .dataframe thead th {\n",
       "        text-align: right;\n",
       "    }\n",
       "</style>\n",
       "<table border=\"1\" class=\"dataframe\">\n",
       "  <thead>\n",
       "    <tr style=\"text-align: right;\">\n",
       "      <th></th>\n",
       "      <th>PassengerId</th>\n",
       "      <th>Pclass</th>\n",
       "      <th>Name</th>\n",
       "      <th>Sex</th>\n",
       "      <th>Age</th>\n",
       "      <th>SibSp</th>\n",
       "      <th>Parch</th>\n",
       "      <th>Ticket</th>\n",
       "      <th>Fare</th>\n",
       "      <th>Cabin</th>\n",
       "      <th>Embarked</th>\n",
       "      <th>Title</th>\n",
       "    </tr>\n",
       "  </thead>\n",
       "  <tbody>\n",
       "    <tr>\n",
       "      <th>0</th>\n",
       "      <td>892</td>\n",
       "      <td>3</td>\n",
       "      <td>Kelly, Mr. James</td>\n",
       "      <td>male</td>\n",
       "      <td>34.5</td>\n",
       "      <td>0</td>\n",
       "      <td>0</td>\n",
       "      <td>330911</td>\n",
       "      <td>7.8292</td>\n",
       "      <td>NaN</td>\n",
       "      <td>Q</td>\n",
       "      <td>Mr</td>\n",
       "    </tr>\n",
       "    <tr>\n",
       "      <th>1</th>\n",
       "      <td>893</td>\n",
       "      <td>3</td>\n",
       "      <td>Wilkes, Mrs. James (Ellen Needs)</td>\n",
       "      <td>female</td>\n",
       "      <td>47.0</td>\n",
       "      <td>1</td>\n",
       "      <td>0</td>\n",
       "      <td>363272</td>\n",
       "      <td>7.0000</td>\n",
       "      <td>NaN</td>\n",
       "      <td>S</td>\n",
       "      <td>Mrs</td>\n",
       "    </tr>\n",
       "    <tr>\n",
       "      <th>2</th>\n",
       "      <td>894</td>\n",
       "      <td>2</td>\n",
       "      <td>Myles, Mr. Thomas Francis</td>\n",
       "      <td>male</td>\n",
       "      <td>62.0</td>\n",
       "      <td>0</td>\n",
       "      <td>0</td>\n",
       "      <td>240276</td>\n",
       "      <td>9.6875</td>\n",
       "      <td>NaN</td>\n",
       "      <td>Q</td>\n",
       "      <td>Mr</td>\n",
       "    </tr>\n",
       "    <tr>\n",
       "      <th>3</th>\n",
       "      <td>895</td>\n",
       "      <td>3</td>\n",
       "      <td>Wirz, Mr. Albert</td>\n",
       "      <td>male</td>\n",
       "      <td>27.0</td>\n",
       "      <td>0</td>\n",
       "      <td>0</td>\n",
       "      <td>315154</td>\n",
       "      <td>8.6625</td>\n",
       "      <td>NaN</td>\n",
       "      <td>S</td>\n",
       "      <td>Mr</td>\n",
       "    </tr>\n",
       "    <tr>\n",
       "      <th>4</th>\n",
       "      <td>896</td>\n",
       "      <td>3</td>\n",
       "      <td>Hirvonen, Mrs. Alexander (Helga E Lindqvist)</td>\n",
       "      <td>female</td>\n",
       "      <td>22.0</td>\n",
       "      <td>1</td>\n",
       "      <td>1</td>\n",
       "      <td>3101298</td>\n",
       "      <td>12.2875</td>\n",
       "      <td>NaN</td>\n",
       "      <td>S</td>\n",
       "      <td>Mrs</td>\n",
       "    </tr>\n",
       "  </tbody>\n",
       "</table>\n",
       "</div>"
      ],
      "text/plain": [
       "   PassengerId  Pclass                                          Name     Sex  \\\n",
       "0          892       3                              Kelly, Mr. James    male   \n",
       "1          893       3              Wilkes, Mrs. James (Ellen Needs)  female   \n",
       "2          894       2                     Myles, Mr. Thomas Francis    male   \n",
       "3          895       3                              Wirz, Mr. Albert    male   \n",
       "4          896       3  Hirvonen, Mrs. Alexander (Helga E Lindqvist)  female   \n",
       "\n",
       "    Age  SibSp  Parch   Ticket     Fare Cabin Embarked Title  \n",
       "0  34.5      0      0   330911   7.8292   NaN        Q    Mr  \n",
       "1  47.0      1      0   363272   7.0000   NaN        S   Mrs  \n",
       "2  62.0      0      0   240276   9.6875   NaN        Q    Mr  \n",
       "3  27.0      0      0   315154   8.6625   NaN        S    Mr  \n",
       "4  22.0      1      1  3101298  12.2875   NaN        S   Mrs  "
      ]
     },
     "execution_count": 23,
     "metadata": {},
     "output_type": "execute_result"
    }
   ],
   "source": [
    "train[\"Title\"] = train.Name.apply(lambda name: name.split(\",\")[1].split(\".\")[0].strip())\n",
    "test[\"Title\"] = test.Name.apply(lambda name: name.split(\",\")[1].split(\".\")[0].strip())\n",
    "\n",
    "test.head()"
   ]
  },
  {
   "cell_type": "markdown",
   "metadata": {},
   "source": [
    "So we can drop the name column in our prediction and replace it with Title column instead."
   ]
  },
  {
   "cell_type": "code",
   "execution_count": 24,
   "metadata": {},
   "outputs": [
    {
     "data": {
      "text/plain": [
       "Mr              517\n",
       "Miss            182\n",
       "Mrs             125\n",
       "Master           40\n",
       "Dr                7\n",
       "Rev               6\n",
       "Major             2\n",
       "Mlle              2\n",
       "Col               2\n",
       "Capt              1\n",
       "Mme               1\n",
       "Ms                1\n",
       "the Countess      1\n",
       "Jonkheer          1\n",
       "Don               1\n",
       "Sir               1\n",
       "Lady              1\n",
       "Name: Title, dtype: int64"
      ]
     },
     "execution_count": 24,
     "metadata": {},
     "output_type": "execute_result"
    }
   ],
   "source": [
    "train[\"Title\"].value_counts()"
   ]
  },
  {
   "cell_type": "markdown",
   "metadata": {},
   "source": [
    "Additionaly we can also replace title with royalty based on the titles of people"
   ]
  },
  {
   "cell_type": "markdown",
   "metadata": {},
   "source": [
    "## Feature: Sex"
   ]
  },
  {
   "cell_type": "markdown",
   "metadata": {},
   "source": [
    "Description: The sex of the passenger (male or female)"
   ]
  },
  {
   "cell_type": "code",
   "execution_count": 25,
   "metadata": {},
   "outputs": [
    {
     "data": {
      "text/plain": [
       "male      577\n",
       "female    314\n",
       "Name: Sex, dtype: int64"
      ]
     },
     "execution_count": 25,
     "metadata": {},
     "output_type": "execute_result"
    }
   ],
   "source": [
    "# No. of males and females\n",
    "train[\"Sex\"].value_counts()"
   ]
  },
  {
   "cell_type": "code",
   "execution_count": 26,
   "metadata": {},
   "outputs": [
    {
     "data": {
      "image/png": "[encoded data removed]",
      "text/plain": [
       "<Figure size 400x500 with 1 Axes>"
      ]
     },
     "metadata": {},
     "output_type": "display_data"
    }
   ],
   "source": [
    "# Visualisng No of males and females\n",
    "plot_count(\"Sex\", train, figsize=(4,5), dpi=100)"
   ]
  },
  {
   "cell_type": "markdown",
   "metadata": {},
   "source": [
    "## Feature: Age"
   ]
  },
  {
   "cell_type": "markdown",
   "metadata": {},
   "source": [
    "Description: Tells age of passenger "
   ]
  },
  {
   "cell_type": "code",
   "execution_count": 27,
   "metadata": {},
   "outputs": [
    {
     "data": {
      "text/html": [
       "<div>\n",
       "<style scoped>\n",
       "    .dataframe tbody tr th:only-of-type {\n",
       "        vertical-align: middle;\n",
       "    }\n",
       "\n",
       "    .dataframe tbody tr th {\n",
       "        vertical-align: top;\n",
       "    }\n",
       "\n",
       "    .dataframe thead th {\n",
       "        text-align: right;\n",
       "    }\n",
       "</style>\n",
       "<table border=\"1\" class=\"dataframe\">\n",
       "  <thead>\n",
       "    <tr style=\"text-align: right;\">\n",
       "      <th></th>\n",
       "      <th>PassengerId</th>\n",
       "      <th>Survived</th>\n",
       "      <th>Pclass</th>\n",
       "      <th>Name</th>\n",
       "      <th>Sex</th>\n",
       "      <th>Age</th>\n",
       "      <th>SibSp</th>\n",
       "      <th>Parch</th>\n",
       "      <th>Ticket</th>\n",
       "      <th>Fare</th>\n",
       "      <th>Cabin</th>\n",
       "      <th>Embarked</th>\n",
       "      <th>Title</th>\n",
       "    </tr>\n",
       "  </thead>\n",
       "  <tbody>\n",
       "    <tr>\n",
       "      <th>0</th>\n",
       "      <td>1</td>\n",
       "      <td>0</td>\n",
       "      <td>3</td>\n",
       "      <td>Braund, Mr. Owen Harris</td>\n",
       "      <td>male</td>\n",
       "      <td>22.0</td>\n",
       "      <td>1</td>\n",
       "      <td>0</td>\n",
       "      <td>A/5 21171</td>\n",
       "      <td>7.2500</td>\n",
       "      <td>NaN</td>\n",
       "      <td>S</td>\n",
       "      <td>Mr</td>\n",
       "    </tr>\n",
       "    <tr>\n",
       "      <th>1</th>\n",
       "      <td>2</td>\n",
       "      <td>1</td>\n",
       "      <td>1</td>\n",
       "      <td>Cumings, Mrs. John Bradley (Florence Briggs Th...</td>\n",
       "      <td>female</td>\n",
       "      <td>38.0</td>\n",
       "      <td>1</td>\n",
       "      <td>0</td>\n",
       "      <td>PC 17599</td>\n",
       "      <td>71.2833</td>\n",
       "      <td>C85</td>\n",
       "      <td>C</td>\n",
       "      <td>Mrs</td>\n",
       "    </tr>\n",
       "    <tr>\n",
       "      <th>2</th>\n",
       "      <td>3</td>\n",
       "      <td>1</td>\n",
       "      <td>3</td>\n",
       "      <td>Heikkinen, Miss. Laina</td>\n",
       "      <td>female</td>\n",
       "      <td>26.0</td>\n",
       "      <td>0</td>\n",
       "      <td>0</td>\n",
       "      <td>STON/O2. 3101282</td>\n",
       "      <td>7.9250</td>\n",
       "      <td>NaN</td>\n",
       "      <td>S</td>\n",
       "      <td>Miss</td>\n",
       "    </tr>\n",
       "    <tr>\n",
       "      <th>3</th>\n",
       "      <td>4</td>\n",
       "      <td>1</td>\n",
       "      <td>1</td>\n",
       "      <td>Futrelle, Mrs. Jacques Heath (Lily May Peel)</td>\n",
       "      <td>female</td>\n",
       "      <td>35.0</td>\n",
       "      <td>1</td>\n",
       "      <td>0</td>\n",
       "      <td>113803</td>\n",
       "      <td>53.1000</td>\n",
       "      <td>C123</td>\n",
       "      <td>S</td>\n",
       "      <td>Mrs</td>\n",
       "    </tr>\n",
       "    <tr>\n",
       "      <th>4</th>\n",
       "      <td>5</td>\n",
       "      <td>0</td>\n",
       "      <td>3</td>\n",
       "      <td>Allen, Mr. William Henry</td>\n",
       "      <td>male</td>\n",
       "      <td>35.0</td>\n",
       "      <td>0</td>\n",
       "      <td>0</td>\n",
       "      <td>373450</td>\n",
       "      <td>8.0500</td>\n",
       "      <td>NaN</td>\n",
       "      <td>S</td>\n",
       "      <td>Mr</td>\n",
       "    </tr>\n",
       "  </tbody>\n",
       "</table>\n",
       "</div>"
      ],
      "text/plain": [
       "   PassengerId  Survived  Pclass  \\\n",
       "0            1         0       3   \n",
       "1            2         1       1   \n",
       "2            3         1       3   \n",
       "3            4         1       1   \n",
       "4            5         0       3   \n",
       "\n",
       "                                                Name     Sex   Age  SibSp  \\\n",
       "0                            Braund, Mr. Owen Harris    male  22.0      1   \n",
       "1  Cumings, Mrs. John Bradley (Florence Briggs Th...  female  38.0      1   \n",
       "2                             Heikkinen, Miss. Laina  female  26.0      0   \n",
       "3       Futrelle, Mrs. Jacques Heath (Lily May Peel)  female  35.0      1   \n",
       "4                           Allen, Mr. William Henry    male  35.0      0   \n",
       "\n",
       "   Parch            Ticket     Fare Cabin Embarked Title  \n",
       "0      0         A/5 21171   7.2500   NaN        S    Mr  \n",
       "1      0          PC 17599  71.2833   C85        C   Mrs  \n",
       "2      0  STON/O2. 3101282   7.9250   NaN        S  Miss  \n",
       "3      0            113803  53.1000  C123        S   Mrs  \n",
       "4      0            373450   8.0500   NaN        S    Mr  "
      ]
     },
     "execution_count": 27,
     "metadata": {},
     "output_type": "execute_result"
    }
   ],
   "source": [
    "train.head()"
   ]
  },
  {
   "cell_type": "code",
   "execution_count": 28,
   "metadata": {},
   "outputs": [
    {
     "data": {
      "text/plain": [
       "177"
      ]
     },
     "execution_count": 28,
     "metadata": {},
     "output_type": "execute_result"
    }
   ],
   "source": [
    "train.Age.isnull().sum()"
   ]
  },
  {
   "cell_type": "markdown",
   "metadata": {},
   "source": [
    "We see that we have some missing values in age columns. So we cant do much here.\n",
    "<br>\n",
    "Checking correlation of survived and age column:-"
   ]
  },
  {
   "cell_type": "code",
   "execution_count": 187,
   "metadata": {},
   "outputs": [
    {
     "name": "stdout",
     "output_type": "stream",
     "text": [
      "Oldest Passenger was of: 80.0 Years\n",
      "Youngest Passenger was of: 0.42 Years\n",
      "Average Age on the ship: 29.69911764705882 Years\n"
     ]
    }
   ],
   "source": [
    "print('Oldest Passenger was of:',train['Age'].max(),'Years')\n",
    "print('Youngest Passenger was of:',train['Age'].min(),'Years')\n",
    "print('Average Age on the ship:',train['Age'].mean(),'Years')"
   ]
  },
  {
   "cell_type": "code",
   "execution_count": 29,
   "metadata": {},
   "outputs": [
    {
     "data": {
      "text/plain": [
       "-0.07722109457217768"
      ]
     },
     "execution_count": 29,
     "metadata": {},
     "output_type": "execute_result"
    }
   ],
   "source": [
    "train[\"Survived\"].corr(train[\"Age\"])"
   ]
  },
  {
   "cell_type": "markdown",
   "metadata": {},
   "source": [
    "We see that we have a negative correlation i.e. You have a higher chance of death if you were older. We can create a bin for the known ages and predict survival rates based on it or we can replace the missing ages by median of ages\n",
    "<br>\n",
    "<br>\n",
    "For now we will bin the ages and create a new column based on it"
   ]
  },
  {
   "cell_type": "code",
   "execution_count": 30,
   "metadata": {},
   "outputs": [],
   "source": [
    "# Binning the ages\n",
    "bins = [0, 20, 40, 60, 100]\n",
    "labels =[1, 2, 3, 4]\n",
    "\n",
    "train[\"Age_Bin\"] = pd.cut(train[\"Age\"], bins=bins, labels=labels)\n",
    "test[\"Age_Bin\"] = pd.cut(test[\"Age\"], bins=bins, labels=labels)"
   ]
  },
  {
   "cell_type": "code",
   "execution_count": 31,
   "metadata": {},
   "outputs": [
    {
     "data": {
      "text/html": [
       "<div>\n",
       "<style scoped>\n",
       "    .dataframe tbody tr th:only-of-type {\n",
       "        vertical-align: middle;\n",
       "    }\n",
       "\n",
       "    .dataframe tbody tr th {\n",
       "        vertical-align: top;\n",
       "    }\n",
       "\n",
       "    .dataframe thead th {\n",
       "        text-align: right;\n",
       "    }\n",
       "</style>\n",
       "<table border=\"1\" class=\"dataframe\">\n",
       "  <thead>\n",
       "    <tr style=\"text-align: right;\">\n",
       "      <th></th>\n",
       "      <th>PassengerId</th>\n",
       "      <th>Pclass</th>\n",
       "      <th>Name</th>\n",
       "      <th>Sex</th>\n",
       "      <th>Age</th>\n",
       "      <th>SibSp</th>\n",
       "      <th>Parch</th>\n",
       "      <th>Ticket</th>\n",
       "      <th>Fare</th>\n",
       "      <th>Cabin</th>\n",
       "      <th>Embarked</th>\n",
       "      <th>Title</th>\n",
       "      <th>Age_Bin</th>\n",
       "    </tr>\n",
       "  </thead>\n",
       "  <tbody>\n",
       "    <tr>\n",
       "      <th>0</th>\n",
       "      <td>892</td>\n",
       "      <td>3</td>\n",
       "      <td>Kelly, Mr. James</td>\n",
       "      <td>male</td>\n",
       "      <td>34.5</td>\n",
       "      <td>0</td>\n",
       "      <td>0</td>\n",
       "      <td>330911</td>\n",
       "      <td>7.8292</td>\n",
       "      <td>NaN</td>\n",
       "      <td>Q</td>\n",
       "      <td>Mr</td>\n",
       "      <td>2</td>\n",
       "    </tr>\n",
       "    <tr>\n",
       "      <th>1</th>\n",
       "      <td>893</td>\n",
       "      <td>3</td>\n",
       "      <td>Wilkes, Mrs. James (Ellen Needs)</td>\n",
       "      <td>female</td>\n",
       "      <td>47.0</td>\n",
       "      <td>1</td>\n",
       "      <td>0</td>\n",
       "      <td>363272</td>\n",
       "      <td>7.0000</td>\n",
       "      <td>NaN</td>\n",
       "      <td>S</td>\n",
       "      <td>Mrs</td>\n",
       "      <td>3</td>\n",
       "    </tr>\n",
       "    <tr>\n",
       "      <th>2</th>\n",
       "      <td>894</td>\n",
       "      <td>2</td>\n",
       "      <td>Myles, Mr. Thomas Francis</td>\n",
       "      <td>male</td>\n",
       "      <td>62.0</td>\n",
       "      <td>0</td>\n",
       "      <td>0</td>\n",
       "      <td>240276</td>\n",
       "      <td>9.6875</td>\n",
       "      <td>NaN</td>\n",
       "      <td>Q</td>\n",
       "      <td>Mr</td>\n",
       "      <td>4</td>\n",
       "    </tr>\n",
       "    <tr>\n",
       "      <th>3</th>\n",
       "      <td>895</td>\n",
       "      <td>3</td>\n",
       "      <td>Wirz, Mr. Albert</td>\n",
       "      <td>male</td>\n",
       "      <td>27.0</td>\n",
       "      <td>0</td>\n",
       "      <td>0</td>\n",
       "      <td>315154</td>\n",
       "      <td>8.6625</td>\n",
       "      <td>NaN</td>\n",
       "      <td>S</td>\n",
       "      <td>Mr</td>\n",
       "      <td>2</td>\n",
       "    </tr>\n",
       "    <tr>\n",
       "      <th>4</th>\n",
       "      <td>896</td>\n",
       "      <td>3</td>\n",
       "      <td>Hirvonen, Mrs. Alexander (Helga E Lindqvist)</td>\n",
       "      <td>female</td>\n",
       "      <td>22.0</td>\n",
       "      <td>1</td>\n",
       "      <td>1</td>\n",
       "      <td>3101298</td>\n",
       "      <td>12.2875</td>\n",
       "      <td>NaN</td>\n",
       "      <td>S</td>\n",
       "      <td>Mrs</td>\n",
       "      <td>2</td>\n",
       "    </tr>\n",
       "  </tbody>\n",
       "</table>\n",
       "</div>"
      ],
      "text/plain": [
       "   PassengerId  Pclass                                          Name     Sex  \\\n",
       "0          892       3                              Kelly, Mr. James    male   \n",
       "1          893       3              Wilkes, Mrs. James (Ellen Needs)  female   \n",
       "2          894       2                     Myles, Mr. Thomas Francis    male   \n",
       "3          895       3                              Wirz, Mr. Albert    male   \n",
       "4          896       3  Hirvonen, Mrs. Alexander (Helga E Lindqvist)  female   \n",
       "\n",
       "    Age  SibSp  Parch   Ticket     Fare Cabin Embarked Title Age_Bin  \n",
       "0  34.5      0      0   330911   7.8292   NaN        Q    Mr       2  \n",
       "1  47.0      1      0   363272   7.0000   NaN        S   Mrs       3  \n",
       "2  62.0      0      0   240276   9.6875   NaN        Q    Mr       4  \n",
       "3  27.0      0      0   315154   8.6625   NaN        S    Mr       2  \n",
       "4  22.0      1      1  3101298  12.2875   NaN        S   Mrs       2  "
      ]
     },
     "execution_count": 31,
     "metadata": {},
     "output_type": "execute_result"
    }
   ],
   "source": [
    "test.head()"
   ]
  },
  {
   "cell_type": "code",
   "execution_count": 32,
   "metadata": {},
   "outputs": [
    {
     "data": {
      "text/plain": [
       "2    385\n",
       "1    179\n",
       "3    128\n",
       "4     22\n",
       "Name: Age_Bin, dtype: int64"
      ]
     },
     "execution_count": 32,
     "metadata": {},
     "output_type": "execute_result"
    }
   ],
   "source": [
    "train.Age_Bin.value_counts()"
   ]
  },
  {
   "cell_type": "code",
   "execution_count": 33,
   "metadata": {},
   "outputs": [
    {
     "data": {
      "image/png": "[encoded data removed]",
      "text/plain": [
       "<Figure size 500x500 with 1 Axes>"
      ]
     },
     "metadata": {},
     "output_type": "display_data"
    }
   ],
   "source": [
    "# Visualising Bin counts\n",
    "plot_count(\"Age_Bin\", train, dpi=100, figsize=(5,5))"
   ]
  },
  {
   "cell_type": "markdown",
   "metadata": {},
   "source": [
    "## Features: SibSp and Parch"
   ]
  },
  {
   "cell_type": "markdown",
   "metadata": {},
   "source": [
    "Description: SibSp - The number of siblings/spouses the passenger has aboard the Titanic.<br />\n",
    "             Parch - The number of parents/children the passenger has aboard the Titanic.\n",
    "<br>\n",
    "\n",
    "Since both the features are similar we'll do a similar analysis."
   ]
  },
  {
   "cell_type": "code",
   "execution_count": 34,
   "metadata": {},
   "outputs": [
    {
     "data": {
      "text/plain": [
       "0"
      ]
     },
     "execution_count": 34,
     "metadata": {},
     "output_type": "execute_result"
    }
   ],
   "source": [
    "# Checking for null values\n",
    "train.Parch.isnull().sum()"
   ]
  },
  {
   "cell_type": "code",
   "execution_count": 35,
   "metadata": {},
   "outputs": [
    {
     "data": {
      "text/plain": [
       "0"
      ]
     },
     "execution_count": 35,
     "metadata": {},
     "output_type": "execute_result"
    }
   ],
   "source": [
    "train.SibSp.isnull().sum()"
   ]
  },
  {
   "cell_type": "code",
   "execution_count": 36,
   "metadata": {},
   "outputs": [
    {
     "data": {
      "text/plain": [
       "0    678\n",
       "1    118\n",
       "2     80\n",
       "5      5\n",
       "3      5\n",
       "4      4\n",
       "6      1\n",
       "Name: Parch, dtype: int64"
      ]
     },
     "execution_count": 36,
     "metadata": {},
     "output_type": "execute_result"
    }
   ],
   "source": [
    "# Count of Parch and Sibsp\n",
    "train.Parch.value_counts()"
   ]
  },
  {
   "cell_type": "code",
   "execution_count": 37,
   "metadata": {},
   "outputs": [
    {
     "data": {
      "image/png": "[encoded data removed]",
      "text/plain": [
       "<Figure size 600x600 with 1 Axes>"
      ]
     },
     "metadata": {},
     "output_type": "display_data"
    }
   ],
   "source": [
    "plot_count(\"Parch\", train, dpi=100)"
   ]
  },
  {
   "cell_type": "code",
   "execution_count": 38,
   "metadata": {},
   "outputs": [
    {
     "data": {
      "text/plain": [
       "0    608\n",
       "1    209\n",
       "2     28\n",
       "4     18\n",
       "3     16\n",
       "8      7\n",
       "5      5\n",
       "Name: SibSp, dtype: int64"
      ]
     },
     "execution_count": 38,
     "metadata": {},
     "output_type": "execute_result"
    }
   ],
   "source": [
    "train.SibSp.value_counts()"
   ]
  },
  {
   "cell_type": "code",
   "execution_count": 39,
   "metadata": {},
   "outputs": [
    {
     "data": {
      "image/png": "[encoded data removed]",
      "text/plain": [
       "<Figure size 600x600 with 1 Axes>"
      ]
     },
     "metadata": {},
     "output_type": "display_data"
    }
   ],
   "source": [
    "plot_count(\"SibSp\", train, dpi=100)"
   ]
  },
  {
   "cell_type": "markdown",
   "metadata": {},
   "source": [
    "Since both of them are similar we can make a new column out of the two columns named **\"Alone\"** where **0 = \"Alone\"** and **1 = \"Not Alone\"** "
   ]
  },
  {
   "cell_type": "code",
   "execution_count": 40,
   "metadata": {},
   "outputs": [],
   "source": [
    "# Add Alone column\n",
    "train[\"Alone\"] = 0\n",
    "train.loc[(train.SibSp + train.Parch)>0, \"Alone\"] = 1"
   ]
  },
  {
   "cell_type": "code",
   "execution_count": 41,
   "metadata": {},
   "outputs": [
    {
     "data": {
      "text/html": [
       "<div>\n",
       "<style scoped>\n",
       "    .dataframe tbody tr th:only-of-type {\n",
       "        vertical-align: middle;\n",
       "    }\n",
       "\n",
       "    .dataframe tbody tr th {\n",
       "        vertical-align: top;\n",
       "    }\n",
       "\n",
       "    .dataframe thead th {\n",
       "        text-align: right;\n",
       "    }\n",
       "</style>\n",
       "<table border=\"1\" class=\"dataframe\">\n",
       "  <thead>\n",
       "    <tr style=\"text-align: right;\">\n",
       "      <th></th>\n",
       "      <th>PassengerId</th>\n",
       "      <th>Survived</th>\n",
       "      <th>Pclass</th>\n",
       "      <th>Name</th>\n",
       "      <th>Sex</th>\n",
       "      <th>Age</th>\n",
       "      <th>SibSp</th>\n",
       "      <th>Parch</th>\n",
       "      <th>Ticket</th>\n",
       "      <th>Fare</th>\n",
       "      <th>Cabin</th>\n",
       "      <th>Embarked</th>\n",
       "      <th>Title</th>\n",
       "      <th>Age_Bin</th>\n",
       "      <th>Alone</th>\n",
       "    </tr>\n",
       "  </thead>\n",
       "  <tbody>\n",
       "    <tr>\n",
       "      <th>0</th>\n",
       "      <td>1</td>\n",
       "      <td>0</td>\n",
       "      <td>3</td>\n",
       "      <td>Braund, Mr. Owen Harris</td>\n",
       "      <td>male</td>\n",
       "      <td>22.0</td>\n",
       "      <td>1</td>\n",
       "      <td>0</td>\n",
       "      <td>A/5 21171</td>\n",
       "      <td>7.2500</td>\n",
       "      <td>NaN</td>\n",
       "      <td>S</td>\n",
       "      <td>Mr</td>\n",
       "      <td>2</td>\n",
       "      <td>1</td>\n",
       "    </tr>\n",
       "    <tr>\n",
       "      <th>1</th>\n",
       "      <td>2</td>\n",
       "      <td>1</td>\n",
       "      <td>1</td>\n",
       "      <td>Cumings, Mrs. John Bradley (Florence Briggs Th...</td>\n",
       "      <td>female</td>\n",
       "      <td>38.0</td>\n",
       "      <td>1</td>\n",
       "      <td>0</td>\n",
       "      <td>PC 17599</td>\n",
       "      <td>71.2833</td>\n",
       "      <td>C85</td>\n",
       "      <td>C</td>\n",
       "      <td>Mrs</td>\n",
       "      <td>2</td>\n",
       "      <td>1</td>\n",
       "    </tr>\n",
       "    <tr>\n",
       "      <th>2</th>\n",
       "      <td>3</td>\n",
       "      <td>1</td>\n",
       "      <td>3</td>\n",
       "      <td>Heikkinen, Miss. Laina</td>\n",
       "      <td>female</td>\n",
       "      <td>26.0</td>\n",
       "      <td>0</td>\n",
       "      <td>0</td>\n",
       "      <td>STON/O2. 3101282</td>\n",
       "      <td>7.9250</td>\n",
       "      <td>NaN</td>\n",
       "      <td>S</td>\n",
       "      <td>Miss</td>\n",
       "      <td>2</td>\n",
       "      <td>0</td>\n",
       "    </tr>\n",
       "    <tr>\n",
       "      <th>3</th>\n",
       "      <td>4</td>\n",
       "      <td>1</td>\n",
       "      <td>1</td>\n",
       "      <td>Futrelle, Mrs. Jacques Heath (Lily May Peel)</td>\n",
       "      <td>female</td>\n",
       "      <td>35.0</td>\n",
       "      <td>1</td>\n",
       "      <td>0</td>\n",
       "      <td>113803</td>\n",
       "      <td>53.1000</td>\n",
       "      <td>C123</td>\n",
       "      <td>S</td>\n",
       "      <td>Mrs</td>\n",
       "      <td>2</td>\n",
       "      <td>1</td>\n",
       "    </tr>\n",
       "    <tr>\n",
       "      <th>4</th>\n",
       "      <td>5</td>\n",
       "      <td>0</td>\n",
       "      <td>3</td>\n",
       "      <td>Allen, Mr. William Henry</td>\n",
       "      <td>male</td>\n",
       "      <td>35.0</td>\n",
       "      <td>0</td>\n",
       "      <td>0</td>\n",
       "      <td>373450</td>\n",
       "      <td>8.0500</td>\n",
       "      <td>NaN</td>\n",
       "      <td>S</td>\n",
       "      <td>Mr</td>\n",
       "      <td>2</td>\n",
       "      <td>0</td>\n",
       "    </tr>\n",
       "  </tbody>\n",
       "</table>\n",
       "</div>"
      ],
      "text/plain": [
       "   PassengerId  Survived  Pclass  \\\n",
       "0            1         0       3   \n",
       "1            2         1       1   \n",
       "2            3         1       3   \n",
       "3            4         1       1   \n",
       "4            5         0       3   \n",
       "\n",
       "                                                Name     Sex   Age  SibSp  \\\n",
       "0                            Braund, Mr. Owen Harris    male  22.0      1   \n",
       "1  Cumings, Mrs. John Bradley (Florence Briggs Th...  female  38.0      1   \n",
       "2                             Heikkinen, Miss. Laina  female  26.0      0   \n",
       "3       Futrelle, Mrs. Jacques Heath (Lily May Peel)  female  35.0      1   \n",
       "4                           Allen, Mr. William Henry    male  35.0      0   \n",
       "\n",
       "   Parch            Ticket     Fare Cabin Embarked Title Age_Bin  Alone  \n",
       "0      0         A/5 21171   7.2500   NaN        S    Mr       2      1  \n",
       "1      0          PC 17599  71.2833   C85        C   Mrs       2      1  \n",
       "2      0  STON/O2. 3101282   7.9250   NaN        S  Miss       2      0  \n",
       "3      0            113803  53.1000  C123        S   Mrs       2      1  \n",
       "4      0            373450   8.0500   NaN        S    Mr       2      0  "
      ]
     },
     "execution_count": 41,
     "metadata": {},
     "output_type": "execute_result"
    }
   ],
   "source": [
    "train.head()"
   ]
  },
  {
   "cell_type": "code",
   "execution_count": 42,
   "metadata": {},
   "outputs": [],
   "source": [
    "test[\"Alone\"] = 0\n",
    "test.loc[(test.SibSp + test.Parch)>0, \"Alone\"] = 1"
   ]
  },
  {
   "cell_type": "code",
   "execution_count": 43,
   "metadata": {},
   "outputs": [
    {
     "data": {
      "text/html": [
       "<div>\n",
       "<style scoped>\n",
       "    .dataframe tbody tr th:only-of-type {\n",
       "        vertical-align: middle;\n",
       "    }\n",
       "\n",
       "    .dataframe tbody tr th {\n",
       "        vertical-align: top;\n",
       "    }\n",
       "\n",
       "    .dataframe thead th {\n",
       "        text-align: right;\n",
       "    }\n",
       "</style>\n",
       "<table border=\"1\" class=\"dataframe\">\n",
       "  <thead>\n",
       "    <tr style=\"text-align: right;\">\n",
       "      <th></th>\n",
       "      <th>PassengerId</th>\n",
       "      <th>Pclass</th>\n",
       "      <th>Name</th>\n",
       "      <th>Sex</th>\n",
       "      <th>Age</th>\n",
       "      <th>SibSp</th>\n",
       "      <th>Parch</th>\n",
       "      <th>Ticket</th>\n",
       "      <th>Fare</th>\n",
       "      <th>Cabin</th>\n",
       "      <th>Embarked</th>\n",
       "      <th>Title</th>\n",
       "      <th>Age_Bin</th>\n",
       "      <th>Alone</th>\n",
       "    </tr>\n",
       "  </thead>\n",
       "  <tbody>\n",
       "    <tr>\n",
       "      <th>0</th>\n",
       "      <td>892</td>\n",
       "      <td>3</td>\n",
       "      <td>Kelly, Mr. James</td>\n",
       "      <td>male</td>\n",
       "      <td>34.5</td>\n",
       "      <td>0</td>\n",
       "      <td>0</td>\n",
       "      <td>330911</td>\n",
       "      <td>7.8292</td>\n",
       "      <td>NaN</td>\n",
       "      <td>Q</td>\n",
       "      <td>Mr</td>\n",
       "      <td>2</td>\n",
       "      <td>0</td>\n",
       "    </tr>\n",
       "    <tr>\n",
       "      <th>1</th>\n",
       "      <td>893</td>\n",
       "      <td>3</td>\n",
       "      <td>Wilkes, Mrs. James (Ellen Needs)</td>\n",
       "      <td>female</td>\n",
       "      <td>47.0</td>\n",
       "      <td>1</td>\n",
       "      <td>0</td>\n",
       "      <td>363272</td>\n",
       "      <td>7.0000</td>\n",
       "      <td>NaN</td>\n",
       "      <td>S</td>\n",
       "      <td>Mrs</td>\n",
       "      <td>3</td>\n",
       "      <td>1</td>\n",
       "    </tr>\n",
       "    <tr>\n",
       "      <th>2</th>\n",
       "      <td>894</td>\n",
       "      <td>2</td>\n",
       "      <td>Myles, Mr. Thomas Francis</td>\n",
       "      <td>male</td>\n",
       "      <td>62.0</td>\n",
       "      <td>0</td>\n",
       "      <td>0</td>\n",
       "      <td>240276</td>\n",
       "      <td>9.6875</td>\n",
       "      <td>NaN</td>\n",
       "      <td>Q</td>\n",
       "      <td>Mr</td>\n",
       "      <td>4</td>\n",
       "      <td>0</td>\n",
       "    </tr>\n",
       "    <tr>\n",
       "      <th>3</th>\n",
       "      <td>895</td>\n",
       "      <td>3</td>\n",
       "      <td>Wirz, Mr. Albert</td>\n",
       "      <td>male</td>\n",
       "      <td>27.0</td>\n",
       "      <td>0</td>\n",
       "      <td>0</td>\n",
       "      <td>315154</td>\n",
       "      <td>8.6625</td>\n",
       "      <td>NaN</td>\n",
       "      <td>S</td>\n",
       "      <td>Mr</td>\n",
       "      <td>2</td>\n",
       "      <td>0</td>\n",
       "    </tr>\n",
       "    <tr>\n",
       "      <th>4</th>\n",
       "      <td>896</td>\n",
       "      <td>3</td>\n",
       "      <td>Hirvonen, Mrs. Alexander (Helga E Lindqvist)</td>\n",
       "      <td>female</td>\n",
       "      <td>22.0</td>\n",
       "      <td>1</td>\n",
       "      <td>1</td>\n",
       "      <td>3101298</td>\n",
       "      <td>12.2875</td>\n",
       "      <td>NaN</td>\n",
       "      <td>S</td>\n",
       "      <td>Mrs</td>\n",
       "      <td>2</td>\n",
       "      <td>1</td>\n",
       "    </tr>\n",
       "  </tbody>\n",
       "</table>\n",
       "</div>"
      ],
      "text/plain": [
       "   PassengerId  Pclass                                          Name     Sex  \\\n",
       "0          892       3                              Kelly, Mr. James    male   \n",
       "1          893       3              Wilkes, Mrs. James (Ellen Needs)  female   \n",
       "2          894       2                     Myles, Mr. Thomas Francis    male   \n",
       "3          895       3                              Wirz, Mr. Albert    male   \n",
       "4          896       3  Hirvonen, Mrs. Alexander (Helga E Lindqvist)  female   \n",
       "\n",
       "    Age  SibSp  Parch   Ticket     Fare Cabin Embarked Title Age_Bin  Alone  \n",
       "0  34.5      0      0   330911   7.8292   NaN        Q    Mr       2      0  \n",
       "1  47.0      1      0   363272   7.0000   NaN        S   Mrs       3      1  \n",
       "2  62.0      0      0   240276   9.6875   NaN        Q    Mr       4      0  \n",
       "3  27.0      0      0   315154   8.6625   NaN        S    Mr       2      0  \n",
       "4  22.0      1      1  3101298  12.2875   NaN        S   Mrs       2      1  "
      ]
     },
     "execution_count": 43,
     "metadata": {},
     "output_type": "execute_result"
    }
   ],
   "source": [
    "test.head()"
   ]
  },
  {
   "cell_type": "code",
   "execution_count": 44,
   "metadata": {},
   "outputs": [
    {
     "data": {
      "text/plain": [
       "0    537\n",
       "1    354\n",
       "Name: Alone, dtype: int64"
      ]
     },
     "execution_count": 44,
     "metadata": {},
     "output_type": "execute_result"
    }
   ],
   "source": [
    "train.Alone.value_counts()"
   ]
  },
  {
   "cell_type": "code",
   "execution_count": 45,
   "metadata": {},
   "outputs": [
    {
     "data": {
      "image/png": "[encoded data removed]",
      "text/plain": [
       "<Figure size 432x432 with 1 Axes>"
      ]
     },
     "metadata": {},
     "output_type": "display_data"
    }
   ],
   "source": [
    "plot_count(\"Alone\", train)"
   ]
  },
  {
   "cell_type": "markdown",
   "metadata": {},
   "source": [
    "## Feature: Ticket"
   ]
  },
  {
   "cell_type": "markdown",
   "metadata": {},
   "source": [
    "Description: The ticket number of the boarding passenger."
   ]
  },
  {
   "cell_type": "code",
   "execution_count": 46,
   "metadata": {},
   "outputs": [
    {
     "data": {
      "text/plain": [
       "347082             7\n",
       "1601               7\n",
       "CA. 2343           7\n",
       "CA 2144            6\n",
       "3101295            6\n",
       "                  ..\n",
       "244270             1\n",
       "367232             1\n",
       "SOTON/OQ 392082    1\n",
       "240929             1\n",
       "237565             1\n",
       "Name: Ticket, Length: 681, dtype: int64"
      ]
     },
     "execution_count": 46,
     "metadata": {},
     "output_type": "execute_result"
    }
   ],
   "source": [
    "train.Ticket.value_counts()"
   ]
  },
  {
   "cell_type": "code",
   "execution_count": 47,
   "metadata": {},
   "outputs": [
    {
     "data": {
      "text/plain": [
       "681"
      ]
     },
     "execution_count": 47,
     "metadata": {},
     "output_type": "execute_result"
    }
   ],
   "source": [
    "train.Ticket.nunique()"
   ]
  },
  {
   "cell_type": "markdown",
   "metadata": {},
   "source": [
    "Since there are so many ticket values its best to drop them"
   ]
  },
  {
   "cell_type": "markdown",
   "metadata": {},
   "source": [
    "## Feature: Fare"
   ]
  },
  {
   "cell_type": "markdown",
   "metadata": {},
   "source": [
    "Description: How much the ticket cost."
   ]
  },
  {
   "cell_type": "code",
   "execution_count": 48,
   "metadata": {},
   "outputs": [
    {
     "data": {
      "text/plain": [
       "248"
      ]
     },
     "execution_count": 48,
     "metadata": {},
     "output_type": "execute_result"
    }
   ],
   "source": [
    "train.Fare.nunique()"
   ]
  },
  {
   "cell_type": "markdown",
   "metadata": {},
   "source": [
    "Like age we can bin the fares into a new column. "
   ]
  },
  {
   "cell_type": "code",
   "execution_count": 49,
   "metadata": {},
   "outputs": [],
   "source": [
    "# Binning the fares\n",
    "fares = []\n",
    "for fare_bin in pd.cut(train[\"Fare\"], bins=4):\n",
    "    fares.append(fare_bin)\n",
    "fares = tuple(set(fares))\n",
    "labels = (1,2,3,4)\n",
    "fare_dict = dict(zip(fares, labels))"
   ]
  },
  {
   "cell_type": "code",
   "execution_count": 50,
   "metadata": {},
   "outputs": [
    {
     "data": {
      "text/plain": [
       "{Interval(128.082, 256.165, closed='right'): 1,\n",
       " Interval(384.247, 512.329, closed='right'): 2,\n",
       " Interval(-0.512, 128.082, closed='right'): 3,\n",
       " Interval(256.165, 384.247, closed='right'): 4}"
      ]
     },
     "execution_count": 50,
     "metadata": {},
     "output_type": "execute_result"
    }
   ],
   "source": [
    "fare_dict"
   ]
  },
  {
   "cell_type": "code",
   "execution_count": 51,
   "metadata": {},
   "outputs": [],
   "source": [
    "# Creating a new binned fare column\n",
    "train[\"Fare_Bin\"] = pd.cut(train[\"Fare\"], bins=4)\n",
    "train[\"Fare_Bin\"] = train.Fare_Bin.map(fare_dict)\n",
    "\n",
    "test[\"Fare_Bin\"] = pd.cut(test[\"Fare\"], bins=4)\n",
    "test[\"Fare_Bin\"] = test.Fare_Bin.map(fare_dict)"
   ]
  },
  {
   "cell_type": "code",
   "execution_count": 52,
   "metadata": {},
   "outputs": [
    {
     "data": {
      "text/html": [
       "<div>\n",
       "<style scoped>\n",
       "    .dataframe tbody tr th:only-of-type {\n",
       "        vertical-align: middle;\n",
       "    }\n",
       "\n",
       "    .dataframe tbody tr th {\n",
       "        vertical-align: top;\n",
       "    }\n",
       "\n",
       "    .dataframe thead th {\n",
       "        text-align: right;\n",
       "    }\n",
       "</style>\n",
       "<table border=\"1\" class=\"dataframe\">\n",
       "  <thead>\n",
       "    <tr style=\"text-align: right;\">\n",
       "      <th></th>\n",
       "      <th>PassengerId</th>\n",
       "      <th>Survived</th>\n",
       "      <th>Pclass</th>\n",
       "      <th>Name</th>\n",
       "      <th>Sex</th>\n",
       "      <th>Age</th>\n",
       "      <th>SibSp</th>\n",
       "      <th>Parch</th>\n",
       "      <th>Ticket</th>\n",
       "      <th>Fare</th>\n",
       "      <th>Cabin</th>\n",
       "      <th>Embarked</th>\n",
       "      <th>Title</th>\n",
       "      <th>Age_Bin</th>\n",
       "      <th>Alone</th>\n",
       "      <th>Fare_Bin</th>\n",
       "    </tr>\n",
       "  </thead>\n",
       "  <tbody>\n",
       "    <tr>\n",
       "      <th>0</th>\n",
       "      <td>1</td>\n",
       "      <td>0</td>\n",
       "      <td>3</td>\n",
       "      <td>Braund, Mr. Owen Harris</td>\n",
       "      <td>male</td>\n",
       "      <td>22.0</td>\n",
       "      <td>1</td>\n",
       "      <td>0</td>\n",
       "      <td>A/5 21171</td>\n",
       "      <td>7.2500</td>\n",
       "      <td>NaN</td>\n",
       "      <td>S</td>\n",
       "      <td>Mr</td>\n",
       "      <td>2</td>\n",
       "      <td>1</td>\n",
       "      <td>3</td>\n",
       "    </tr>\n",
       "    <tr>\n",
       "      <th>1</th>\n",
       "      <td>2</td>\n",
       "      <td>1</td>\n",
       "      <td>1</td>\n",
       "      <td>Cumings, Mrs. John Bradley (Florence Briggs Th...</td>\n",
       "      <td>female</td>\n",
       "      <td>38.0</td>\n",
       "      <td>1</td>\n",
       "      <td>0</td>\n",
       "      <td>PC 17599</td>\n",
       "      <td>71.2833</td>\n",
       "      <td>C85</td>\n",
       "      <td>C</td>\n",
       "      <td>Mrs</td>\n",
       "      <td>2</td>\n",
       "      <td>1</td>\n",
       "      <td>3</td>\n",
       "    </tr>\n",
       "    <tr>\n",
       "      <th>2</th>\n",
       "      <td>3</td>\n",
       "      <td>1</td>\n",
       "      <td>3</td>\n",
       "      <td>Heikkinen, Miss. Laina</td>\n",
       "      <td>female</td>\n",
       "      <td>26.0</td>\n",
       "      <td>0</td>\n",
       "      <td>0</td>\n",
       "      <td>STON/O2. 3101282</td>\n",
       "      <td>7.9250</td>\n",
       "      <td>NaN</td>\n",
       "      <td>S</td>\n",
       "      <td>Miss</td>\n",
       "      <td>2</td>\n",
       "      <td>0</td>\n",
       "      <td>3</td>\n",
       "    </tr>\n",
       "    <tr>\n",
       "      <th>3</th>\n",
       "      <td>4</td>\n",
       "      <td>1</td>\n",
       "      <td>1</td>\n",
       "      <td>Futrelle, Mrs. Jacques Heath (Lily May Peel)</td>\n",
       "      <td>female</td>\n",
       "      <td>35.0</td>\n",
       "      <td>1</td>\n",
       "      <td>0</td>\n",
       "      <td>113803</td>\n",
       "      <td>53.1000</td>\n",
       "      <td>C123</td>\n",
       "      <td>S</td>\n",
       "      <td>Mrs</td>\n",
       "      <td>2</td>\n",
       "      <td>1</td>\n",
       "      <td>3</td>\n",
       "    </tr>\n",
       "    <tr>\n",
       "      <th>4</th>\n",
       "      <td>5</td>\n",
       "      <td>0</td>\n",
       "      <td>3</td>\n",
       "      <td>Allen, Mr. William Henry</td>\n",
       "      <td>male</td>\n",
       "      <td>35.0</td>\n",
       "      <td>0</td>\n",
       "      <td>0</td>\n",
       "      <td>373450</td>\n",
       "      <td>8.0500</td>\n",
       "      <td>NaN</td>\n",
       "      <td>S</td>\n",
       "      <td>Mr</td>\n",
       "      <td>2</td>\n",
       "      <td>0</td>\n",
       "      <td>3</td>\n",
       "    </tr>\n",
       "  </tbody>\n",
       "</table>\n",
       "</div>"
      ],
      "text/plain": [
       "   PassengerId  Survived  Pclass  \\\n",
       "0            1         0       3   \n",
       "1            2         1       1   \n",
       "2            3         1       3   \n",
       "3            4         1       1   \n",
       "4            5         0       3   \n",
       "\n",
       "                                                Name     Sex   Age  SibSp  \\\n",
       "0                            Braund, Mr. Owen Harris    male  22.0      1   \n",
       "1  Cumings, Mrs. John Bradley (Florence Briggs Th...  female  38.0      1   \n",
       "2                             Heikkinen, Miss. Laina  female  26.0      0   \n",
       "3       Futrelle, Mrs. Jacques Heath (Lily May Peel)  female  35.0      1   \n",
       "4                           Allen, Mr. William Henry    male  35.0      0   \n",
       "\n",
       "   Parch            Ticket     Fare Cabin Embarked Title Age_Bin  Alone  \\\n",
       "0      0         A/5 21171   7.2500   NaN        S    Mr       2      1   \n",
       "1      0          PC 17599  71.2833   C85        C   Mrs       2      1   \n",
       "2      0  STON/O2. 3101282   7.9250   NaN        S  Miss       2      0   \n",
       "3      0            113803  53.1000  C123        S   Mrs       2      1   \n",
       "4      0            373450   8.0500   NaN        S    Mr       2      0   \n",
       "\n",
       "  Fare_Bin  \n",
       "0        3  \n",
       "1        3  \n",
       "2        3  \n",
       "3        3  \n",
       "4        3  "
      ]
     },
     "execution_count": 52,
     "metadata": {},
     "output_type": "execute_result"
    }
   ],
   "source": [
    "train.head()"
   ]
  },
  {
   "cell_type": "code",
   "execution_count": 53,
   "metadata": {},
   "outputs": [
    {
     "data": {
      "text/plain": [
       "3    853\n",
       "1     29\n",
       "4      6\n",
       "2      3\n",
       "Name: Fare_Bin, dtype: int64"
      ]
     },
     "execution_count": 53,
     "metadata": {},
     "output_type": "execute_result"
    }
   ],
   "source": [
    "train.Fare_Bin.value_counts()"
   ]
  },
  {
   "cell_type": "code",
   "execution_count": 54,
   "metadata": {},
   "outputs": [
    {
     "data": {
      "image/png": "[encoded data removed]",
      "text/plain": [
       "<Figure size 600x600 with 1 Axes>"
      ]
     },
     "metadata": {},
     "output_type": "display_data"
    }
   ],
   "source": [
    "# Visualising binned fare column\n",
    "plot_count(\"Fare_Bin\", train, dpi=100)"
   ]
  },
  {
   "cell_type": "markdown",
   "metadata": {},
   "source": [
    "## Feature: Cabin"
   ]
  },
  {
   "cell_type": "markdown",
   "metadata": {},
   "source": [
    "Description: The cabin number where the passenger was staying."
   ]
  },
  {
   "cell_type": "code",
   "execution_count": 55,
   "metadata": {},
   "outputs": [
    {
     "data": {
      "text/plain": [
       "687"
      ]
     },
     "execution_count": 55,
     "metadata": {},
     "output_type": "execute_result"
    }
   ],
   "source": [
    "train.Cabin.isnull().sum()"
   ]
  },
  {
   "cell_type": "code",
   "execution_count": 56,
   "metadata": {},
   "outputs": [
    {
     "data": {
      "text/plain": [
       "G6             4\n",
       "C23 C25 C27    4\n",
       "B96 B98        4\n",
       "F2             3\n",
       "D              3\n",
       "              ..\n",
       "C101           1\n",
       "B19            1\n",
       "D45            1\n",
       "C91            1\n",
       "D56            1\n",
       "Name: Cabin, Length: 147, dtype: int64"
      ]
     },
     "execution_count": 56,
     "metadata": {},
     "output_type": "execute_result"
    }
   ],
   "source": [
    "train.Cabin.value_counts()"
   ]
  },
  {
   "cell_type": "markdown",
   "metadata": {},
   "source": [
    "We see that we have a lot of NaN. So the best idea is to drop them. \n",
    "<br>\n",
    "What we can also do is fill the missing values based on Pclass and Gender.\n",
    "<br>\n",
    "For now we will be dropping the column"
   ]
  },
  {
   "cell_type": "markdown",
   "metadata": {},
   "source": [
    "## Feature: Embarked"
   ]
  },
  {
   "cell_type": "markdown",
   "metadata": {},
   "source": [
    "Description: The port where the passenger boarded the Titanic.\n",
    "<br>\n",
    "Key: C = Cherbourg, Q = Queenstown, S = Southampton"
   ]
  },
  {
   "cell_type": "code",
   "execution_count": 57,
   "metadata": {},
   "outputs": [
    {
     "data": {
      "text/plain": [
       "2"
      ]
     },
     "execution_count": 57,
     "metadata": {},
     "output_type": "execute_result"
    }
   ],
   "source": [
    "train.Embarked.isnull().sum()"
   ]
  },
  {
   "cell_type": "code",
   "execution_count": 58,
   "metadata": {},
   "outputs": [
    {
     "data": {
      "text/plain": [
       "S    644\n",
       "C    168\n",
       "Q     77\n",
       "Name: Embarked, dtype: int64"
      ]
     },
     "execution_count": 58,
     "metadata": {},
     "output_type": "execute_result"
    }
   ],
   "source": [
    "train.Embarked.value_counts()"
   ]
  },
  {
   "cell_type": "code",
   "execution_count": 59,
   "metadata": {},
   "outputs": [
    {
     "data": {
      "image/png": "[encoded data removed]",
      "text/plain": [
       "<Figure size 432x432 with 1 Axes>"
      ]
     },
     "metadata": {},
     "output_type": "display_data"
    }
   ],
   "source": [
    "plot_count(\"Embarked\", train, palette=\"OrRd_r\")"
   ]
  },
  {
   "cell_type": "markdown",
   "metadata": {},
   "source": [
    "For the two missing values we can drop those two rows."
   ]
  },
  {
   "cell_type": "markdown",
   "metadata": {},
   "source": [
    "## Correlation between each column\n",
    "<br>\n",
    "<br>\n",
    "Before diving into Bivariate analysis lets plot the correlation between each column\n",
    "<br>\n",
    "\n",
    "**POSITIVE CORRELATION**: If an increase in feature A leads to increase in feature B, then they are positively correlated. A value 1 means perfect positive correlation.\n",
    "<br>\n",
    "\n",
    "**NEGATIVE CORRELATION**: If an increase in feature A leads to decrease in feature B, then they are negatively correlated. A value -1 means perfect negative correlation"
   ]
  },
  {
   "cell_type": "code",
   "execution_count": 178,
   "metadata": {},
   "outputs": [
    {
     "data": {
      "image/png": "[encoded data removed]",
      "text/plain": [
       "<Figure size 576x432 with 2 Axes>"
      ]
     },
     "metadata": {},
     "output_type": "display_data"
    }
   ],
   "source": [
    "plt.figure(figsize=(8,6))\n",
    "sns.set_context('poster', font_scale=0.5)\n",
    "data=train.corr()\n",
    "sns.heatmap(data, annot=True, cmap='coolwarm')\n",
    "plt.show()"
   ]
  },
  {
   "cell_type": "markdown",
   "metadata": {},
   "source": [
    "## BiVariate Analysis"
   ]
  },
  {
   "cell_type": "markdown",
   "metadata": {},
   "source": [
    "### Creating a function for plotting bar and catplot"
   ]
  },
  {
   "cell_type": "code",
   "execution_count": 141,
   "metadata": {},
   "outputs": [],
   "source": [
    "def plot_bar_cat(x, y, data, hue=None, palette=None, color=None, dpi=None, figsize=(6, 6), kind=\"strip\"):\n",
    "    sns.set_style('darkgrid')\n",
    "    f, (ax1, ax2) = plt.subplots(ncols=2, sharey=True, figsize=figsize)\n",
    "    sns.barplot(x=x, y=y, data=data, hue=hue, palette=palette, color=color, ax=ax1)\n",
    "    sns.pointplot(x=x, y=y, data=data, hue=hue, palette=palette, color=color, ax=ax2)\n",
    "    plt.show()"
   ]
  },
  {
   "cell_type": "markdown",
   "metadata": {},
   "source": [
    "### Relationship between Sex and Survived"
   ]
  },
  {
   "cell_type": "code",
   "execution_count": 125,
   "metadata": {},
   "outputs": [
    {
     "data": {
      "text/html": [
       "<div>\n",
       "<style scoped>\n",
       "    .dataframe tbody tr th:only-of-type {\n",
       "        vertical-align: middle;\n",
       "    }\n",
       "\n",
       "    .dataframe tbody tr th {\n",
       "        vertical-align: top;\n",
       "    }\n",
       "\n",
       "    .dataframe thead th {\n",
       "        text-align: right;\n",
       "    }\n",
       "</style>\n",
       "<table border=\"1\" class=\"dataframe\">\n",
       "  <thead>\n",
       "    <tr style=\"text-align: right;\">\n",
       "      <th></th>\n",
       "      <th>PassengerId</th>\n",
       "      <th>Survived</th>\n",
       "      <th>Pclass</th>\n",
       "      <th>Name</th>\n",
       "      <th>Sex</th>\n",
       "      <th>Age</th>\n",
       "      <th>SibSp</th>\n",
       "      <th>Parch</th>\n",
       "      <th>Ticket</th>\n",
       "      <th>Fare</th>\n",
       "      <th>Cabin</th>\n",
       "      <th>Embarked</th>\n",
       "      <th>Title</th>\n",
       "      <th>Age_Bin</th>\n",
       "      <th>Alone</th>\n",
       "      <th>Fare_Bin</th>\n",
       "    </tr>\n",
       "  </thead>\n",
       "  <tbody>\n",
       "    <tr>\n",
       "      <th>0</th>\n",
       "      <td>1</td>\n",
       "      <td>0</td>\n",
       "      <td>3</td>\n",
       "      <td>Braund, Mr. Owen Harris</td>\n",
       "      <td>male</td>\n",
       "      <td>22.0</td>\n",
       "      <td>1</td>\n",
       "      <td>0</td>\n",
       "      <td>A/5 21171</td>\n",
       "      <td>7.2500</td>\n",
       "      <td>NaN</td>\n",
       "      <td>S</td>\n",
       "      <td>Mr</td>\n",
       "      <td>2</td>\n",
       "      <td>1</td>\n",
       "      <td>3</td>\n",
       "    </tr>\n",
       "    <tr>\n",
       "      <th>1</th>\n",
       "      <td>2</td>\n",
       "      <td>1</td>\n",
       "      <td>1</td>\n",
       "      <td>Cumings, Mrs. John Bradley (Florence Briggs Th...</td>\n",
       "      <td>female</td>\n",
       "      <td>38.0</td>\n",
       "      <td>1</td>\n",
       "      <td>0</td>\n",
       "      <td>PC 17599</td>\n",
       "      <td>71.2833</td>\n",
       "      <td>C85</td>\n",
       "      <td>C</td>\n",
       "      <td>Mrs</td>\n",
       "      <td>2</td>\n",
       "      <td>1</td>\n",
       "      <td>3</td>\n",
       "    </tr>\n",
       "    <tr>\n",
       "      <th>2</th>\n",
       "      <td>3</td>\n",
       "      <td>1</td>\n",
       "      <td>3</td>\n",
       "      <td>Heikkinen, Miss. Laina</td>\n",
       "      <td>female</td>\n",
       "      <td>26.0</td>\n",
       "      <td>0</td>\n",
       "      <td>0</td>\n",
       "      <td>STON/O2. 3101282</td>\n",
       "      <td>7.9250</td>\n",
       "      <td>NaN</td>\n",
       "      <td>S</td>\n",
       "      <td>Miss</td>\n",
       "      <td>2</td>\n",
       "      <td>0</td>\n",
       "      <td>3</td>\n",
       "    </tr>\n",
       "    <tr>\n",
       "      <th>3</th>\n",
       "      <td>4</td>\n",
       "      <td>1</td>\n",
       "      <td>1</td>\n",
       "      <td>Futrelle, Mrs. Jacques Heath (Lily May Peel)</td>\n",
       "      <td>female</td>\n",
       "      <td>35.0</td>\n",
       "      <td>1</td>\n",
       "      <td>0</td>\n",
       "      <td>113803</td>\n",
       "      <td>53.1000</td>\n",
       "      <td>C123</td>\n",
       "      <td>S</td>\n",
       "      <td>Mrs</td>\n",
       "      <td>2</td>\n",
       "      <td>1</td>\n",
       "      <td>3</td>\n",
       "    </tr>\n",
       "    <tr>\n",
       "      <th>4</th>\n",
       "      <td>5</td>\n",
       "      <td>0</td>\n",
       "      <td>3</td>\n",
       "      <td>Allen, Mr. William Henry</td>\n",
       "      <td>male</td>\n",
       "      <td>35.0</td>\n",
       "      <td>0</td>\n",
       "      <td>0</td>\n",
       "      <td>373450</td>\n",
       "      <td>8.0500</td>\n",
       "      <td>NaN</td>\n",
       "      <td>S</td>\n",
       "      <td>Mr</td>\n",
       "      <td>2</td>\n",
       "      <td>0</td>\n",
       "      <td>3</td>\n",
       "    </tr>\n",
       "  </tbody>\n",
       "</table>\n",
       "</div>"
      ],
      "text/plain": [
       "   PassengerId  Survived  Pclass  \\\n",
       "0            1         0       3   \n",
       "1            2         1       1   \n",
       "2            3         1       3   \n",
       "3            4         1       1   \n",
       "4            5         0       3   \n",
       "\n",
       "                                                Name     Sex   Age  SibSp  \\\n",
       "0                            Braund, Mr. Owen Harris    male  22.0      1   \n",
       "1  Cumings, Mrs. John Bradley (Florence Briggs Th...  female  38.0      1   \n",
       "2                             Heikkinen, Miss. Laina  female  26.0      0   \n",
       "3       Futrelle, Mrs. Jacques Heath (Lily May Peel)  female  35.0      1   \n",
       "4                           Allen, Mr. William Henry    male  35.0      0   \n",
       "\n",
       "   Parch            Ticket     Fare Cabin Embarked Title Age_Bin  Alone  \\\n",
       "0      0         A/5 21171   7.2500   NaN        S    Mr       2      1   \n",
       "1      0          PC 17599  71.2833   C85        C   Mrs       2      1   \n",
       "2      0  STON/O2. 3101282   7.9250   NaN        S  Miss       2      0   \n",
       "3      0            113803  53.1000  C123        S   Mrs       2      1   \n",
       "4      0            373450   8.0500   NaN        S    Mr       2      0   \n",
       "\n",
       "  Fare_Bin  \n",
       "0        3  \n",
       "1        3  \n",
       "2        3  \n",
       "3        3  \n",
       "4        3  "
      ]
     },
     "execution_count": 125,
     "metadata": {},
     "output_type": "execute_result"
    }
   ],
   "source": [
    "train.head()"
   ]
  },
  {
   "cell_type": "code",
   "execution_count": 126,
   "metadata": {},
   "outputs": [
    {
     "data": {
      "text/plain": [
       "Sex     Survived\n",
       "female  1           233\n",
       "        0            81\n",
       "male    0           468\n",
       "        1           109\n",
       "Name: Survived, dtype: int64"
      ]
     },
     "execution_count": 126,
     "metadata": {},
     "output_type": "execute_result"
    }
   ],
   "source": [
    "# Total no. of men and women who survived or died \n",
    "train.groupby([\"Sex\"])[\"Survived\"].value_counts()"
   ]
  },
  {
   "cell_type": "code",
   "execution_count": 127,
   "metadata": {},
   "outputs": [
    {
     "data": {
      "text/html": [
       "<style  type=\"text/css\" >\n",
       "#T_77051acc_11d5_11eb_a264_5b44e87b4dfbrow0_col0,#T_77051acc_11d5_11eb_a264_5b44e87b4dfbrow0_col2,#T_77051acc_11d5_11eb_a264_5b44e87b4dfbrow1_col1{\n",
       "            background-color:  #f7fcf0;\n",
       "            color:  #000000;\n",
       "        }#T_77051acc_11d5_11eb_a264_5b44e87b4dfbrow0_col1{\n",
       "            background-color:  #6fc5c8;\n",
       "            color:  #000000;\n",
       "        }#T_77051acc_11d5_11eb_a264_5b44e87b4dfbrow1_col0{\n",
       "            background-color:  #1576b3;\n",
       "            color:  #f1f1f1;\n",
       "        }#T_77051acc_11d5_11eb_a264_5b44e87b4dfbrow1_col2{\n",
       "            background-color:  #8bd2bf;\n",
       "            color:  #000000;\n",
       "        }#T_77051acc_11d5_11eb_a264_5b44e87b4dfbrow2_col0,#T_77051acc_11d5_11eb_a264_5b44e87b4dfbrow2_col1,#T_77051acc_11d5_11eb_a264_5b44e87b4dfbrow2_col2{\n",
       "            background-color:  #084081;\n",
       "            color:  #f1f1f1;\n",
       "        }</style><table id=\"T_77051acc_11d5_11eb_a264_5b44e87b4dfb\" ><thead>    <tr>        <th class=\"index_name level0\" >Survived</th>        <th class=\"col_heading level0 col0\" >0</th>        <th class=\"col_heading level0 col1\" >1</th>        <th class=\"col_heading level0 col2\" >All</th>    </tr>    <tr>        <th class=\"index_name level0\" >Sex</th>        <th class=\"blank\" ></th>        <th class=\"blank\" ></th>        <th class=\"blank\" ></th>    </tr></thead><tbody>\n",
       "                <tr>\n",
       "                        <th id=\"T_77051acc_11d5_11eb_a264_5b44e87b4dfblevel0_row0\" class=\"row_heading level0 row0\" >female</th>\n",
       "                        <td id=\"T_77051acc_11d5_11eb_a264_5b44e87b4dfbrow0_col0\" class=\"data row0 col0\" >81</td>\n",
       "                        <td id=\"T_77051acc_11d5_11eb_a264_5b44e87b4dfbrow0_col1\" class=\"data row0 col1\" >233</td>\n",
       "                        <td id=\"T_77051acc_11d5_11eb_a264_5b44e87b4dfbrow0_col2\" class=\"data row0 col2\" >314</td>\n",
       "            </tr>\n",
       "            <tr>\n",
       "                        <th id=\"T_77051acc_11d5_11eb_a264_5b44e87b4dfblevel0_row1\" class=\"row_heading level0 row1\" >male</th>\n",
       "                        <td id=\"T_77051acc_11d5_11eb_a264_5b44e87b4dfbrow1_col0\" class=\"data row1 col0\" >468</td>\n",
       "                        <td id=\"T_77051acc_11d5_11eb_a264_5b44e87b4dfbrow1_col1\" class=\"data row1 col1\" >109</td>\n",
       "                        <td id=\"T_77051acc_11d5_11eb_a264_5b44e87b4dfbrow1_col2\" class=\"data row1 col2\" >577</td>\n",
       "            </tr>\n",
       "            <tr>\n",
       "                        <th id=\"T_77051acc_11d5_11eb_a264_5b44e87b4dfblevel0_row2\" class=\"row_heading level0 row2\" >All</th>\n",
       "                        <td id=\"T_77051acc_11d5_11eb_a264_5b44e87b4dfbrow2_col0\" class=\"data row2 col0\" >549</td>\n",
       "                        <td id=\"T_77051acc_11d5_11eb_a264_5b44e87b4dfbrow2_col1\" class=\"data row2 col1\" >342</td>\n",
       "                        <td id=\"T_77051acc_11d5_11eb_a264_5b44e87b4dfbrow2_col2\" class=\"data row2 col2\" >891</td>\n",
       "            </tr>\n",
       "    </tbody></table>"
      ],
      "text/plain": [
       "<pandas.io.formats.style.Styler at 0x7f4298f95ca0>"
      ]
     },
     "execution_count": 127,
     "metadata": {},
     "output_type": "execute_result"
    }
   ],
   "source": [
    "# Building a crosstab\n",
    "pd.crosstab(index=train['Sex'], columns=train['Survived'], margins=True).style.background_gradient(cmap=\"GnBu\")"
   ]
  },
  {
   "cell_type": "code",
   "execution_count": 181,
   "metadata": {},
   "outputs": [
    {
     "data": {
      "image/png": "[encoded data removed]",
      "text/plain": [
       "<Figure size 504x432 with 1 Axes>"
      ]
     },
     "metadata": {},
     "output_type": "display_data"
    }
   ],
   "source": [
    "# Plotting how many male or female died or survived \n",
    "plot_count(\"Survived\", train, hue = \"Sex\", palette=\"Accent\", figsize=(7,6))"
   ]
  },
  {
   "cell_type": "code",
   "execution_count": 129,
   "metadata": {},
   "outputs": [
    {
     "name": "stdout",
     "output_type": "stream",
     "text": [
      "% male survived in the accident are: 0.18890814558058924\n",
      "% female survived in the accident are: 0.7420382165605095\n"
     ]
    }
   ],
   "source": [
    "# Percentage of female and male survived vs dead\n",
    "male_survive = (train.loc[(train[\"Sex\"] == \"male\") & (train.Survived == 1)].Survived.count())/(train.loc[(train[\"Sex\"] == \"male\")].Survived.count())\n",
    "female_survive = (train.loc[(train[\"Sex\"] == \"female\") & (train.Survived == 1)].Survived.count())/(train.loc[(train[\"Sex\"] == \"female\")].Survived.count())\n",
    "\n",
    "print(f\"% male survived in the accident are: {male_survive}\")\n",
    "print(f\"% female survived in the accident are: {female_survive}\")"
   ]
  },
  {
   "cell_type": "code",
   "execution_count": 182,
   "metadata": {
    "scrolled": true
   },
   "outputs": [
    {
     "data": {
      "image/png": "[encoded data removed]",
      "text/plain": [
       "<Figure size 720x648 with 2 Axes>"
      ]
     },
     "metadata": {},
     "output_type": "display_data"
    }
   ],
   "source": [
    "f, ax = plt.subplots(1, 2, figsize=(10, 9))\n",
    "male_list = [male_survive, 1-male_survive]\n",
    "female_list = [female_survive, 1-female_survive]\n",
    "\n",
    "labels = [\"survived\", \"not survived\"]\n",
    "explode = (0, .2)\n",
    "\n",
    "ax[0].pie(male_list, explode=explode, labels=labels, autopct='%1.1f%%',\n",
    "        shadow=True)\n",
    "ax[1].pie(female_list, explode=explode, labels=labels, autopct='%1.1f%%',\n",
    "        shadow=True)\n",
    "\n",
    "\n",
    "ax[0].set_title('Survived (male)')\n",
    "ax[1].set_title('Survived (female)')\n",
    "\n",
    "plt.show()"
   ]
  },
  {
   "cell_type": "markdown",
   "metadata": {},
   "source": [
    "We see that females are more likely to survive than males.\n",
    "74% of women survive but only 19% of men survive in training set"
   ]
  },
  {
   "cell_type": "markdown",
   "metadata": {},
   "source": [
    "### Relationship between PClass and Survived"
   ]
  },
  {
   "cell_type": "code",
   "execution_count": 131,
   "metadata": {},
   "outputs": [
    {
     "data": {
      "text/html": [
       "<div>\n",
       "<style scoped>\n",
       "    .dataframe tbody tr th:only-of-type {\n",
       "        vertical-align: middle;\n",
       "    }\n",
       "\n",
       "    .dataframe tbody tr th {\n",
       "        vertical-align: top;\n",
       "    }\n",
       "\n",
       "    .dataframe thead th {\n",
       "        text-align: right;\n",
       "    }\n",
       "</style>\n",
       "<table border=\"1\" class=\"dataframe\">\n",
       "  <thead>\n",
       "    <tr style=\"text-align: right;\">\n",
       "      <th></th>\n",
       "      <th>PassengerId</th>\n",
       "      <th>Survived</th>\n",
       "      <th>Pclass</th>\n",
       "      <th>Name</th>\n",
       "      <th>Sex</th>\n",
       "      <th>Age</th>\n",
       "      <th>SibSp</th>\n",
       "      <th>Parch</th>\n",
       "      <th>Ticket</th>\n",
       "      <th>Fare</th>\n",
       "      <th>Cabin</th>\n",
       "      <th>Embarked</th>\n",
       "      <th>Title</th>\n",
       "      <th>Age_Bin</th>\n",
       "      <th>Alone</th>\n",
       "      <th>Fare_Bin</th>\n",
       "    </tr>\n",
       "  </thead>\n",
       "  <tbody>\n",
       "    <tr>\n",
       "      <th>0</th>\n",
       "      <td>1</td>\n",
       "      <td>0</td>\n",
       "      <td>3</td>\n",
       "      <td>Braund, Mr. Owen Harris</td>\n",
       "      <td>male</td>\n",
       "      <td>22.0</td>\n",
       "      <td>1</td>\n",
       "      <td>0</td>\n",
       "      <td>A/5 21171</td>\n",
       "      <td>7.2500</td>\n",
       "      <td>NaN</td>\n",
       "      <td>S</td>\n",
       "      <td>Mr</td>\n",
       "      <td>2</td>\n",
       "      <td>1</td>\n",
       "      <td>3</td>\n",
       "    </tr>\n",
       "    <tr>\n",
       "      <th>1</th>\n",
       "      <td>2</td>\n",
       "      <td>1</td>\n",
       "      <td>1</td>\n",
       "      <td>Cumings, Mrs. John Bradley (Florence Briggs Th...</td>\n",
       "      <td>female</td>\n",
       "      <td>38.0</td>\n",
       "      <td>1</td>\n",
       "      <td>0</td>\n",
       "      <td>PC 17599</td>\n",
       "      <td>71.2833</td>\n",
       "      <td>C85</td>\n",
       "      <td>C</td>\n",
       "      <td>Mrs</td>\n",
       "      <td>2</td>\n",
       "      <td>1</td>\n",
       "      <td>3</td>\n",
       "    </tr>\n",
       "    <tr>\n",
       "      <th>2</th>\n",
       "      <td>3</td>\n",
       "      <td>1</td>\n",
       "      <td>3</td>\n",
       "      <td>Heikkinen, Miss. Laina</td>\n",
       "      <td>female</td>\n",
       "      <td>26.0</td>\n",
       "      <td>0</td>\n",
       "      <td>0</td>\n",
       "      <td>STON/O2. 3101282</td>\n",
       "      <td>7.9250</td>\n",
       "      <td>NaN</td>\n",
       "      <td>S</td>\n",
       "      <td>Miss</td>\n",
       "      <td>2</td>\n",
       "      <td>0</td>\n",
       "      <td>3</td>\n",
       "    </tr>\n",
       "    <tr>\n",
       "      <th>3</th>\n",
       "      <td>4</td>\n",
       "      <td>1</td>\n",
       "      <td>1</td>\n",
       "      <td>Futrelle, Mrs. Jacques Heath (Lily May Peel)</td>\n",
       "      <td>female</td>\n",
       "      <td>35.0</td>\n",
       "      <td>1</td>\n",
       "      <td>0</td>\n",
       "      <td>113803</td>\n",
       "      <td>53.1000</td>\n",
       "      <td>C123</td>\n",
       "      <td>S</td>\n",
       "      <td>Mrs</td>\n",
       "      <td>2</td>\n",
       "      <td>1</td>\n",
       "      <td>3</td>\n",
       "    </tr>\n",
       "    <tr>\n",
       "      <th>4</th>\n",
       "      <td>5</td>\n",
       "      <td>0</td>\n",
       "      <td>3</td>\n",
       "      <td>Allen, Mr. William Henry</td>\n",
       "      <td>male</td>\n",
       "      <td>35.0</td>\n",
       "      <td>0</td>\n",
       "      <td>0</td>\n",
       "      <td>373450</td>\n",
       "      <td>8.0500</td>\n",
       "      <td>NaN</td>\n",
       "      <td>S</td>\n",
       "      <td>Mr</td>\n",
       "      <td>2</td>\n",
       "      <td>0</td>\n",
       "      <td>3</td>\n",
       "    </tr>\n",
       "  </tbody>\n",
       "</table>\n",
       "</div>"
      ],
      "text/plain": [
       "   PassengerId  Survived  Pclass  \\\n",
       "0            1         0       3   \n",
       "1            2         1       1   \n",
       "2            3         1       3   \n",
       "3            4         1       1   \n",
       "4            5         0       3   \n",
       "\n",
       "                                                Name     Sex   Age  SibSp  \\\n",
       "0                            Braund, Mr. Owen Harris    male  22.0      1   \n",
       "1  Cumings, Mrs. John Bradley (Florence Briggs Th...  female  38.0      1   \n",
       "2                             Heikkinen, Miss. Laina  female  26.0      0   \n",
       "3       Futrelle, Mrs. Jacques Heath (Lily May Peel)  female  35.0      1   \n",
       "4                           Allen, Mr. William Henry    male  35.0      0   \n",
       "\n",
       "   Parch            Ticket     Fare Cabin Embarked Title Age_Bin  Alone  \\\n",
       "0      0         A/5 21171   7.2500   NaN        S    Mr       2      1   \n",
       "1      0          PC 17599  71.2833   C85        C   Mrs       2      1   \n",
       "2      0  STON/O2. 3101282   7.9250   NaN        S  Miss       2      0   \n",
       "3      0            113803  53.1000  C123        S   Mrs       2      1   \n",
       "4      0            373450   8.0500   NaN        S    Mr       2      0   \n",
       "\n",
       "  Fare_Bin  \n",
       "0        3  \n",
       "1        3  \n",
       "2        3  \n",
       "3        3  \n",
       "4        3  "
      ]
     },
     "execution_count": 131,
     "metadata": {},
     "output_type": "execute_result"
    }
   ],
   "source": [
    "train.head()"
   ]
  },
  {
   "cell_type": "code",
   "execution_count": 132,
   "metadata": {},
   "outputs": [
    {
     "data": {
      "text/plain": [
       "Survived  Pclass\n",
       "0         1          80\n",
       "          2          97\n",
       "          3         372\n",
       "1         1         136\n",
       "          2          87\n",
       "          3         119\n",
       "Name: Survived, dtype: int64"
      ]
     },
     "execution_count": 132,
     "metadata": {},
     "output_type": "execute_result"
    }
   ],
   "source": [
    "# Total passengers who survived according to cabin class\n",
    "train.groupby([\"Survived\", \"Pclass\"]).Survived.count()"
   ]
  },
  {
   "cell_type": "code",
   "execution_count": 133,
   "metadata": {},
   "outputs": [
    {
     "data": {
      "text/html": [
       "<style  type=\"text/css\" >\n",
       "#T_78ad8620_11d5_11eb_a264_5b44e87b4dfbrow0_col0,#T_78ad8620_11d5_11eb_a264_5b44e87b4dfbrow1_col1,#T_78ad8620_11d5_11eb_a264_5b44e87b4dfbrow1_col2{\n",
       "            background-color:  #fff7f3;\n",
       "            color:  #000000;\n",
       "        }#T_78ad8620_11d5_11eb_a264_5b44e87b4dfbrow0_col1{\n",
       "            background-color:  #fcd1cd;\n",
       "            color:  #000000;\n",
       "        }#T_78ad8620_11d5_11eb_a264_5b44e87b4dfbrow0_col2{\n",
       "            background-color:  #feefeb;\n",
       "            color:  #000000;\n",
       "        }#T_78ad8620_11d5_11eb_a264_5b44e87b4dfbrow1_col0{\n",
       "            background-color:  #fef1ed;\n",
       "            color:  #000000;\n",
       "        }#T_78ad8620_11d5_11eb_a264_5b44e87b4dfbrow2_col0{\n",
       "            background-color:  #dd3597;\n",
       "            color:  #f1f1f1;\n",
       "        }#T_78ad8620_11d5_11eb_a264_5b44e87b4dfbrow2_col1{\n",
       "            background-color:  #fde0dd;\n",
       "            color:  #000000;\n",
       "        }#T_78ad8620_11d5_11eb_a264_5b44e87b4dfbrow2_col2{\n",
       "            background-color:  #f984ab;\n",
       "            color:  #000000;\n",
       "        }#T_78ad8620_11d5_11eb_a264_5b44e87b4dfbrow3_col0,#T_78ad8620_11d5_11eb_a264_5b44e87b4dfbrow3_col1,#T_78ad8620_11d5_11eb_a264_5b44e87b4dfbrow3_col2{\n",
       "            background-color:  #49006a;\n",
       "            color:  #f1f1f1;\n",
       "        }</style><table id=\"T_78ad8620_11d5_11eb_a264_5b44e87b4dfb\" ><thead>    <tr>        <th class=\"index_name level0\" >Survived</th>        <th class=\"col_heading level0 col0\" >0</th>        <th class=\"col_heading level0 col1\" >1</th>        <th class=\"col_heading level0 col2\" >All</th>    </tr>    <tr>        <th class=\"index_name level0\" >Pclass</th>        <th class=\"blank\" ></th>        <th class=\"blank\" ></th>        <th class=\"blank\" ></th>    </tr></thead><tbody>\n",
       "                <tr>\n",
       "                        <th id=\"T_78ad8620_11d5_11eb_a264_5b44e87b4dfblevel0_row0\" class=\"row_heading level0 row0\" >1</th>\n",
       "                        <td id=\"T_78ad8620_11d5_11eb_a264_5b44e87b4dfbrow0_col0\" class=\"data row0 col0\" >80</td>\n",
       "                        <td id=\"T_78ad8620_11d5_11eb_a264_5b44e87b4dfbrow0_col1\" class=\"data row0 col1\" >136</td>\n",
       "                        <td id=\"T_78ad8620_11d5_11eb_a264_5b44e87b4dfbrow0_col2\" class=\"data row0 col2\" >216</td>\n",
       "            </tr>\n",
       "            <tr>\n",
       "                        <th id=\"T_78ad8620_11d5_11eb_a264_5b44e87b4dfblevel0_row1\" class=\"row_heading level0 row1\" >2</th>\n",
       "                        <td id=\"T_78ad8620_11d5_11eb_a264_5b44e87b4dfbrow1_col0\" class=\"data row1 col0\" >97</td>\n",
       "                        <td id=\"T_78ad8620_11d5_11eb_a264_5b44e87b4dfbrow1_col1\" class=\"data row1 col1\" >87</td>\n",
       "                        <td id=\"T_78ad8620_11d5_11eb_a264_5b44e87b4dfbrow1_col2\" class=\"data row1 col2\" >184</td>\n",
       "            </tr>\n",
       "            <tr>\n",
       "                        <th id=\"T_78ad8620_11d5_11eb_a264_5b44e87b4dfblevel0_row2\" class=\"row_heading level0 row2\" >3</th>\n",
       "                        <td id=\"T_78ad8620_11d5_11eb_a264_5b44e87b4dfbrow2_col0\" class=\"data row2 col0\" >372</td>\n",
       "                        <td id=\"T_78ad8620_11d5_11eb_a264_5b44e87b4dfbrow2_col1\" class=\"data row2 col1\" >119</td>\n",
       "                        <td id=\"T_78ad8620_11d5_11eb_a264_5b44e87b4dfbrow2_col2\" class=\"data row2 col2\" >491</td>\n",
       "            </tr>\n",
       "            <tr>\n",
       "                        <th id=\"T_78ad8620_11d5_11eb_a264_5b44e87b4dfblevel0_row3\" class=\"row_heading level0 row3\" >All</th>\n",
       "                        <td id=\"T_78ad8620_11d5_11eb_a264_5b44e87b4dfbrow3_col0\" class=\"data row3 col0\" >549</td>\n",
       "                        <td id=\"T_78ad8620_11d5_11eb_a264_5b44e87b4dfbrow3_col1\" class=\"data row3 col1\" >342</td>\n",
       "                        <td id=\"T_78ad8620_11d5_11eb_a264_5b44e87b4dfbrow3_col2\" class=\"data row3 col2\" >891</td>\n",
       "            </tr>\n",
       "    </tbody></table>"
      ],
      "text/plain": [
       "<pandas.io.formats.style.Styler at 0x7f4298fcf520>"
      ]
     },
     "execution_count": 133,
     "metadata": {},
     "output_type": "execute_result"
    }
   ],
   "source": [
    "# Building a crosstab\n",
    "pd.crosstab(index=train['Pclass'], columns=train['Survived'], margins=True).style.background_gradient(cmap = \"RdPu\")"
   ]
  },
  {
   "cell_type": "code",
   "execution_count": 134,
   "metadata": {},
   "outputs": [
    {
     "data": {
      "image/png": "[encoded data removed]",
      "text/plain": [
       "<Figure size 504x432 with 1 Axes>"
      ]
     },
     "metadata": {},
     "output_type": "display_data"
    }
   ],
   "source": [
    "# Plotting the graph of Pclass vs Survived\n",
    "plot_count(\"Survived\", train, hue=\"Pclass\", palette=\"Accent\", figsize=(7,6))"
   ]
  },
  {
   "cell_type": "code",
   "execution_count": 135,
   "metadata": {},
   "outputs": [
    {
     "name": "stdout",
     "output_type": "stream",
     "text": [
      "% Passengers survived in:-\n",
      "First class are: 0.6296296296296297\n",
      "Second class are: 0.47282608695652173\n",
      "Third class are: 0.24236252545824846\n"
     ]
    }
   ],
   "source": [
    "# Percentage survived passengers according to Pclass\n",
    "first_class = (train.loc[(train[\"Pclass\"] == 1) & (train.Survived == 1)].Survived.count())/(train.loc[(train[\"Pclass\"] == 1)].Survived.count())\n",
    "second_class = (train.loc[(train[\"Pclass\"] == 2) & (train.Survived == 1)].Survived.count())/(train.loc[(train[\"Pclass\"] == 2)].Survived.count())\n",
    "third_class = (train.loc[(train[\"Pclass\"] == 3) & (train.Survived == 1)].Survived.count())/(train.loc[(train[\"Pclass\"] == 3)].Survived.count())\n",
    "\n",
    "print(\"% Passengers survived in:-\")\n",
    "print(f\"First class are: {first_class}\")\n",
    "print(f\"Second class are: {second_class}\")\n",
    "print(f\"Third class are: {third_class}\")"
   ]
  },
  {
   "cell_type": "code",
   "execution_count": 183,
   "metadata": {},
   "outputs": [
    {
     "data": {
      "image/png": "[encoded data removed]",
      "text/plain": [
       "<Figure size 864x432 with 2 Axes>"
      ]
     },
     "metadata": {},
     "output_type": "display_data"
    }
   ],
   "source": [
    "# Visualing percentage survived passengers\n",
    "plot_bar_cat(x='Pclass',y='Survived',data=train, kind=\"point\", figsize=(12,6))"
   ]
  },
  {
   "cell_type": "markdown",
   "metadata": {},
   "source": [
    "We see that higher class passengers have higher rate of survival "
   ]
  },
  {
   "cell_type": "markdown",
   "metadata": {},
   "source": [
    "### Relationship between Embarked and Survived"
   ]
  },
  {
   "cell_type": "code",
   "execution_count": 73,
   "metadata": {},
   "outputs": [
    {
     "data": {
      "text/html": [
       "<div>\n",
       "<style scoped>\n",
       "    .dataframe tbody tr th:only-of-type {\n",
       "        vertical-align: middle;\n",
       "    }\n",
       "\n",
       "    .dataframe tbody tr th {\n",
       "        vertical-align: top;\n",
       "    }\n",
       "\n",
       "    .dataframe thead th {\n",
       "        text-align: right;\n",
       "    }\n",
       "</style>\n",
       "<table border=\"1\" class=\"dataframe\">\n",
       "  <thead>\n",
       "    <tr style=\"text-align: right;\">\n",
       "      <th></th>\n",
       "      <th>PassengerId</th>\n",
       "      <th>Survived</th>\n",
       "      <th>Pclass</th>\n",
       "      <th>Name</th>\n",
       "      <th>Sex</th>\n",
       "      <th>Age</th>\n",
       "      <th>SibSp</th>\n",
       "      <th>Parch</th>\n",
       "      <th>Ticket</th>\n",
       "      <th>Fare</th>\n",
       "      <th>Cabin</th>\n",
       "      <th>Embarked</th>\n",
       "      <th>Title</th>\n",
       "      <th>Age_Bin</th>\n",
       "      <th>Alone</th>\n",
       "      <th>Fare_Bin</th>\n",
       "    </tr>\n",
       "  </thead>\n",
       "  <tbody>\n",
       "    <tr>\n",
       "      <th>0</th>\n",
       "      <td>1</td>\n",
       "      <td>0</td>\n",
       "      <td>3</td>\n",
       "      <td>Braund, Mr. Owen Harris</td>\n",
       "      <td>male</td>\n",
       "      <td>22.0</td>\n",
       "      <td>1</td>\n",
       "      <td>0</td>\n",
       "      <td>A/5 21171</td>\n",
       "      <td>7.2500</td>\n",
       "      <td>NaN</td>\n",
       "      <td>S</td>\n",
       "      <td>Mr</td>\n",
       "      <td>2</td>\n",
       "      <td>1</td>\n",
       "      <td>3</td>\n",
       "    </tr>\n",
       "    <tr>\n",
       "      <th>1</th>\n",
       "      <td>2</td>\n",
       "      <td>1</td>\n",
       "      <td>1</td>\n",
       "      <td>Cumings, Mrs. John Bradley (Florence Briggs Th...</td>\n",
       "      <td>female</td>\n",
       "      <td>38.0</td>\n",
       "      <td>1</td>\n",
       "      <td>0</td>\n",
       "      <td>PC 17599</td>\n",
       "      <td>71.2833</td>\n",
       "      <td>C85</td>\n",
       "      <td>C</td>\n",
       "      <td>Mrs</td>\n",
       "      <td>2</td>\n",
       "      <td>1</td>\n",
       "      <td>3</td>\n",
       "    </tr>\n",
       "    <tr>\n",
       "      <th>2</th>\n",
       "      <td>3</td>\n",
       "      <td>1</td>\n",
       "      <td>3</td>\n",
       "      <td>Heikkinen, Miss. Laina</td>\n",
       "      <td>female</td>\n",
       "      <td>26.0</td>\n",
       "      <td>0</td>\n",
       "      <td>0</td>\n",
       "      <td>STON/O2. 3101282</td>\n",
       "      <td>7.9250</td>\n",
       "      <td>NaN</td>\n",
       "      <td>S</td>\n",
       "      <td>Miss</td>\n",
       "      <td>2</td>\n",
       "      <td>0</td>\n",
       "      <td>3</td>\n",
       "    </tr>\n",
       "    <tr>\n",
       "      <th>3</th>\n",
       "      <td>4</td>\n",
       "      <td>1</td>\n",
       "      <td>1</td>\n",
       "      <td>Futrelle, Mrs. Jacques Heath (Lily May Peel)</td>\n",
       "      <td>female</td>\n",
       "      <td>35.0</td>\n",
       "      <td>1</td>\n",
       "      <td>0</td>\n",
       "      <td>113803</td>\n",
       "      <td>53.1000</td>\n",
       "      <td>C123</td>\n",
       "      <td>S</td>\n",
       "      <td>Mrs</td>\n",
       "      <td>2</td>\n",
       "      <td>1</td>\n",
       "      <td>3</td>\n",
       "    </tr>\n",
       "    <tr>\n",
       "      <th>4</th>\n",
       "      <td>5</td>\n",
       "      <td>0</td>\n",
       "      <td>3</td>\n",
       "      <td>Allen, Mr. William Henry</td>\n",
       "      <td>male</td>\n",
       "      <td>35.0</td>\n",
       "      <td>0</td>\n",
       "      <td>0</td>\n",
       "      <td>373450</td>\n",
       "      <td>8.0500</td>\n",
       "      <td>NaN</td>\n",
       "      <td>S</td>\n",
       "      <td>Mr</td>\n",
       "      <td>2</td>\n",
       "      <td>0</td>\n",
       "      <td>3</td>\n",
       "    </tr>\n",
       "  </tbody>\n",
       "</table>\n",
       "</div>"
      ],
      "text/plain": [
       "   PassengerId  Survived  Pclass  \\\n",
       "0            1         0       3   \n",
       "1            2         1       1   \n",
       "2            3         1       3   \n",
       "3            4         1       1   \n",
       "4            5         0       3   \n",
       "\n",
       "                                                Name     Sex   Age  SibSp  \\\n",
       "0                            Braund, Mr. Owen Harris    male  22.0      1   \n",
       "1  Cumings, Mrs. John Bradley (Florence Briggs Th...  female  38.0      1   \n",
       "2                             Heikkinen, Miss. Laina  female  26.0      0   \n",
       "3       Futrelle, Mrs. Jacques Heath (Lily May Peel)  female  35.0      1   \n",
       "4                           Allen, Mr. William Henry    male  35.0      0   \n",
       "\n",
       "   Parch            Ticket     Fare Cabin Embarked Title Age_Bin  Alone  \\\n",
       "0      0         A/5 21171   7.2500   NaN        S    Mr       2      1   \n",
       "1      0          PC 17599  71.2833   C85        C   Mrs       2      1   \n",
       "2      0  STON/O2. 3101282   7.9250   NaN        S  Miss       2      0   \n",
       "3      0            113803  53.1000  C123        S   Mrs       2      1   \n",
       "4      0            373450   8.0500   NaN        S    Mr       2      0   \n",
       "\n",
       "  Fare_Bin  \n",
       "0        3  \n",
       "1        3  \n",
       "2        3  \n",
       "3        3  \n",
       "4        3  "
      ]
     },
     "execution_count": 73,
     "metadata": {},
     "output_type": "execute_result"
    }
   ],
   "source": [
    "train.head()"
   ]
  },
  {
   "cell_type": "code",
   "execution_count": 74,
   "metadata": {},
   "outputs": [
    {
     "data": {
      "text/html": [
       "<style  type=\"text/css\" >\n",
       "#T_ccbc2724_11d4_11eb_a264_5b44e87b4dfbrow0_col0{\n",
       "            background-color:  #f1f866;\n",
       "            color:  #000000;\n",
       "        }#T_ccbc2724_11d4_11eb_a264_5b44e87b4dfbrow0_col1{\n",
       "            background-color:  #cbe566;\n",
       "            color:  #000000;\n",
       "        }#T_ccbc2724_11d4_11eb_a264_5b44e87b4dfbrow0_col2{\n",
       "            background-color:  #e3f166;\n",
       "            color:  #000000;\n",
       "        }#T_ccbc2724_11d4_11eb_a264_5b44e87b4dfbrow1_col0,#T_ccbc2724_11d4_11eb_a264_5b44e87b4dfbrow1_col1,#T_ccbc2724_11d4_11eb_a264_5b44e87b4dfbrow1_col2{\n",
       "            background-color:  #ffff66;\n",
       "            color:  #000000;\n",
       "        }#T_ccbc2724_11d4_11eb_a264_5b44e87b4dfbrow2_col0{\n",
       "            background-color:  #3e9e66;\n",
       "            color:  #000000;\n",
       "        }#T_ccbc2724_11d4_11eb_a264_5b44e87b4dfbrow2_col1{\n",
       "            background-color:  #65b266;\n",
       "            color:  #000000;\n",
       "        }#T_ccbc2724_11d4_11eb_a264_5b44e87b4dfbrow2_col2{\n",
       "            background-color:  #4da666;\n",
       "            color:  #000000;\n",
       "        }#T_ccbc2724_11d4_11eb_a264_5b44e87b4dfbrow3_col0,#T_ccbc2724_11d4_11eb_a264_5b44e87b4dfbrow3_col1,#T_ccbc2724_11d4_11eb_a264_5b44e87b4dfbrow3_col2{\n",
       "            background-color:  #008066;\n",
       "            color:  #f1f1f1;\n",
       "        }</style><table id=\"T_ccbc2724_11d4_11eb_a264_5b44e87b4dfb\" ><thead>    <tr>        <th class=\"index_name level0\" >Survived</th>        <th class=\"col_heading level0 col0\" >0</th>        <th class=\"col_heading level0 col1\" >1</th>        <th class=\"col_heading level0 col2\" >All</th>    </tr>    <tr>        <th class=\"index_name level0\" >Embarked</th>        <th class=\"blank\" ></th>        <th class=\"blank\" ></th>        <th class=\"blank\" ></th>    </tr></thead><tbody>\n",
       "                <tr>\n",
       "                        <th id=\"T_ccbc2724_11d4_11eb_a264_5b44e87b4dfblevel0_row0\" class=\"row_heading level0 row0\" >C</th>\n",
       "                        <td id=\"T_ccbc2724_11d4_11eb_a264_5b44e87b4dfbrow0_col0\" class=\"data row0 col0\" >75</td>\n",
       "                        <td id=\"T_ccbc2724_11d4_11eb_a264_5b44e87b4dfbrow0_col1\" class=\"data row0 col1\" >93</td>\n",
       "                        <td id=\"T_ccbc2724_11d4_11eb_a264_5b44e87b4dfbrow0_col2\" class=\"data row0 col2\" >168</td>\n",
       "            </tr>\n",
       "            <tr>\n",
       "                        <th id=\"T_ccbc2724_11d4_11eb_a264_5b44e87b4dfblevel0_row1\" class=\"row_heading level0 row1\" >Q</th>\n",
       "                        <td id=\"T_ccbc2724_11d4_11eb_a264_5b44e87b4dfbrow1_col0\" class=\"data row1 col0\" >47</td>\n",
       "                        <td id=\"T_ccbc2724_11d4_11eb_a264_5b44e87b4dfbrow1_col1\" class=\"data row1 col1\" >30</td>\n",
       "                        <td id=\"T_ccbc2724_11d4_11eb_a264_5b44e87b4dfbrow1_col2\" class=\"data row1 col2\" >77</td>\n",
       "            </tr>\n",
       "            <tr>\n",
       "                        <th id=\"T_ccbc2724_11d4_11eb_a264_5b44e87b4dfblevel0_row2\" class=\"row_heading level0 row2\" >S</th>\n",
       "                        <td id=\"T_ccbc2724_11d4_11eb_a264_5b44e87b4dfbrow2_col0\" class=\"data row2 col0\" >427</td>\n",
       "                        <td id=\"T_ccbc2724_11d4_11eb_a264_5b44e87b4dfbrow2_col1\" class=\"data row2 col1\" >217</td>\n",
       "                        <td id=\"T_ccbc2724_11d4_11eb_a264_5b44e87b4dfbrow2_col2\" class=\"data row2 col2\" >644</td>\n",
       "            </tr>\n",
       "            <tr>\n",
       "                        <th id=\"T_ccbc2724_11d4_11eb_a264_5b44e87b4dfblevel0_row3\" class=\"row_heading level0 row3\" >All</th>\n",
       "                        <td id=\"T_ccbc2724_11d4_11eb_a264_5b44e87b4dfbrow3_col0\" class=\"data row3 col0\" >549</td>\n",
       "                        <td id=\"T_ccbc2724_11d4_11eb_a264_5b44e87b4dfbrow3_col1\" class=\"data row3 col1\" >340</td>\n",
       "                        <td id=\"T_ccbc2724_11d4_11eb_a264_5b44e87b4dfbrow3_col2\" class=\"data row3 col2\" >889</td>\n",
       "            </tr>\n",
       "    </tbody></table>"
      ],
      "text/plain": [
       "<pandas.io.formats.style.Styler at 0x7f429938ffa0>"
      ]
     },
     "execution_count": 74,
     "metadata": {},
     "output_type": "execute_result"
    }
   ],
   "source": [
    "pd.crosstab(index=train.Embarked, columns=train.Survived, margins=True).style.background_gradient(cmap = \"summer_r\")"
   ]
  },
  {
   "cell_type": "code",
   "execution_count": 75,
   "metadata": {},
   "outputs": [
    {
     "data": {
      "image/png": "[encoded data removed]",
      "text/plain": [
       "<Figure size 504x432 with 1 Axes>"
      ]
     },
     "metadata": {},
     "output_type": "display_data"
    }
   ],
   "source": [
    "plot_count(\"Survived\", train, hue=\"Embarked\", figsize=(7,6))"
   ]
  },
  {
   "cell_type": "code",
   "execution_count": 76,
   "metadata": {},
   "outputs": [
    {
     "name": "stdout",
     "output_type": "stream",
     "text": [
      "% Passengers survived from:-\n",
      "Southampton are: 0.33695652173913043\n",
      "Cherbourg are: 0.5535714285714286\n",
      "Queenstown are: 0.38961038961038963\n"
     ]
    }
   ],
   "source": [
    "# Percentage survived passengers according to Embarked\n",
    "Southampton = (train.loc[(train[\"Embarked\"] == \"S\") & (train.Survived == 1)].Survived.count())/(train.loc[(train[\"Embarked\"] == \"S\")].Survived.count())\n",
    "Cherbourg = (train.loc[(train[\"Embarked\"] == \"C\") & (train.Survived == 1)].Survived.count())/(train.loc[(train[\"Embarked\"] == \"C\")].Survived.count())\n",
    "Queenstown = (train.loc[(train[\"Embarked\"] == \"Q\") & (train.Survived == 1)].Survived.count())/(train.loc[(train[\"Embarked\"] == \"Q\")].Survived.count())\n",
    "\n",
    "print(\"% Passengers survived from:-\")\n",
    "print(f\"Southampton are: {Southampton}\")\n",
    "print(f\"Cherbourg are: {Cherbourg}\")\n",
    "print(f\"Queenstown are: {Queenstown}\")"
   ]
  },
  {
   "cell_type": "code",
   "execution_count": 184,
   "metadata": {},
   "outputs": [
    {
     "data": {
      "image/png": "[encoded data removed]",
      "text/plain": [
       "<Figure size 864x360 with 2 Axes>"
      ]
     },
     "metadata": {},
     "output_type": "display_data"
    }
   ],
   "source": [
    "plot_bar_cat(x='Embarked',y='Survived',data=train, figsize=(12,5))"
   ]
  },
  {
   "cell_type": "markdown",
   "metadata": {},
   "source": [
    "If you are from Cherbourg you have a higher chance of survival"
   ]
  },
  {
   "cell_type": "markdown",
   "metadata": {},
   "source": [
    "### Relationship between Survived and Age_Bin"
   ]
  },
  {
   "cell_type": "code",
   "execution_count": 79,
   "metadata": {},
   "outputs": [
    {
     "data": {
      "text/html": [
       "<div>\n",
       "<style scoped>\n",
       "    .dataframe tbody tr th:only-of-type {\n",
       "        vertical-align: middle;\n",
       "    }\n",
       "\n",
       "    .dataframe tbody tr th {\n",
       "        vertical-align: top;\n",
       "    }\n",
       "\n",
       "    .dataframe thead th {\n",
       "        text-align: right;\n",
       "    }\n",
       "</style>\n",
       "<table border=\"1\" class=\"dataframe\">\n",
       "  <thead>\n",
       "    <tr style=\"text-align: right;\">\n",
       "      <th></th>\n",
       "      <th>PassengerId</th>\n",
       "      <th>Survived</th>\n",
       "      <th>Pclass</th>\n",
       "      <th>Name</th>\n",
       "      <th>Sex</th>\n",
       "      <th>Age</th>\n",
       "      <th>SibSp</th>\n",
       "      <th>Parch</th>\n",
       "      <th>Ticket</th>\n",
       "      <th>Fare</th>\n",
       "      <th>Cabin</th>\n",
       "      <th>Embarked</th>\n",
       "      <th>Title</th>\n",
       "      <th>Age_Bin</th>\n",
       "      <th>Alone</th>\n",
       "      <th>Fare_Bin</th>\n",
       "    </tr>\n",
       "  </thead>\n",
       "  <tbody>\n",
       "    <tr>\n",
       "      <th>0</th>\n",
       "      <td>1</td>\n",
       "      <td>0</td>\n",
       "      <td>3</td>\n",
       "      <td>Braund, Mr. Owen Harris</td>\n",
       "      <td>male</td>\n",
       "      <td>22.0</td>\n",
       "      <td>1</td>\n",
       "      <td>0</td>\n",
       "      <td>A/5 21171</td>\n",
       "      <td>7.2500</td>\n",
       "      <td>NaN</td>\n",
       "      <td>S</td>\n",
       "      <td>Mr</td>\n",
       "      <td>2</td>\n",
       "      <td>1</td>\n",
       "      <td>3</td>\n",
       "    </tr>\n",
       "    <tr>\n",
       "      <th>1</th>\n",
       "      <td>2</td>\n",
       "      <td>1</td>\n",
       "      <td>1</td>\n",
       "      <td>Cumings, Mrs. John Bradley (Florence Briggs Th...</td>\n",
       "      <td>female</td>\n",
       "      <td>38.0</td>\n",
       "      <td>1</td>\n",
       "      <td>0</td>\n",
       "      <td>PC 17599</td>\n",
       "      <td>71.2833</td>\n",
       "      <td>C85</td>\n",
       "      <td>C</td>\n",
       "      <td>Mrs</td>\n",
       "      <td>2</td>\n",
       "      <td>1</td>\n",
       "      <td>3</td>\n",
       "    </tr>\n",
       "    <tr>\n",
       "      <th>2</th>\n",
       "      <td>3</td>\n",
       "      <td>1</td>\n",
       "      <td>3</td>\n",
       "      <td>Heikkinen, Miss. Laina</td>\n",
       "      <td>female</td>\n",
       "      <td>26.0</td>\n",
       "      <td>0</td>\n",
       "      <td>0</td>\n",
       "      <td>STON/O2. 3101282</td>\n",
       "      <td>7.9250</td>\n",
       "      <td>NaN</td>\n",
       "      <td>S</td>\n",
       "      <td>Miss</td>\n",
       "      <td>2</td>\n",
       "      <td>0</td>\n",
       "      <td>3</td>\n",
       "    </tr>\n",
       "    <tr>\n",
       "      <th>3</th>\n",
       "      <td>4</td>\n",
       "      <td>1</td>\n",
       "      <td>1</td>\n",
       "      <td>Futrelle, Mrs. Jacques Heath (Lily May Peel)</td>\n",
       "      <td>female</td>\n",
       "      <td>35.0</td>\n",
       "      <td>1</td>\n",
       "      <td>0</td>\n",
       "      <td>113803</td>\n",
       "      <td>53.1000</td>\n",
       "      <td>C123</td>\n",
       "      <td>S</td>\n",
       "      <td>Mrs</td>\n",
       "      <td>2</td>\n",
       "      <td>1</td>\n",
       "      <td>3</td>\n",
       "    </tr>\n",
       "    <tr>\n",
       "      <th>4</th>\n",
       "      <td>5</td>\n",
       "      <td>0</td>\n",
       "      <td>3</td>\n",
       "      <td>Allen, Mr. William Henry</td>\n",
       "      <td>male</td>\n",
       "      <td>35.0</td>\n",
       "      <td>0</td>\n",
       "      <td>0</td>\n",
       "      <td>373450</td>\n",
       "      <td>8.0500</td>\n",
       "      <td>NaN</td>\n",
       "      <td>S</td>\n",
       "      <td>Mr</td>\n",
       "      <td>2</td>\n",
       "      <td>0</td>\n",
       "      <td>3</td>\n",
       "    </tr>\n",
       "  </tbody>\n",
       "</table>\n",
       "</div>"
      ],
      "text/plain": [
       "   PassengerId  Survived  Pclass  \\\n",
       "0            1         0       3   \n",
       "1            2         1       1   \n",
       "2            3         1       3   \n",
       "3            4         1       1   \n",
       "4            5         0       3   \n",
       "\n",
       "                                                Name     Sex   Age  SibSp  \\\n",
       "0                            Braund, Mr. Owen Harris    male  22.0      1   \n",
       "1  Cumings, Mrs. John Bradley (Florence Briggs Th...  female  38.0      1   \n",
       "2                             Heikkinen, Miss. Laina  female  26.0      0   \n",
       "3       Futrelle, Mrs. Jacques Heath (Lily May Peel)  female  35.0      1   \n",
       "4                           Allen, Mr. William Henry    male  35.0      0   \n",
       "\n",
       "   Parch            Ticket     Fare Cabin Embarked Title Age_Bin  Alone  \\\n",
       "0      0         A/5 21171   7.2500   NaN        S    Mr       2      1   \n",
       "1      0          PC 17599  71.2833   C85        C   Mrs       2      1   \n",
       "2      0  STON/O2. 3101282   7.9250   NaN        S  Miss       2      0   \n",
       "3      0            113803  53.1000  C123        S   Mrs       2      1   \n",
       "4      0            373450   8.0500   NaN        S    Mr       2      0   \n",
       "\n",
       "  Fare_Bin  \n",
       "0        3  \n",
       "1        3  \n",
       "2        3  \n",
       "3        3  \n",
       "4        3  "
      ]
     },
     "execution_count": 79,
     "metadata": {},
     "output_type": "execute_result"
    }
   ],
   "source": [
    "train.head()"
   ]
  },
  {
   "cell_type": "code",
   "execution_count": 80,
   "metadata": {},
   "outputs": [
    {
     "data": {
      "text/html": [
       "<style  type=\"text/css\" >\n",
       "#T_ccbc2725_11d4_11eb_a264_5b44e87b4dfbrow0_col0{\n",
       "            background-color:  #d0e2f2;\n",
       "            color:  #000000;\n",
       "        }#T_ccbc2725_11d4_11eb_a264_5b44e87b4dfbrow0_col1{\n",
       "            background-color:  #bfd8ed;\n",
       "            color:  #000000;\n",
       "        }#T_ccbc2725_11d4_11eb_a264_5b44e87b4dfbrow0_col2{\n",
       "            background-color:  #cadef0;\n",
       "            color:  #000000;\n",
       "        }#T_ccbc2725_11d4_11eb_a264_5b44e87b4dfbrow1_col0{\n",
       "            background-color:  #61a7d2;\n",
       "            color:  #000000;\n",
       "        }#T_ccbc2725_11d4_11eb_a264_5b44e87b4dfbrow1_col1{\n",
       "            background-color:  #65aad4;\n",
       "            color:  #000000;\n",
       "        }#T_ccbc2725_11d4_11eb_a264_5b44e87b4dfbrow1_col2{\n",
       "            background-color:  #63a8d3;\n",
       "            color:  #000000;\n",
       "        }#T_ccbc2725_11d4_11eb_a264_5b44e87b4dfbrow2_col0{\n",
       "            background-color:  #d9e8f5;\n",
       "            color:  #000000;\n",
       "        }#T_ccbc2725_11d4_11eb_a264_5b44e87b4dfbrow2_col1{\n",
       "            background-color:  #d8e7f5;\n",
       "            color:  #000000;\n",
       "        }#T_ccbc2725_11d4_11eb_a264_5b44e87b4dfbrow2_col2{\n",
       "            background-color:  #d9e7f5;\n",
       "            color:  #000000;\n",
       "        }#T_ccbc2725_11d4_11eb_a264_5b44e87b4dfbrow3_col0,#T_ccbc2725_11d4_11eb_a264_5b44e87b4dfbrow3_col1,#T_ccbc2725_11d4_11eb_a264_5b44e87b4dfbrow3_col2{\n",
       "            background-color:  #f7fbff;\n",
       "            color:  #000000;\n",
       "        }#T_ccbc2725_11d4_11eb_a264_5b44e87b4dfbrow4_col0,#T_ccbc2725_11d4_11eb_a264_5b44e87b4dfbrow4_col1,#T_ccbc2725_11d4_11eb_a264_5b44e87b4dfbrow4_col2{\n",
       "            background-color:  #08306b;\n",
       "            color:  #f1f1f1;\n",
       "        }</style><table id=\"T_ccbc2725_11d4_11eb_a264_5b44e87b4dfb\" ><thead>    <tr>        <th class=\"index_name level0\" >Survived</th>        <th class=\"col_heading level0 col0\" >0</th>        <th class=\"col_heading level0 col1\" >1</th>        <th class=\"col_heading level0 col2\" >All</th>    </tr>    <tr>        <th class=\"index_name level0\" >Age_Bin</th>        <th class=\"blank\" ></th>        <th class=\"blank\" ></th>        <th class=\"blank\" ></th>    </tr></thead><tbody>\n",
       "                <tr>\n",
       "                        <th id=\"T_ccbc2725_11d4_11eb_a264_5b44e87b4dfblevel0_row0\" class=\"row_heading level0 row0\" >1</th>\n",
       "                        <td id=\"T_ccbc2725_11d4_11eb_a264_5b44e87b4dfbrow0_col0\" class=\"data row0 col0\" >97</td>\n",
       "                        <td id=\"T_ccbc2725_11d4_11eb_a264_5b44e87b4dfbrow0_col1\" class=\"data row0 col1\" >82</td>\n",
       "                        <td id=\"T_ccbc2725_11d4_11eb_a264_5b44e87b4dfbrow0_col2\" class=\"data row0 col2\" >179</td>\n",
       "            </tr>\n",
       "            <tr>\n",
       "                        <th id=\"T_ccbc2725_11d4_11eb_a264_5b44e87b4dfblevel0_row1\" class=\"row_heading level0 row1\" >2</th>\n",
       "                        <td id=\"T_ccbc2725_11d4_11eb_a264_5b44e87b4dfbrow1_col0\" class=\"data row1 col0\" >232</td>\n",
       "                        <td id=\"T_ccbc2725_11d4_11eb_a264_5b44e87b4dfbrow1_col1\" class=\"data row1 col1\" >153</td>\n",
       "                        <td id=\"T_ccbc2725_11d4_11eb_a264_5b44e87b4dfbrow1_col2\" class=\"data row1 col2\" >385</td>\n",
       "            </tr>\n",
       "            <tr>\n",
       "                        <th id=\"T_ccbc2725_11d4_11eb_a264_5b44e87b4dfblevel0_row2\" class=\"row_heading level0 row2\" >3</th>\n",
       "                        <td id=\"T_ccbc2725_11d4_11eb_a264_5b44e87b4dfbrow2_col0\" class=\"data row2 col0\" >78</td>\n",
       "                        <td id=\"T_ccbc2725_11d4_11eb_a264_5b44e87b4dfbrow2_col1\" class=\"data row2 col1\" >50</td>\n",
       "                        <td id=\"T_ccbc2725_11d4_11eb_a264_5b44e87b4dfbrow2_col2\" class=\"data row2 col2\" >128</td>\n",
       "            </tr>\n",
       "            <tr>\n",
       "                        <th id=\"T_ccbc2725_11d4_11eb_a264_5b44e87b4dfblevel0_row3\" class=\"row_heading level0 row3\" >4</th>\n",
       "                        <td id=\"T_ccbc2725_11d4_11eb_a264_5b44e87b4dfbrow3_col0\" class=\"data row3 col0\" >17</td>\n",
       "                        <td id=\"T_ccbc2725_11d4_11eb_a264_5b44e87b4dfbrow3_col1\" class=\"data row3 col1\" >5</td>\n",
       "                        <td id=\"T_ccbc2725_11d4_11eb_a264_5b44e87b4dfbrow3_col2\" class=\"data row3 col2\" >22</td>\n",
       "            </tr>\n",
       "            <tr>\n",
       "                        <th id=\"T_ccbc2725_11d4_11eb_a264_5b44e87b4dfblevel0_row4\" class=\"row_heading level0 row4\" >All</th>\n",
       "                        <td id=\"T_ccbc2725_11d4_11eb_a264_5b44e87b4dfbrow4_col0\" class=\"data row4 col0\" >424</td>\n",
       "                        <td id=\"T_ccbc2725_11d4_11eb_a264_5b44e87b4dfbrow4_col1\" class=\"data row4 col1\" >290</td>\n",
       "                        <td id=\"T_ccbc2725_11d4_11eb_a264_5b44e87b4dfbrow4_col2\" class=\"data row4 col2\" >714</td>\n",
       "            </tr>\n",
       "    </tbody></table>"
      ],
      "text/plain": [
       "<pandas.io.formats.style.Styler at 0x7f42991cc1f0>"
      ]
     },
     "execution_count": 80,
     "metadata": {},
     "output_type": "execute_result"
    }
   ],
   "source": [
    "pd.crosstab(index=train.Age_Bin, columns=train.Survived, margins=True).style.background_gradient(cmap = \"Blues\")"
   ]
  },
  {
   "cell_type": "code",
   "execution_count": 81,
   "metadata": {},
   "outputs": [
    {
     "data": {
      "image/png": "[encoded data removed]",
      "text/plain": [
       "<Figure size 648x432 with 1 Axes>"
      ]
     },
     "metadata": {},
     "output_type": "display_data"
    }
   ],
   "source": [
    "plot_count(\"Survived\", train, hue=\"Age_Bin\", figsize=(9,6))"
   ]
  },
  {
   "cell_type": "code",
   "execution_count": 82,
   "metadata": {},
   "outputs": [
    {
     "name": "stdout",
     "output_type": "stream",
     "text": [
      "% Out of survived passengers:-\n",
      "Teens were: 0.4581005586592179\n",
      "Youth were: 0.3974025974025974\n",
      "Adult are: 0.390625\n",
      "Old are: 0.22727272727272727\n"
     ]
    }
   ],
   "source": [
    "Teens = (train.loc[(train[\"Age_Bin\"] == 1) & (train.Survived == 1)].Survived.count())/(train.loc[(train[\"Age_Bin\"] == 1)].Survived.count())\n",
    "Youth = (train.loc[(train[\"Age_Bin\"] == 2) & (train.Survived == 1)].Survived.count())/(train.loc[(train[\"Age_Bin\"] == 2)].Survived.count())\n",
    "Adult = (train.loc[(train[\"Age_Bin\"] == 3) & (train.Survived == 1)].Survived.count())/(train.loc[(train[\"Age_Bin\"] == 3)].Survived.count())\n",
    "Old = (train.loc[(train[\"Age_Bin\"] == 4) & (train.Survived == 1)].Survived.count())/(train.loc[(train[\"Age_Bin\"] == 4)].Survived.count())\n",
    "\n",
    "print(\"% Out of survived passengers:-\")\n",
    "print(f\"Teens were: {Teens}\")\n",
    "print(f\"Youth were: {Youth}\")\n",
    "print(f\"Adult are: {Adult}\")\n",
    "print(f\"Old are: {Old}\")"
   ]
  },
  {
   "cell_type": "code",
   "execution_count": 180,
   "metadata": {},
   "outputs": [
    {
     "data": {
      "image/png": "[encoded data removed]",
      "text/plain": [
       "<Figure size 864x432 with 2 Axes>"
      ]
     },
     "metadata": {},
     "output_type": "display_data"
    }
   ],
   "source": [
    "plot_bar_cat(x='Age_Bin',y='Survived',data=train, figsize=(12,6))"
   ]
  },
  {
   "cell_type": "markdown",
   "metadata": {},
   "source": [
    "Elder people that is 60+ has the least possibility of survival"
   ]
  },
  {
   "cell_type": "markdown",
   "metadata": {},
   "source": [
    "### Relationship between Survived and Alone"
   ]
  },
  {
   "cell_type": "code",
   "execution_count": 151,
   "metadata": {},
   "outputs": [
    {
     "data": {
      "text/html": [
       "<div>\n",
       "<style scoped>\n",
       "    .dataframe tbody tr th:only-of-type {\n",
       "        vertical-align: middle;\n",
       "    }\n",
       "\n",
       "    .dataframe tbody tr th {\n",
       "        vertical-align: top;\n",
       "    }\n",
       "\n",
       "    .dataframe thead th {\n",
       "        text-align: right;\n",
       "    }\n",
       "</style>\n",
       "<table border=\"1\" class=\"dataframe\">\n",
       "  <thead>\n",
       "    <tr style=\"text-align: right;\">\n",
       "      <th></th>\n",
       "      <th>PassengerId</th>\n",
       "      <th>Survived</th>\n",
       "      <th>Pclass</th>\n",
       "      <th>Name</th>\n",
       "      <th>Sex</th>\n",
       "      <th>Age</th>\n",
       "      <th>SibSp</th>\n",
       "      <th>Parch</th>\n",
       "      <th>Ticket</th>\n",
       "      <th>Fare</th>\n",
       "      <th>Cabin</th>\n",
       "      <th>Embarked</th>\n",
       "      <th>Title</th>\n",
       "      <th>Age_Bin</th>\n",
       "      <th>Alone</th>\n",
       "      <th>Fare_Bin</th>\n",
       "    </tr>\n",
       "  </thead>\n",
       "  <tbody>\n",
       "    <tr>\n",
       "      <th>0</th>\n",
       "      <td>1</td>\n",
       "      <td>0</td>\n",
       "      <td>3</td>\n",
       "      <td>Braund, Mr. Owen Harris</td>\n",
       "      <td>male</td>\n",
       "      <td>22.0</td>\n",
       "      <td>1</td>\n",
       "      <td>0</td>\n",
       "      <td>A/5 21171</td>\n",
       "      <td>7.2500</td>\n",
       "      <td>NaN</td>\n",
       "      <td>S</td>\n",
       "      <td>Mr</td>\n",
       "      <td>2</td>\n",
       "      <td>1</td>\n",
       "      <td>3</td>\n",
       "    </tr>\n",
       "    <tr>\n",
       "      <th>1</th>\n",
       "      <td>2</td>\n",
       "      <td>1</td>\n",
       "      <td>1</td>\n",
       "      <td>Cumings, Mrs. John Bradley (Florence Briggs Th...</td>\n",
       "      <td>female</td>\n",
       "      <td>38.0</td>\n",
       "      <td>1</td>\n",
       "      <td>0</td>\n",
       "      <td>PC 17599</td>\n",
       "      <td>71.2833</td>\n",
       "      <td>C85</td>\n",
       "      <td>C</td>\n",
       "      <td>Mrs</td>\n",
       "      <td>2</td>\n",
       "      <td>1</td>\n",
       "      <td>3</td>\n",
       "    </tr>\n",
       "    <tr>\n",
       "      <th>2</th>\n",
       "      <td>3</td>\n",
       "      <td>1</td>\n",
       "      <td>3</td>\n",
       "      <td>Heikkinen, Miss. Laina</td>\n",
       "      <td>female</td>\n",
       "      <td>26.0</td>\n",
       "      <td>0</td>\n",
       "      <td>0</td>\n",
       "      <td>STON/O2. 3101282</td>\n",
       "      <td>7.9250</td>\n",
       "      <td>NaN</td>\n",
       "      <td>S</td>\n",
       "      <td>Miss</td>\n",
       "      <td>2</td>\n",
       "      <td>0</td>\n",
       "      <td>3</td>\n",
       "    </tr>\n",
       "    <tr>\n",
       "      <th>3</th>\n",
       "      <td>4</td>\n",
       "      <td>1</td>\n",
       "      <td>1</td>\n",
       "      <td>Futrelle, Mrs. Jacques Heath (Lily May Peel)</td>\n",
       "      <td>female</td>\n",
       "      <td>35.0</td>\n",
       "      <td>1</td>\n",
       "      <td>0</td>\n",
       "      <td>113803</td>\n",
       "      <td>53.1000</td>\n",
       "      <td>C123</td>\n",
       "      <td>S</td>\n",
       "      <td>Mrs</td>\n",
       "      <td>2</td>\n",
       "      <td>1</td>\n",
       "      <td>3</td>\n",
       "    </tr>\n",
       "    <tr>\n",
       "      <th>4</th>\n",
       "      <td>5</td>\n",
       "      <td>0</td>\n",
       "      <td>3</td>\n",
       "      <td>Allen, Mr. William Henry</td>\n",
       "      <td>male</td>\n",
       "      <td>35.0</td>\n",
       "      <td>0</td>\n",
       "      <td>0</td>\n",
       "      <td>373450</td>\n",
       "      <td>8.0500</td>\n",
       "      <td>NaN</td>\n",
       "      <td>S</td>\n",
       "      <td>Mr</td>\n",
       "      <td>2</td>\n",
       "      <td>0</td>\n",
       "      <td>3</td>\n",
       "    </tr>\n",
       "  </tbody>\n",
       "</table>\n",
       "</div>"
      ],
      "text/plain": [
       "   PassengerId  Survived  Pclass  \\\n",
       "0            1         0       3   \n",
       "1            2         1       1   \n",
       "2            3         1       3   \n",
       "3            4         1       1   \n",
       "4            5         0       3   \n",
       "\n",
       "                                                Name     Sex   Age  SibSp  \\\n",
       "0                            Braund, Mr. Owen Harris    male  22.0      1   \n",
       "1  Cumings, Mrs. John Bradley (Florence Briggs Th...  female  38.0      1   \n",
       "2                             Heikkinen, Miss. Laina  female  26.0      0   \n",
       "3       Futrelle, Mrs. Jacques Heath (Lily May Peel)  female  35.0      1   \n",
       "4                           Allen, Mr. William Henry    male  35.0      0   \n",
       "\n",
       "   Parch            Ticket     Fare Cabin Embarked Title Age_Bin  Alone  \\\n",
       "0      0         A/5 21171   7.2500   NaN        S    Mr       2      1   \n",
       "1      0          PC 17599  71.2833   C85        C   Mrs       2      1   \n",
       "2      0  STON/O2. 3101282   7.9250   NaN        S  Miss       2      0   \n",
       "3      0            113803  53.1000  C123        S   Mrs       2      1   \n",
       "4      0            373450   8.0500   NaN        S    Mr       2      0   \n",
       "\n",
       "  Fare_Bin  \n",
       "0        3  \n",
       "1        3  \n",
       "2        3  \n",
       "3        3  \n",
       "4        3  "
      ]
     },
     "execution_count": 151,
     "metadata": {},
     "output_type": "execute_result"
    }
   ],
   "source": [
    "train.head()"
   ]
  },
  {
   "cell_type": "code",
   "execution_count": 152,
   "metadata": {},
   "outputs": [
    {
     "data": {
      "text/html": [
       "<style  type=\"text/css\" >\n",
       "#T_4a241c3c_11db_11eb_a264_5b44e87b4dfbrow0_col0{\n",
       "            background-color:  #f98254;\n",
       "            color:  #000000;\n",
       "        }#T_4a241c3c_11db_11eb_a264_5b44e87b4dfbrow0_col1,#T_4a241c3c_11db_11eb_a264_5b44e87b4dfbrow1_col0,#T_4a241c3c_11db_11eb_a264_5b44e87b4dfbrow1_col2{\n",
       "            background-color:  #fff7ec;\n",
       "            color:  #000000;\n",
       "        }#T_4a241c3c_11db_11eb_a264_5b44e87b4dfbrow0_col2{\n",
       "            background-color:  #fdc28b;\n",
       "            color:  #000000;\n",
       "        }#T_4a241c3c_11db_11eb_a264_5b44e87b4dfbrow1_col1{\n",
       "            background-color:  #feedd3;\n",
       "            color:  #000000;\n",
       "        }#T_4a241c3c_11db_11eb_a264_5b44e87b4dfbrow2_col0,#T_4a241c3c_11db_11eb_a264_5b44e87b4dfbrow2_col1,#T_4a241c3c_11db_11eb_a264_5b44e87b4dfbrow2_col2{\n",
       "            background-color:  #7f0000;\n",
       "            color:  #f1f1f1;\n",
       "        }</style><table id=\"T_4a241c3c_11db_11eb_a264_5b44e87b4dfb\" ><thead>    <tr>        <th class=\"index_name level0\" >Survived</th>        <th class=\"col_heading level0 col0\" >0</th>        <th class=\"col_heading level0 col1\" >1</th>        <th class=\"col_heading level0 col2\" >All</th>    </tr>    <tr>        <th class=\"index_name level0\" >Alone</th>        <th class=\"blank\" ></th>        <th class=\"blank\" ></th>        <th class=\"blank\" ></th>    </tr></thead><tbody>\n",
       "                <tr>\n",
       "                        <th id=\"T_4a241c3c_11db_11eb_a264_5b44e87b4dfblevel0_row0\" class=\"row_heading level0 row0\" >0</th>\n",
       "                        <td id=\"T_4a241c3c_11db_11eb_a264_5b44e87b4dfbrow0_col0\" class=\"data row0 col0\" >374</td>\n",
       "                        <td id=\"T_4a241c3c_11db_11eb_a264_5b44e87b4dfbrow0_col1\" class=\"data row0 col1\" >163</td>\n",
       "                        <td id=\"T_4a241c3c_11db_11eb_a264_5b44e87b4dfbrow0_col2\" class=\"data row0 col2\" >537</td>\n",
       "            </tr>\n",
       "            <tr>\n",
       "                        <th id=\"T_4a241c3c_11db_11eb_a264_5b44e87b4dfblevel0_row1\" class=\"row_heading level0 row1\" >1</th>\n",
       "                        <td id=\"T_4a241c3c_11db_11eb_a264_5b44e87b4dfbrow1_col0\" class=\"data row1 col0\" >175</td>\n",
       "                        <td id=\"T_4a241c3c_11db_11eb_a264_5b44e87b4dfbrow1_col1\" class=\"data row1 col1\" >179</td>\n",
       "                        <td id=\"T_4a241c3c_11db_11eb_a264_5b44e87b4dfbrow1_col2\" class=\"data row1 col2\" >354</td>\n",
       "            </tr>\n",
       "            <tr>\n",
       "                        <th id=\"T_4a241c3c_11db_11eb_a264_5b44e87b4dfblevel0_row2\" class=\"row_heading level0 row2\" >All</th>\n",
       "                        <td id=\"T_4a241c3c_11db_11eb_a264_5b44e87b4dfbrow2_col0\" class=\"data row2 col0\" >549</td>\n",
       "                        <td id=\"T_4a241c3c_11db_11eb_a264_5b44e87b4dfbrow2_col1\" class=\"data row2 col1\" >342</td>\n",
       "                        <td id=\"T_4a241c3c_11db_11eb_a264_5b44e87b4dfbrow2_col2\" class=\"data row2 col2\" >891</td>\n",
       "            </tr>\n",
       "    </tbody></table>"
      ],
      "text/plain": [
       "<pandas.io.formats.style.Styler at 0x7f429791db50>"
      ]
     },
     "execution_count": 152,
     "metadata": {},
     "output_type": "execute_result"
    }
   ],
   "source": [
    "pd.crosstab(index=train.Alone, columns=train.Survived, margins=True).style.background_gradient(cmap = \"OrRd\")"
   ]
  },
  {
   "cell_type": "code",
   "execution_count": 154,
   "metadata": {},
   "outputs": [
    {
     "data": {
      "image/png": "[encoded data removed]",
      "text/plain": [
       "<Figure size 432x432 with 1 Axes>"
      ]
     },
     "metadata": {},
     "output_type": "display_data"
    }
   ],
   "source": [
    "plot_count(\"Survived\", train, hue=\"Alone\", figsize=(6,6))"
   ]
  },
  {
   "cell_type": "code",
   "execution_count": 185,
   "metadata": {},
   "outputs": [
    {
     "data": {
      "image/png": "[encoded data removed]",
      "text/plain": [
       "<Figure size 864x432 with 2 Axes>"
      ]
     },
     "metadata": {},
     "output_type": "display_data"
    }
   ],
   "source": [
    "plot_bar_cat(x='Alone',y='Survived',data=train, figsize=(12,6))"
   ]
  },
  {
   "cell_type": "markdown",
   "metadata": {},
   "source": [
    "We see that majority of people who were alone i.e. they didnt have either a sibling/spouse or parents died on titanic"
   ]
  },
  {
   "cell_type": "markdown",
   "metadata": {},
   "source": [
    "## MultiVariate Analysis"
   ]
  },
  {
   "cell_type": "markdown",
   "metadata": {},
   "source": [
    "### Relationship between Pclass, Sex and Survived"
   ]
  },
  {
   "cell_type": "code",
   "execution_count": 161,
   "metadata": {},
   "outputs": [
    {
     "data": {
      "text/html": [
       "<style  type=\"text/css\" >\n",
       "#T_902fff8a_11df_11eb_a264_5b44e87b4dfbrow0_col0,#T_902fff8a_11df_11eb_a264_5b44e87b4dfbrow0_col1,#T_902fff8a_11df_11eb_a264_5b44e87b4dfbrow0_col3,#T_902fff8a_11df_11eb_a264_5b44e87b4dfbrow3_col2{\n",
       "            background-color:  #ffffff;\n",
       "            color:  #000000;\n",
       "        }#T_902fff8a_11df_11eb_a264_5b44e87b4dfbrow0_col2,#T_902fff8a_11df_11eb_a264_5b44e87b4dfbrow1_col2{\n",
       "            background-color:  #ffffc8;\n",
       "            color:  #000000;\n",
       "        }#T_902fff8a_11df_11eb_a264_5b44e87b4dfbrow1_col0{\n",
       "            background-color:  #ff9500;\n",
       "            color:  #000000;\n",
       "        }#T_902fff8a_11df_11eb_a264_5b44e87b4dfbrow1_col1{\n",
       "            background-color:  #ffb700;\n",
       "            color:  #000000;\n",
       "        }#T_902fff8a_11df_11eb_a264_5b44e87b4dfbrow1_col3{\n",
       "            background-color:  #ffff42;\n",
       "            color:  #000000;\n",
       "        }#T_902fff8a_11df_11eb_a264_5b44e87b4dfbrow2_col0{\n",
       "            background-color:  #ffc200;\n",
       "            color:  #000000;\n",
       "        }#T_902fff8a_11df_11eb_a264_5b44e87b4dfbrow2_col1,#T_902fff8a_11df_11eb_a264_5b44e87b4dfbrow2_col3{\n",
       "            background-color:  #ff6900;\n",
       "            color:  #000000;\n",
       "        }#T_902fff8a_11df_11eb_a264_5b44e87b4dfbrow2_col2{\n",
       "            background-color:  #ff2c00;\n",
       "            color:  #f1f1f1;\n",
       "        }#T_902fff8a_11df_11eb_a264_5b44e87b4dfbrow3_col0{\n",
       "            background-color:  #ffff3a;\n",
       "            color:  #000000;\n",
       "        }#T_902fff8a_11df_11eb_a264_5b44e87b4dfbrow3_col1{\n",
       "            background-color:  #ffffc4;\n",
       "            color:  #000000;\n",
       "        }#T_902fff8a_11df_11eb_a264_5b44e87b4dfbrow3_col3{\n",
       "            background-color:  #ffffdf;\n",
       "            color:  #000000;\n",
       "        }#T_902fff8a_11df_11eb_a264_5b44e87b4dfbrow4_col0,#T_902fff8a_11df_11eb_a264_5b44e87b4dfbrow4_col1,#T_902fff8a_11df_11eb_a264_5b44e87b4dfbrow4_col2,#T_902fff8a_11df_11eb_a264_5b44e87b4dfbrow4_col3{\n",
       "            background-color:  #0b0000;\n",
       "            color:  #f1f1f1;\n",
       "        }</style><table id=\"T_902fff8a_11df_11eb_a264_5b44e87b4dfb\" ><thead>    <tr>        <th class=\"blank\" ></th>        <th class=\"index_name level0\" >Pclass</th>        <th class=\"col_heading level0 col0\" >1</th>        <th class=\"col_heading level0 col1\" >2</th>        <th class=\"col_heading level0 col2\" >3</th>        <th class=\"col_heading level0 col3\" >All</th>    </tr>    <tr>        <th class=\"index_name level0\" >Sex</th>        <th class=\"index_name level1\" >Survived</th>        <th class=\"blank\" ></th>        <th class=\"blank\" ></th>        <th class=\"blank\" ></th>        <th class=\"blank\" ></th>    </tr></thead><tbody>\n",
       "                <tr>\n",
       "                        <th id=\"T_902fff8a_11df_11eb_a264_5b44e87b4dfblevel0_row0\" class=\"row_heading level0 row0\" rowspan=2>female</th>\n",
       "                        <th id=\"T_902fff8a_11df_11eb_a264_5b44e87b4dfblevel1_row0\" class=\"row_heading level1 row0\" >0</th>\n",
       "                        <td id=\"T_902fff8a_11df_11eb_a264_5b44e87b4dfbrow0_col0\" class=\"data row0 col0\" >3</td>\n",
       "                        <td id=\"T_902fff8a_11df_11eb_a264_5b44e87b4dfbrow0_col1\" class=\"data row0 col1\" >6</td>\n",
       "                        <td id=\"T_902fff8a_11df_11eb_a264_5b44e87b4dfbrow0_col2\" class=\"data row0 col2\" >72</td>\n",
       "                        <td id=\"T_902fff8a_11df_11eb_a264_5b44e87b4dfbrow0_col3\" class=\"data row0 col3\" >81</td>\n",
       "            </tr>\n",
       "            <tr>\n",
       "                                <th id=\"T_902fff8a_11df_11eb_a264_5b44e87b4dfblevel1_row1\" class=\"row_heading level1 row1\" >1</th>\n",
       "                        <td id=\"T_902fff8a_11df_11eb_a264_5b44e87b4dfbrow1_col0\" class=\"data row1 col0\" >91</td>\n",
       "                        <td id=\"T_902fff8a_11df_11eb_a264_5b44e87b4dfbrow1_col1\" class=\"data row1 col1\" >70</td>\n",
       "                        <td id=\"T_902fff8a_11df_11eb_a264_5b44e87b4dfbrow1_col2\" class=\"data row1 col2\" >72</td>\n",
       "                        <td id=\"T_902fff8a_11df_11eb_a264_5b44e87b4dfbrow1_col3\" class=\"data row1 col3\" >233</td>\n",
       "            </tr>\n",
       "            <tr>\n",
       "                        <th id=\"T_902fff8a_11df_11eb_a264_5b44e87b4dfblevel0_row2\" class=\"row_heading level0 row2\" rowspan=2>male</th>\n",
       "                        <th id=\"T_902fff8a_11df_11eb_a264_5b44e87b4dfblevel1_row2\" class=\"row_heading level1 row2\" >0</th>\n",
       "                        <td id=\"T_902fff8a_11df_11eb_a264_5b44e87b4dfbrow2_col0\" class=\"data row2 col0\" >77</td>\n",
       "                        <td id=\"T_902fff8a_11df_11eb_a264_5b44e87b4dfbrow2_col1\" class=\"data row2 col1\" >91</td>\n",
       "                        <td id=\"T_902fff8a_11df_11eb_a264_5b44e87b4dfbrow2_col2\" class=\"data row2 col2\" >300</td>\n",
       "                        <td id=\"T_902fff8a_11df_11eb_a264_5b44e87b4dfbrow2_col3\" class=\"data row2 col3\" >468</td>\n",
       "            </tr>\n",
       "            <tr>\n",
       "                                <th id=\"T_902fff8a_11df_11eb_a264_5b44e87b4dfblevel1_row3\" class=\"row_heading level1 row3\" >1</th>\n",
       "                        <td id=\"T_902fff8a_11df_11eb_a264_5b44e87b4dfbrow3_col0\" class=\"data row3 col0\" >45</td>\n",
       "                        <td id=\"T_902fff8a_11df_11eb_a264_5b44e87b4dfbrow3_col1\" class=\"data row3 col1\" >17</td>\n",
       "                        <td id=\"T_902fff8a_11df_11eb_a264_5b44e87b4dfbrow3_col2\" class=\"data row3 col2\" >47</td>\n",
       "                        <td id=\"T_902fff8a_11df_11eb_a264_5b44e87b4dfbrow3_col3\" class=\"data row3 col3\" >109</td>\n",
       "            </tr>\n",
       "            <tr>\n",
       "                        <th id=\"T_902fff8a_11df_11eb_a264_5b44e87b4dfblevel0_row4\" class=\"row_heading level0 row4\" >All</th>\n",
       "                        <th id=\"T_902fff8a_11df_11eb_a264_5b44e87b4dfblevel1_row4\" class=\"row_heading level1 row4\" ></th>\n",
       "                        <td id=\"T_902fff8a_11df_11eb_a264_5b44e87b4dfbrow4_col0\" class=\"data row4 col0\" >216</td>\n",
       "                        <td id=\"T_902fff8a_11df_11eb_a264_5b44e87b4dfbrow4_col1\" class=\"data row4 col1\" >184</td>\n",
       "                        <td id=\"T_902fff8a_11df_11eb_a264_5b44e87b4dfbrow4_col2\" class=\"data row4 col2\" >491</td>\n",
       "                        <td id=\"T_902fff8a_11df_11eb_a264_5b44e87b4dfbrow4_col3\" class=\"data row4 col3\" >891</td>\n",
       "            </tr>\n",
       "    </tbody></table>"
      ],
      "text/plain": [
       "<pandas.io.formats.style.Styler at 0x7f4297b0dfd0>"
      ]
     },
     "execution_count": 161,
     "metadata": {},
     "output_type": "execute_result"
    }
   ],
   "source": [
    "pd.crosstab(index=[train.Sex, train.Survived], columns=train.Pclass, margins=True).style.background_gradient(cmap=\"hot_r\")"
   ]
  },
  {
   "cell_type": "code",
   "execution_count": 179,
   "metadata": {},
   "outputs": [
    {
     "data": {
      "image/png": "[encoded data removed]",
      "text/plain": [
       "<Figure size 437.975x360 with 1 Axes>"
      ]
     },
     "metadata": {},
     "output_type": "display_data"
    }
   ],
   "source": [
    "sns.catplot(x='Pclass', y='Survived',hue='Sex',data=train, kind=\"point\")\n",
    "plt.show()"
   ]
  },
  {
   "cell_type": "markdown",
   "metadata": {},
   "source": [
    "We see that females who belonged to first class and second class had almost 100% chance of survival as only 3 out of 94 Women from Pclass1 and only 6 of 70 Pclass2 died. While among males first class males had the highest chances of survival."
   ]
  },
  {
   "cell_type": "markdown",
   "metadata": {},
   "source": [
    "It is evident that irrespective of Pclass, Women were given first priority while rescue. Even Men from Pclass1 have a very low survival rate.\n",
    "\n"
   ]
  },
  {
   "cell_type": "markdown",
   "metadata": {},
   "source": [
    "### Relationship between Age/Age_Bin and Survived with Pclass and Sex"
   ]
  },
  {
   "cell_type": "code",
   "execution_count": 204,
   "metadata": {},
   "outputs": [
    {
     "data": {
      "image/png": "[encoded data removed]",
      "text/plain": [
       "<Figure size 1296x576 with 2 Axes>"
      ]
     },
     "metadata": {},
     "output_type": "display_data"
    }
   ],
   "source": [
    "f,ax=plt.subplots(1,2,figsize=(18,8))\n",
    "sns.violinplot(x=\"Pclass\",y=\"Age\", hue=\"Survived\", data=train,split=True,ax=ax[0])\n",
    "ax[0].set_title('Pclass and Age vs Survived')\n",
    "ax[0].set_yticks(range(0,110,10))\n",
    "sns.violinplot(x=\"Sex\",y=\"Age\", hue=\"Survived\", data=train,split=True,ax=ax[1])\n",
    "ax[1].set_title('Sex and Age vs Survived')\n",
    "ax[1].set_yticks(range(0,110,10))\n",
    "plt.show()"
   ]
  },
  {
   "cell_type": "markdown",
   "metadata": {},
   "source": [
    "#### Observations\n",
    "<br>\n",
    "\n",
    "1)The number of children increases with Pclass and the survival rate for passenegers below Age 10(i.e children) looks to be good irrespective of the Pclass.\n",
    "<br>\n",
    "\n",
    "2)Survival chances for Passenegers aged 20-50 from Pclass1 is high and is even better for Women.\n",
    "<br>\n",
    "\n",
    "3)For males, the survival chances decreases with an increase in age."
   ]
  },
  {
   "cell_type": "code",
   "execution_count": 197,
   "metadata": {},
   "outputs": [
    {
     "data": {
      "text/html": [
       "<style  type=\"text/css\" >\n",
       "#T_43adf21c_11e8_11eb_a264_5b44e87b4dfbrow0_col0,#T_43adf21c_11e8_11eb_a264_5b44e87b4dfbrow0_col1,#T_43adf21c_11e8_11eb_a264_5b44e87b4dfbrow0_col2,#T_43adf21c_11e8_11eb_a264_5b44e87b4dfbrow0_col3,#T_43adf21c_11e8_11eb_a264_5b44e87b4dfbrow0_col4{\n",
       "            background-color:  #ffffff;\n",
       "            color:  #000000;\n",
       "        }#T_43adf21c_11e8_11eb_a264_5b44e87b4dfbrow1_col0{\n",
       "            background-color:  #efefcb;\n",
       "            color:  #000000;\n",
       "        }#T_43adf21c_11e8_11eb_a264_5b44e87b4dfbrow1_col1{\n",
       "            background-color:  #ececc0;\n",
       "            color:  #000000;\n",
       "        }#T_43adf21c_11e8_11eb_a264_5b44e87b4dfbrow1_col2{\n",
       "            background-color:  #eeeec7;\n",
       "            color:  #000000;\n",
       "        }#T_43adf21c_11e8_11eb_a264_5b44e87b4dfbrow1_col3{\n",
       "            background-color:  #f3f3db;\n",
       "            color:  #000000;\n",
       "        }#T_43adf21c_11e8_11eb_a264_5b44e87b4dfbrow1_col4{\n",
       "            background-color:  #ededc5;\n",
       "            color:  #000000;\n",
       "        }#T_43adf21c_11e8_11eb_a264_5b44e87b4dfbrow2_col0{\n",
       "            background-color:  #e3dbac;\n",
       "            color:  #000000;\n",
       "        }#T_43adf21c_11e8_11eb_a264_5b44e87b4dfbrow2_col1{\n",
       "            background-color:  #d1ae95;\n",
       "            color:  #000000;\n",
       "        }#T_43adf21c_11e8_11eb_a264_5b44e87b4dfbrow2_col2{\n",
       "            background-color:  #d2b296;\n",
       "            color:  #000000;\n",
       "        }#T_43adf21c_11e8_11eb_a264_5b44e87b4dfbrow2_col3{\n",
       "            background-color:  #9a6363;\n",
       "            color:  #000000;\n",
       "        }#T_43adf21c_11e8_11eb_a264_5b44e87b4dfbrow2_col4{\n",
       "            background-color:  #d5b89a;\n",
       "            color:  #000000;\n",
       "        }#T_43adf21c_11e8_11eb_a264_5b44e87b4dfbrow3_col0{\n",
       "            background-color:  #fcfcf7;\n",
       "            color:  #000000;\n",
       "        }#T_43adf21c_11e8_11eb_a264_5b44e87b4dfbrow3_col1{\n",
       "            background-color:  #fbfbf3;\n",
       "            color:  #000000;\n",
       "        }#T_43adf21c_11e8_11eb_a264_5b44e87b4dfbrow3_col2{\n",
       "            background-color:  #fcfcf5;\n",
       "            color:  #000000;\n",
       "        }#T_43adf21c_11e8_11eb_a264_5b44e87b4dfbrow3_col3{\n",
       "            background-color:  #f7f7e7;\n",
       "            color:  #000000;\n",
       "        }#T_43adf21c_11e8_11eb_a264_5b44e87b4dfbrow3_col4{\n",
       "            background-color:  #fbfbf4;\n",
       "            color:  #000000;\n",
       "        }#T_43adf21c_11e8_11eb_a264_5b44e87b4dfbrow4_col0,#T_43adf21c_11e8_11eb_a264_5b44e87b4dfbrow4_col1,#T_43adf21c_11e8_11eb_a264_5b44e87b4dfbrow4_col2,#T_43adf21c_11e8_11eb_a264_5b44e87b4dfbrow4_col3,#T_43adf21c_11e8_11eb_a264_5b44e87b4dfbrow4_col4{\n",
       "            background-color:  #1e0000;\n",
       "            color:  #f1f1f1;\n",
       "        }</style><table id=\"T_43adf21c_11e8_11eb_a264_5b44e87b4dfb\" ><thead>    <tr>        <th class=\"blank\" ></th>        <th class=\"index_name level0\" >Age_Bin</th>        <th class=\"col_heading level0 col0\" >1</th>        <th class=\"col_heading level0 col1\" >2</th>        <th class=\"col_heading level0 col2\" >3</th>        <th class=\"col_heading level0 col3\" >4</th>        <th class=\"col_heading level0 col4\" >All</th>    </tr>    <tr>        <th class=\"index_name level0\" >Sex</th>        <th class=\"index_name level1\" >Survived</th>        <th class=\"blank\" ></th>        <th class=\"blank\" ></th>        <th class=\"blank\" ></th>        <th class=\"blank\" ></th>        <th class=\"blank\" ></th>    </tr></thead><tbody>\n",
       "                <tr>\n",
       "                        <th id=\"T_43adf21c_11e8_11eb_a264_5b44e87b4dfblevel0_row0\" class=\"row_heading level0 row0\" rowspan=2>female</th>\n",
       "                        <th id=\"T_43adf21c_11e8_11eb_a264_5b44e87b4dfblevel1_row0\" class=\"row_heading level1 row0\" >0</th>\n",
       "                        <td id=\"T_43adf21c_11e8_11eb_a264_5b44e87b4dfbrow0_col0\" class=\"data row0 col0\" >24</td>\n",
       "                        <td id=\"T_43adf21c_11e8_11eb_a264_5b44e87b4dfbrow0_col1\" class=\"data row0 col1\" >29</td>\n",
       "                        <td id=\"T_43adf21c_11e8_11eb_a264_5b44e87b4dfbrow0_col2\" class=\"data row0 col2\" >11</td>\n",
       "                        <td id=\"T_43adf21c_11e8_11eb_a264_5b44e87b4dfbrow0_col3\" class=\"data row0 col3\" >0</td>\n",
       "                        <td id=\"T_43adf21c_11e8_11eb_a264_5b44e87b4dfbrow0_col4\" class=\"data row0 col4\" >64</td>\n",
       "            </tr>\n",
       "            <tr>\n",
       "                                <th id=\"T_43adf21c_11e8_11eb_a264_5b44e87b4dfblevel1_row1\" class=\"row_heading level1 row1\" >1</th>\n",
       "                        <td id=\"T_43adf21c_11e8_11eb_a264_5b44e87b4dfbrow1_col0\" class=\"data row1 col0\" >53</td>\n",
       "                        <td id=\"T_43adf21c_11e8_11eb_a264_5b44e87b4dfbrow1_col1\" class=\"data row1 col1\" >107</td>\n",
       "                        <td id=\"T_43adf21c_11e8_11eb_a264_5b44e87b4dfbrow1_col2\" class=\"data row1 col2\" >34</td>\n",
       "                        <td id=\"T_43adf21c_11e8_11eb_a264_5b44e87b4dfbrow1_col3\" class=\"data row1 col3\" >3</td>\n",
       "                        <td id=\"T_43adf21c_11e8_11eb_a264_5b44e87b4dfbrow1_col4\" class=\"data row1 col4\" >197</td>\n",
       "            </tr>\n",
       "            <tr>\n",
       "                        <th id=\"T_43adf21c_11e8_11eb_a264_5b44e87b4dfblevel0_row2\" class=\"row_heading level0 row2\" rowspan=2>male</th>\n",
       "                        <th id=\"T_43adf21c_11e8_11eb_a264_5b44e87b4dfblevel1_row2\" class=\"row_heading level1 row2\" >0</th>\n",
       "                        <td id=\"T_43adf21c_11e8_11eb_a264_5b44e87b4dfbrow2_col0\" class=\"data row2 col0\" >73</td>\n",
       "                        <td id=\"T_43adf21c_11e8_11eb_a264_5b44e87b4dfbrow2_col1\" class=\"data row2 col1\" >203</td>\n",
       "                        <td id=\"T_43adf21c_11e8_11eb_a264_5b44e87b4dfbrow2_col2\" class=\"data row2 col2\" >67</td>\n",
       "                        <td id=\"T_43adf21c_11e8_11eb_a264_5b44e87b4dfbrow2_col3\" class=\"data row2 col3\" >17</td>\n",
       "                        <td id=\"T_43adf21c_11e8_11eb_a264_5b44e87b4dfbrow2_col4\" class=\"data row2 col4\" >360</td>\n",
       "            </tr>\n",
       "            <tr>\n",
       "                                <th id=\"T_43adf21c_11e8_11eb_a264_5b44e87b4dfblevel1_row3\" class=\"row_heading level1 row3\" >1</th>\n",
       "                        <td id=\"T_43adf21c_11e8_11eb_a264_5b44e87b4dfbrow3_col0\" class=\"data row3 col0\" >29</td>\n",
       "                        <td id=\"T_43adf21c_11e8_11eb_a264_5b44e87b4dfbrow3_col1\" class=\"data row3 col1\" >46</td>\n",
       "                        <td id=\"T_43adf21c_11e8_11eb_a264_5b44e87b4dfbrow3_col2\" class=\"data row3 col2\" >16</td>\n",
       "                        <td id=\"T_43adf21c_11e8_11eb_a264_5b44e87b4dfbrow3_col3\" class=\"data row3 col3\" >2</td>\n",
       "                        <td id=\"T_43adf21c_11e8_11eb_a264_5b44e87b4dfbrow3_col4\" class=\"data row3 col4\" >93</td>\n",
       "            </tr>\n",
       "            <tr>\n",
       "                        <th id=\"T_43adf21c_11e8_11eb_a264_5b44e87b4dfblevel0_row4\" class=\"row_heading level0 row4\" >All</th>\n",
       "                        <th id=\"T_43adf21c_11e8_11eb_a264_5b44e87b4dfblevel1_row4\" class=\"row_heading level1 row4\" ></th>\n",
       "                        <td id=\"T_43adf21c_11e8_11eb_a264_5b44e87b4dfbrow4_col0\" class=\"data row4 col0\" >179</td>\n",
       "                        <td id=\"T_43adf21c_11e8_11eb_a264_5b44e87b4dfbrow4_col1\" class=\"data row4 col1\" >385</td>\n",
       "                        <td id=\"T_43adf21c_11e8_11eb_a264_5b44e87b4dfbrow4_col2\" class=\"data row4 col2\" >128</td>\n",
       "                        <td id=\"T_43adf21c_11e8_11eb_a264_5b44e87b4dfbrow4_col3\" class=\"data row4 col3\" >22</td>\n",
       "                        <td id=\"T_43adf21c_11e8_11eb_a264_5b44e87b4dfbrow4_col4\" class=\"data row4 col4\" >714</td>\n",
       "            </tr>\n",
       "    </tbody></table>"
      ],
      "text/plain": [
       "<pandas.io.formats.style.Styler at 0x7f42959bff10>"
      ]
     },
     "execution_count": 197,
     "metadata": {},
     "output_type": "execute_result"
    }
   ],
   "source": [
    "pd.crosstab(index=[train.Sex, train.Survived], columns=train.Age_Bin, margins=True).style.background_gradient(cmap=\"pink_r\")"
   ]
  },
  {
   "cell_type": "code",
   "execution_count": 196,
   "metadata": {},
   "outputs": [
    {
     "data": {
      "image/png": "[encoded data removed]",
      "text/plain": [
       "<Figure size 437.975x360 with 1 Axes>"
      ]
     },
     "metadata": {},
     "output_type": "display_data"
    }
   ],
   "source": [
    "sns.catplot(x='Age_Bin', y='Survived',hue='Sex',data=train, kind=\"point\")\n",
    "plt.show()"
   ]
  },
  {
   "cell_type": "markdown",
   "metadata": {},
   "source": [
    "We see that all the females who were above 60 i.e. 3 out of 22 survived while majority of males, i.e. 17 out of 22 who were above 60 died.\n",
    "<br>\n",
    "\n",
    "Same goes with males who were above 20 and 40. Majority of the people died. Only men between who were below 20 had a higher chance of survival"
   ]
  },
  {
   "cell_type": "code",
   "execution_count": 200,
   "metadata": {},
   "outputs": [
    {
     "data": {
      "text/html": [
       "<style  type=\"text/css\" >\n",
       "#T_698cee2a_11e8_11eb_a264_5b44e87b4dfbrow0_col0,#T_698cee2a_11e8_11eb_a264_5b44e87b4dfbrow0_col1,#T_698cee2a_11e8_11eb_a264_5b44e87b4dfbrow0_col4,#T_698cee2a_11e8_11eb_a264_5b44e87b4dfbrow3_col3,#T_698cee2a_11e8_11eb_a264_5b44e87b4dfbrow5_col2,#T_698cee2a_11e8_11eb_a264_5b44e87b4dfbrow5_col3{\n",
       "            background-color:  #f7fcfd;\n",
       "            color:  #000000;\n",
       "        }#T_698cee2a_11e8_11eb_a264_5b44e87b4dfbrow0_col2{\n",
       "            background-color:  #d8f0ef;\n",
       "            color:  #000000;\n",
       "        }#T_698cee2a_11e8_11eb_a264_5b44e87b4dfbrow0_col3{\n",
       "            background-color:  #70c6ac;\n",
       "            color:  #000000;\n",
       "        }#T_698cee2a_11e8_11eb_a264_5b44e87b4dfbrow1_col0{\n",
       "            background-color:  #ecf8fb;\n",
       "            color:  #000000;\n",
       "        }#T_698cee2a_11e8_11eb_a264_5b44e87b4dfbrow1_col1{\n",
       "            background-color:  #e6f5f9;\n",
       "            color:  #000000;\n",
       "        }#T_698cee2a_11e8_11eb_a264_5b44e87b4dfbrow1_col2{\n",
       "            background-color:  #c4e9e1;\n",
       "            color:  #000000;\n",
       "        }#T_698cee2a_11e8_11eb_a264_5b44e87b4dfbrow1_col3{\n",
       "            background-color:  #e9f7fa;\n",
       "            color:  #000000;\n",
       "        }#T_698cee2a_11e8_11eb_a264_5b44e87b4dfbrow1_col4{\n",
       "            background-color:  #ebf7fa;\n",
       "            color:  #000000;\n",
       "        }#T_698cee2a_11e8_11eb_a264_5b44e87b4dfbrow2_col0,#T_698cee2a_11e8_11eb_a264_5b44e87b4dfbrow3_col4{\n",
       "            background-color:  #f3fafc;\n",
       "            color:  #000000;\n",
       "        }#T_698cee2a_11e8_11eb_a264_5b44e87b4dfbrow2_col1{\n",
       "            background-color:  #e8f6fa;\n",
       "            color:  #000000;\n",
       "        }#T_698cee2a_11e8_11eb_a264_5b44e87b4dfbrow2_col2{\n",
       "            background-color:  #e3f4f8;\n",
       "            color:  #000000;\n",
       "        }#T_698cee2a_11e8_11eb_a264_5b44e87b4dfbrow2_col3{\n",
       "            background-color:  #f0f9fb;\n",
       "            color:  #000000;\n",
       "        }#T_698cee2a_11e8_11eb_a264_5b44e87b4dfbrow2_col4{\n",
       "            background-color:  #f1fafc;\n",
       "            color:  #000000;\n",
       "        }#T_698cee2a_11e8_11eb_a264_5b44e87b4dfbrow3_col0{\n",
       "            background-color:  #e5f5f9;\n",
       "            color:  #000000;\n",
       "        }#T_698cee2a_11e8_11eb_a264_5b44e87b4dfbrow3_col1,#T_698cee2a_11e8_11eb_a264_5b44e87b4dfbrow5_col1{\n",
       "            background-color:  #eff9fb;\n",
       "            color:  #000000;\n",
       "        }#T_698cee2a_11e8_11eb_a264_5b44e87b4dfbrow3_col2{\n",
       "            background-color:  #ecf8fa;\n",
       "            color:  #000000;\n",
       "        }#T_698cee2a_11e8_11eb_a264_5b44e87b4dfbrow4_col0{\n",
       "            background-color:  #77c9b0;\n",
       "            color:  #000000;\n",
       "        }#T_698cee2a_11e8_11eb_a264_5b44e87b4dfbrow4_col1{\n",
       "            background-color:  #a4dccf;\n",
       "            color:  #000000;\n",
       "        }#T_698cee2a_11e8_11eb_a264_5b44e87b4dfbrow4_col2{\n",
       "            background-color:  #cdece7;\n",
       "            color:  #000000;\n",
       "        }#T_698cee2a_11e8_11eb_a264_5b44e87b4dfbrow4_col3{\n",
       "            background-color:  #e2f4f7;\n",
       "            color:  #000000;\n",
       "        }#T_698cee2a_11e8_11eb_a264_5b44e87b4dfbrow4_col4{\n",
       "            background-color:  #b0e1d6;\n",
       "            color:  #000000;\n",
       "        }#T_698cee2a_11e8_11eb_a264_5b44e87b4dfbrow5_col0{\n",
       "            background-color:  #d6f0ee;\n",
       "            color:  #000000;\n",
       "        }#T_698cee2a_11e8_11eb_a264_5b44e87b4dfbrow5_col4{\n",
       "            background-color:  #f2fafc;\n",
       "            color:  #000000;\n",
       "        }#T_698cee2a_11e8_11eb_a264_5b44e87b4dfbrow6_col0,#T_698cee2a_11e8_11eb_a264_5b44e87b4dfbrow6_col1,#T_698cee2a_11e8_11eb_a264_5b44e87b4dfbrow6_col2,#T_698cee2a_11e8_11eb_a264_5b44e87b4dfbrow6_col3,#T_698cee2a_11e8_11eb_a264_5b44e87b4dfbrow6_col4{\n",
       "            background-color:  #00441b;\n",
       "            color:  #f1f1f1;\n",
       "        }</style><table id=\"T_698cee2a_11e8_11eb_a264_5b44e87b4dfb\" ><thead>    <tr>        <th class=\"blank\" ></th>        <th class=\"index_name level0\" >Age_Bin</th>        <th class=\"col_heading level0 col0\" >1</th>        <th class=\"col_heading level0 col1\" >2</th>        <th class=\"col_heading level0 col2\" >3</th>        <th class=\"col_heading level0 col3\" >4</th>        <th class=\"col_heading level0 col4\" >All</th>    </tr>    <tr>        <th class=\"index_name level0\" >Pclass</th>        <th class=\"index_name level1\" >Survived</th>        <th class=\"blank\" ></th>        <th class=\"blank\" ></th>        <th class=\"blank\" ></th>        <th class=\"blank\" ></th>        <th class=\"blank\" ></th>    </tr></thead><tbody>\n",
       "                <tr>\n",
       "                        <th id=\"T_698cee2a_11e8_11eb_a264_5b44e87b4dfblevel0_row0\" class=\"row_heading level0 row0\" rowspan=2>1</th>\n",
       "                        <th id=\"T_698cee2a_11e8_11eb_a264_5b44e87b4dfblevel1_row0\" class=\"row_heading level1 row0\" >0</th>\n",
       "                        <td id=\"T_698cee2a_11e8_11eb_a264_5b44e87b4dfbrow0_col0\" class=\"data row0 col0\" >4</td>\n",
       "                        <td id=\"T_698cee2a_11e8_11eb_a264_5b44e87b4dfbrow0_col1\" class=\"data row0 col1\" >23</td>\n",
       "                        <td id=\"T_698cee2a_11e8_11eb_a264_5b44e87b4dfbrow0_col2\" class=\"data row0 col2\" >26</td>\n",
       "                        <td id=\"T_698cee2a_11e8_11eb_a264_5b44e87b4dfbrow0_col3\" class=\"data row0 col3\" >11</td>\n",
       "                        <td id=\"T_698cee2a_11e8_11eb_a264_5b44e87b4dfbrow0_col4\" class=\"data row0 col4\" >64</td>\n",
       "            </tr>\n",
       "            <tr>\n",
       "                                <th id=\"T_698cee2a_11e8_11eb_a264_5b44e87b4dfblevel1_row1\" class=\"row_heading level1 row1\" >1</th>\n",
       "                        <td id=\"T_698cee2a_11e8_11eb_a264_5b44e87b4dfbrow1_col0\" class=\"data row1 col0\" >17</td>\n",
       "                        <td id=\"T_698cee2a_11e8_11eb_a264_5b44e87b4dfbrow1_col1\" class=\"data row1 col1\" >66</td>\n",
       "                        <td id=\"T_698cee2a_11e8_11eb_a264_5b44e87b4dfbrow1_col2\" class=\"data row1 col2\" >36</td>\n",
       "                        <td id=\"T_698cee2a_11e8_11eb_a264_5b44e87b4dfbrow1_col3\" class=\"data row1 col3\" >3</td>\n",
       "                        <td id=\"T_698cee2a_11e8_11eb_a264_5b44e87b4dfbrow1_col4\" class=\"data row1 col4\" >122</td>\n",
       "            </tr>\n",
       "            <tr>\n",
       "                        <th id=\"T_698cee2a_11e8_11eb_a264_5b44e87b4dfblevel0_row2\" class=\"row_heading level0 row2\" rowspan=2>2</th>\n",
       "                        <th id=\"T_698cee2a_11e8_11eb_a264_5b44e87b4dfblevel1_row2\" class=\"row_heading level1 row2\" >0</th>\n",
       "                        <td id=\"T_698cee2a_11e8_11eb_a264_5b44e87b4dfbrow2_col0\" class=\"data row2 col0\" >9</td>\n",
       "                        <td id=\"T_698cee2a_11e8_11eb_a264_5b44e87b4dfbrow2_col1\" class=\"data row2 col1\" >60</td>\n",
       "                        <td id=\"T_698cee2a_11e8_11eb_a264_5b44e87b4dfbrow2_col2\" class=\"data row2 col2\" >19</td>\n",
       "                        <td id=\"T_698cee2a_11e8_11eb_a264_5b44e87b4dfbrow2_col3\" class=\"data row2 col3\" >2</td>\n",
       "                        <td id=\"T_698cee2a_11e8_11eb_a264_5b44e87b4dfbrow2_col4\" class=\"data row2 col4\" >90</td>\n",
       "            </tr>\n",
       "            <tr>\n",
       "                                <th id=\"T_698cee2a_11e8_11eb_a264_5b44e87b4dfblevel1_row3\" class=\"row_heading level1 row3\" >1</th>\n",
       "                        <td id=\"T_698cee2a_11e8_11eb_a264_5b44e87b4dfbrow3_col0\" class=\"data row3 col0\" >26</td>\n",
       "                        <td id=\"T_698cee2a_11e8_11eb_a264_5b44e87b4dfbrow3_col1\" class=\"data row3 col1\" >44</td>\n",
       "                        <td id=\"T_698cee2a_11e8_11eb_a264_5b44e87b4dfbrow3_col2\" class=\"data row3 col2\" >12</td>\n",
       "                        <td id=\"T_698cee2a_11e8_11eb_a264_5b44e87b4dfbrow3_col3\" class=\"data row3 col3\" >1</td>\n",
       "                        <td id=\"T_698cee2a_11e8_11eb_a264_5b44e87b4dfbrow3_col4\" class=\"data row3 col4\" >83</td>\n",
       "            </tr>\n",
       "            <tr>\n",
       "                        <th id=\"T_698cee2a_11e8_11eb_a264_5b44e87b4dfblevel0_row4\" class=\"row_heading level0 row4\" rowspan=2>3</th>\n",
       "                        <th id=\"T_698cee2a_11e8_11eb_a264_5b44e87b4dfblevel1_row4\" class=\"row_heading level1 row4\" >0</th>\n",
       "                        <td id=\"T_698cee2a_11e8_11eb_a264_5b44e87b4dfbrow4_col0\" class=\"data row4 col0\" >84</td>\n",
       "                        <td id=\"T_698cee2a_11e8_11eb_a264_5b44e87b4dfbrow4_col1\" class=\"data row4 col1\" >149</td>\n",
       "                        <td id=\"T_698cee2a_11e8_11eb_a264_5b44e87b4dfbrow4_col2\" class=\"data row4 col2\" >33</td>\n",
       "                        <td id=\"T_698cee2a_11e8_11eb_a264_5b44e87b4dfbrow4_col3\" class=\"data row4 col3\" >4</td>\n",
       "                        <td id=\"T_698cee2a_11e8_11eb_a264_5b44e87b4dfbrow4_col4\" class=\"data row4 col4\" >270</td>\n",
       "            </tr>\n",
       "            <tr>\n",
       "                                <th id=\"T_698cee2a_11e8_11eb_a264_5b44e87b4dfblevel1_row5\" class=\"row_heading level1 row5\" >1</th>\n",
       "                        <td id=\"T_698cee2a_11e8_11eb_a264_5b44e87b4dfbrow5_col0\" class=\"data row5 col0\" >39</td>\n",
       "                        <td id=\"T_698cee2a_11e8_11eb_a264_5b44e87b4dfbrow5_col1\" class=\"data row5 col1\" >43</td>\n",
       "                        <td id=\"T_698cee2a_11e8_11eb_a264_5b44e87b4dfbrow5_col2\" class=\"data row5 col2\" >2</td>\n",
       "                        <td id=\"T_698cee2a_11e8_11eb_a264_5b44e87b4dfbrow5_col3\" class=\"data row5 col3\" >1</td>\n",
       "                        <td id=\"T_698cee2a_11e8_11eb_a264_5b44e87b4dfbrow5_col4\" class=\"data row5 col4\" >85</td>\n",
       "            </tr>\n",
       "            <tr>\n",
       "                        <th id=\"T_698cee2a_11e8_11eb_a264_5b44e87b4dfblevel0_row6\" class=\"row_heading level0 row6\" >All</th>\n",
       "                        <th id=\"T_698cee2a_11e8_11eb_a264_5b44e87b4dfblevel1_row6\" class=\"row_heading level1 row6\" ></th>\n",
       "                        <td id=\"T_698cee2a_11e8_11eb_a264_5b44e87b4dfbrow6_col0\" class=\"data row6 col0\" >179</td>\n",
       "                        <td id=\"T_698cee2a_11e8_11eb_a264_5b44e87b4dfbrow6_col1\" class=\"data row6 col1\" >385</td>\n",
       "                        <td id=\"T_698cee2a_11e8_11eb_a264_5b44e87b4dfbrow6_col2\" class=\"data row6 col2\" >128</td>\n",
       "                        <td id=\"T_698cee2a_11e8_11eb_a264_5b44e87b4dfbrow6_col3\" class=\"data row6 col3\" >22</td>\n",
       "                        <td id=\"T_698cee2a_11e8_11eb_a264_5b44e87b4dfbrow6_col4\" class=\"data row6 col4\" >714</td>\n",
       "            </tr>\n",
       "    </tbody></table>"
      ],
      "text/plain": [
       "<pandas.io.formats.style.Styler at 0x7f4295ba03d0>"
      ]
     },
     "execution_count": 200,
     "metadata": {},
     "output_type": "execute_result"
    }
   ],
   "source": [
    "pd.crosstab(index=[train.Pclass, train.Survived], columns=train.Age_Bin, margins=True).style.background_gradient(cmap=\"BuGn\")"
   ]
  },
  {
   "cell_type": "code",
   "execution_count": 203,
   "metadata": {},
   "outputs": [
    {
     "data": {
      "image/png": "[encoded data removed]",
      "text/plain": [
       "<Figure size 406.6x360 with 1 Axes>"
      ]
     },
     "metadata": {},
     "output_type": "display_data"
    }
   ],
   "source": [
    "sns.catplot(x='Age_Bin', y='Survived',hue='Pclass',data=train, kind=\"point\")\n",
    "plt.show()"
   ]
  },
  {
   "cell_type": "markdown",
   "metadata": {},
   "source": [
    "We see that people who were above 60 despite being in the first class (11 out of 22) died.\n",
    "Majority of the people that died and were below 20 belonged to Third class"
   ]
  },
  {
   "cell_type": "code",
   "execution_count": 205,
   "metadata": {},
   "outputs": [
    {
     "data": {
      "text/html": [
       "<div>\n",
       "<style scoped>\n",
       "    .dataframe tbody tr th:only-of-type {\n",
       "        vertical-align: middle;\n",
       "    }\n",
       "\n",
       "    .dataframe tbody tr th {\n",
       "        vertical-align: top;\n",
       "    }\n",
       "\n",
       "    .dataframe thead th {\n",
       "        text-align: right;\n",
       "    }\n",
       "</style>\n",
       "<table border=\"1\" class=\"dataframe\">\n",
       "  <thead>\n",
       "    <tr style=\"text-align: right;\">\n",
       "      <th></th>\n",
       "      <th>PassengerId</th>\n",
       "      <th>Survived</th>\n",
       "      <th>Pclass</th>\n",
       "      <th>Name</th>\n",
       "      <th>Sex</th>\n",
       "      <th>Age</th>\n",
       "      <th>SibSp</th>\n",
       "      <th>Parch</th>\n",
       "      <th>Ticket</th>\n",
       "      <th>Fare</th>\n",
       "      <th>Cabin</th>\n",
       "      <th>Embarked</th>\n",
       "      <th>Title</th>\n",
       "      <th>Age_Bin</th>\n",
       "      <th>Alone</th>\n",
       "      <th>Fare_Bin</th>\n",
       "    </tr>\n",
       "  </thead>\n",
       "  <tbody>\n",
       "    <tr>\n",
       "      <th>0</th>\n",
       "      <td>1</td>\n",
       "      <td>0</td>\n",
       "      <td>3</td>\n",
       "      <td>Braund, Mr. Owen Harris</td>\n",
       "      <td>male</td>\n",
       "      <td>22.0</td>\n",
       "      <td>1</td>\n",
       "      <td>0</td>\n",
       "      <td>A/5 21171</td>\n",
       "      <td>7.2500</td>\n",
       "      <td>NaN</td>\n",
       "      <td>S</td>\n",
       "      <td>Mr</td>\n",
       "      <td>2</td>\n",
       "      <td>1</td>\n",
       "      <td>3</td>\n",
       "    </tr>\n",
       "    <tr>\n",
       "      <th>1</th>\n",
       "      <td>2</td>\n",
       "      <td>1</td>\n",
       "      <td>1</td>\n",
       "      <td>Cumings, Mrs. John Bradley (Florence Briggs Th...</td>\n",
       "      <td>female</td>\n",
       "      <td>38.0</td>\n",
       "      <td>1</td>\n",
       "      <td>0</td>\n",
       "      <td>PC 17599</td>\n",
       "      <td>71.2833</td>\n",
       "      <td>C85</td>\n",
       "      <td>C</td>\n",
       "      <td>Mrs</td>\n",
       "      <td>2</td>\n",
       "      <td>1</td>\n",
       "      <td>3</td>\n",
       "    </tr>\n",
       "    <tr>\n",
       "      <th>2</th>\n",
       "      <td>3</td>\n",
       "      <td>1</td>\n",
       "      <td>3</td>\n",
       "      <td>Heikkinen, Miss. Laina</td>\n",
       "      <td>female</td>\n",
       "      <td>26.0</td>\n",
       "      <td>0</td>\n",
       "      <td>0</td>\n",
       "      <td>STON/O2. 3101282</td>\n",
       "      <td>7.9250</td>\n",
       "      <td>NaN</td>\n",
       "      <td>S</td>\n",
       "      <td>Miss</td>\n",
       "      <td>2</td>\n",
       "      <td>0</td>\n",
       "      <td>3</td>\n",
       "    </tr>\n",
       "    <tr>\n",
       "      <th>3</th>\n",
       "      <td>4</td>\n",
       "      <td>1</td>\n",
       "      <td>1</td>\n",
       "      <td>Futrelle, Mrs. Jacques Heath (Lily May Peel)</td>\n",
       "      <td>female</td>\n",
       "      <td>35.0</td>\n",
       "      <td>1</td>\n",
       "      <td>0</td>\n",
       "      <td>113803</td>\n",
       "      <td>53.1000</td>\n",
       "      <td>C123</td>\n",
       "      <td>S</td>\n",
       "      <td>Mrs</td>\n",
       "      <td>2</td>\n",
       "      <td>1</td>\n",
       "      <td>3</td>\n",
       "    </tr>\n",
       "    <tr>\n",
       "      <th>4</th>\n",
       "      <td>5</td>\n",
       "      <td>0</td>\n",
       "      <td>3</td>\n",
       "      <td>Allen, Mr. William Henry</td>\n",
       "      <td>male</td>\n",
       "      <td>35.0</td>\n",
       "      <td>0</td>\n",
       "      <td>0</td>\n",
       "      <td>373450</td>\n",
       "      <td>8.0500</td>\n",
       "      <td>NaN</td>\n",
       "      <td>S</td>\n",
       "      <td>Mr</td>\n",
       "      <td>2</td>\n",
       "      <td>0</td>\n",
       "      <td>3</td>\n",
       "    </tr>\n",
       "  </tbody>\n",
       "</table>\n",
       "</div>"
      ],
      "text/plain": [
       "   PassengerId  Survived  Pclass  \\\n",
       "0            1         0       3   \n",
       "1            2         1       1   \n",
       "2            3         1       3   \n",
       "3            4         1       1   \n",
       "4            5         0       3   \n",
       "\n",
       "                                                Name     Sex   Age  SibSp  \\\n",
       "0                            Braund, Mr. Owen Harris    male  22.0      1   \n",
       "1  Cumings, Mrs. John Bradley (Florence Briggs Th...  female  38.0      1   \n",
       "2                             Heikkinen, Miss. Laina  female  26.0      0   \n",
       "3       Futrelle, Mrs. Jacques Heath (Lily May Peel)  female  35.0      1   \n",
       "4                           Allen, Mr. William Henry    male  35.0      0   \n",
       "\n",
       "   Parch            Ticket     Fare Cabin Embarked Title Age_Bin  Alone  \\\n",
       "0      0         A/5 21171   7.2500   NaN        S    Mr       2      1   \n",
       "1      0          PC 17599  71.2833   C85        C   Mrs       2      1   \n",
       "2      0  STON/O2. 3101282   7.9250   NaN        S  Miss       2      0   \n",
       "3      0            113803  53.1000  C123        S   Mrs       2      1   \n",
       "4      0            373450   8.0500   NaN        S    Mr       2      0   \n",
       "\n",
       "  Fare_Bin  \n",
       "0        3  \n",
       "1        3  \n",
       "2        3  \n",
       "3        3  \n",
       "4        3  "
      ]
     },
     "execution_count": 205,
     "metadata": {},
     "output_type": "execute_result"
    }
   ],
   "source": [
    "train.head()"
   ]
  },
  {
   "cell_type": "code",
   "execution_count": 207,
   "metadata": {},
   "outputs": [
    {
     "data": {
      "text/html": [
       "<style  type=\"text/css\" >\n",
       "#T_4c766fc6_11ea_11eb_a264_5b44e87b4dfbrow0_col0,#T_4c766fc6_11ea_11eb_a264_5b44e87b4dfbrow4_col4,#T_4c766fc6_11ea_11eb_a264_5b44e87b4dfbrow7_col1{\n",
       "            background-color:  #fffffe;\n",
       "            color:  #000000;\n",
       "        }#T_4c766fc6_11ea_11eb_a264_5b44e87b4dfbrow0_col1,#T_4c766fc6_11ea_11eb_a264_5b44e87b4dfbrow0_col3,#T_4c766fc6_11ea_11eb_a264_5b44e87b4dfbrow0_col4,#T_4c766fc6_11ea_11eb_a264_5b44e87b4dfbrow4_col0,#T_4c766fc6_11ea_11eb_a264_5b44e87b4dfbrow4_col3,#T_4c766fc6_11ea_11eb_a264_5b44e87b4dfbrow5_col3,#T_4c766fc6_11ea_11eb_a264_5b44e87b4dfbrow8_col3,#T_4c766fc6_11ea_11eb_a264_5b44e87b4dfbrow9_col2,#T_4c766fc6_11ea_11eb_a264_5b44e87b4dfbrow11_col3{\n",
       "            background-color:  #ffffff;\n",
       "            color:  #000000;\n",
       "        }#T_4c766fc6_11ea_11eb_a264_5b44e87b4dfbrow0_col2,#T_4c766fc6_11ea_11eb_a264_5b44e87b4dfbrow4_col1,#T_4c766fc6_11ea_11eb_a264_5b44e87b4dfbrow7_col2{\n",
       "            background-color:  #fefefd;\n",
       "            color:  #000000;\n",
       "        }#T_4c766fc6_11ea_11eb_a264_5b44e87b4dfbrow1_col0,#T_4c766fc6_11ea_11eb_a264_5b44e87b4dfbrow8_col4{\n",
       "            background-color:  #f9f9ed;\n",
       "            color:  #000000;\n",
       "        }#T_4c766fc6_11ea_11eb_a264_5b44e87b4dfbrow1_col1,#T_4c766fc6_11ea_11eb_a264_5b44e87b4dfbrow1_col4{\n",
       "            background-color:  #f5f5e2;\n",
       "            color:  #000000;\n",
       "        }#T_4c766fc6_11ea_11eb_a264_5b44e87b4dfbrow1_col2,#T_4c766fc6_11ea_11eb_a264_5b44e87b4dfbrow10_col3{\n",
       "            background-color:  #efefcc;\n",
       "            color:  #000000;\n",
       "        }#T_4c766fc6_11ea_11eb_a264_5b44e87b4dfbrow1_col3,#T_4c766fc6_11ea_11eb_a264_5b44e87b4dfbrow5_col4,#T_4c766fc6_11ea_11eb_a264_5b44e87b4dfbrow6_col3{\n",
       "            background-color:  #f7f7e7;\n",
       "            color:  #000000;\n",
       "        }#T_4c766fc6_11ea_11eb_a264_5b44e87b4dfbrow2_col0,#T_4c766fc6_11ea_11eb_a264_5b44e87b4dfbrow4_col2,#T_4c766fc6_11ea_11eb_a264_5b44e87b4dfbrow7_col4,#T_4c766fc6_11ea_11eb_a264_5b44e87b4dfbrow11_col2{\n",
       "            background-color:  #fefefb;\n",
       "            color:  #000000;\n",
       "        }#T_4c766fc6_11ea_11eb_a264_5b44e87b4dfbrow2_col1,#T_4c766fc6_11ea_11eb_a264_5b44e87b4dfbrow3_col1,#T_4c766fc6_11ea_11eb_a264_5b44e87b4dfbrow7_col0,#T_4c766fc6_11ea_11eb_a264_5b44e87b4dfbrow9_col1{\n",
       "            background-color:  #fafaf1;\n",
       "            color:  #000000;\n",
       "        }#T_4c766fc6_11ea_11eb_a264_5b44e87b4dfbrow2_col2,#T_4c766fc6_11ea_11eb_a264_5b44e87b4dfbrow10_col2{\n",
       "            background-color:  #eeeec7;\n",
       "            color:  #000000;\n",
       "        }#T_4c766fc6_11ea_11eb_a264_5b44e87b4dfbrow2_col3{\n",
       "            background-color:  #d0ab93;\n",
       "            color:  #000000;\n",
       "        }#T_4c766fc6_11ea_11eb_a264_5b44e87b4dfbrow2_col4{\n",
       "            background-color:  #f8f8ea;\n",
       "            color:  #000000;\n",
       "        }#T_4c766fc6_11ea_11eb_a264_5b44e87b4dfbrow3_col0{\n",
       "            background-color:  #fdfdfa;\n",
       "            color:  #000000;\n",
       "        }#T_4c766fc6_11ea_11eb_a264_5b44e87b4dfbrow3_col2,#T_4c766fc6_11ea_11eb_a264_5b44e87b4dfbrow5_col1{\n",
       "            background-color:  #f6f6e4;\n",
       "            color:  #000000;\n",
       "        }#T_4c766fc6_11ea_11eb_a264_5b44e87b4dfbrow3_col3,#T_4c766fc6_11ea_11eb_a264_5b44e87b4dfbrow7_col3,#T_4c766fc6_11ea_11eb_a264_5b44e87b4dfbrow9_col3{\n",
       "            background-color:  #fbfbf4;\n",
       "            color:  #000000;\n",
       "        }#T_4c766fc6_11ea_11eb_a264_5b44e87b4dfbrow3_col4,#T_4c766fc6_11ea_11eb_a264_5b44e87b4dfbrow11_col1{\n",
       "            background-color:  #fbfbf2;\n",
       "            color:  #000000;\n",
       "        }#T_4c766fc6_11ea_11eb_a264_5b44e87b4dfbrow5_col0,#T_4c766fc6_11ea_11eb_a264_5b44e87b4dfbrow5_col2{\n",
       "            background-color:  #f8f8e8;\n",
       "            color:  #000000;\n",
       "        }#T_4c766fc6_11ea_11eb_a264_5b44e87b4dfbrow6_col0,#T_4c766fc6_11ea_11eb_a264_5b44e87b4dfbrow11_col4{\n",
       "            background-color:  #fbfbf3;\n",
       "            color:  #000000;\n",
       "        }#T_4c766fc6_11ea_11eb_a264_5b44e87b4dfbrow6_col1{\n",
       "            background-color:  #f3f3d8;\n",
       "            color:  #000000;\n",
       "        }#T_4c766fc6_11ea_11eb_a264_5b44e87b4dfbrow6_col2,#T_4c766fc6_11ea_11eb_a264_5b44e87b4dfbrow9_col0{\n",
       "            background-color:  #f3f3db;\n",
       "            color:  #000000;\n",
       "        }#T_4c766fc6_11ea_11eb_a264_5b44e87b4dfbrow6_col4{\n",
       "            background-color:  #f5f5e0;\n",
       "            color:  #000000;\n",
       "        }#T_4c766fc6_11ea_11eb_a264_5b44e87b4dfbrow8_col0{\n",
       "            background-color:  #f4f4dd;\n",
       "            color:  #000000;\n",
       "        }#T_4c766fc6_11ea_11eb_a264_5b44e87b4dfbrow8_col1,#T_4c766fc6_11ea_11eb_a264_5b44e87b4dfbrow9_col4{\n",
       "            background-color:  #fafaf0;\n",
       "            color:  #000000;\n",
       "        }#T_4c766fc6_11ea_11eb_a264_5b44e87b4dfbrow8_col2{\n",
       "            background-color:  #fafaef;\n",
       "            color:  #000000;\n",
       "        }#T_4c766fc6_11ea_11eb_a264_5b44e87b4dfbrow10_col0{\n",
       "            background-color:  #e0d5a9;\n",
       "            color:  #000000;\n",
       "        }#T_4c766fc6_11ea_11eb_a264_5b44e87b4dfbrow10_col1{\n",
       "            background-color:  #e2d9ab;\n",
       "            color:  #000000;\n",
       "        }#T_4c766fc6_11ea_11eb_a264_5b44e87b4dfbrow10_col4{\n",
       "            background-color:  #e4dfae;\n",
       "            color:  #000000;\n",
       "        }#T_4c766fc6_11ea_11eb_a264_5b44e87b4dfbrow11_col0{\n",
       "            background-color:  #f8f8e9;\n",
       "            color:  #000000;\n",
       "        }#T_4c766fc6_11ea_11eb_a264_5b44e87b4dfbrow12_col0,#T_4c766fc6_11ea_11eb_a264_5b44e87b4dfbrow12_col1,#T_4c766fc6_11ea_11eb_a264_5b44e87b4dfbrow12_col2,#T_4c766fc6_11ea_11eb_a264_5b44e87b4dfbrow12_col3,#T_4c766fc6_11ea_11eb_a264_5b44e87b4dfbrow12_col4{\n",
       "            background-color:  #1e0000;\n",
       "            color:  #f1f1f1;\n",
       "        }</style><table id=\"T_4c766fc6_11ea_11eb_a264_5b44e87b4dfb\" ><thead>    <tr>        <th class=\"blank\" ></th>        <th class=\"blank\" ></th>        <th class=\"index_name level0\" >Age_Bin</th>        <th class=\"col_heading level0 col0\" >1</th>        <th class=\"col_heading level0 col1\" >2</th>        <th class=\"col_heading level0 col2\" >3</th>        <th class=\"col_heading level0 col3\" >4</th>        <th class=\"col_heading level0 col4\" >All</th>    </tr>    <tr>        <th class=\"index_name level0\" >Pclass</th>        <th class=\"index_name level1\" >Sex</th>        <th class=\"index_name level2\" >Survived</th>        <th class=\"blank\" ></th>        <th class=\"blank\" ></th>        <th class=\"blank\" ></th>        <th class=\"blank\" ></th>        <th class=\"blank\" ></th>    </tr></thead><tbody>\n",
       "                <tr>\n",
       "                        <th id=\"T_4c766fc6_11ea_11eb_a264_5b44e87b4dfblevel0_row0\" class=\"row_heading level0 row0\" rowspan=4>1</th>\n",
       "                        <th id=\"T_4c766fc6_11ea_11eb_a264_5b44e87b4dfblevel1_row0\" class=\"row_heading level1 row0\" rowspan=2>female</th>\n",
       "                        <th id=\"T_4c766fc6_11ea_11eb_a264_5b44e87b4dfblevel2_row0\" class=\"row_heading level2 row0\" >0</th>\n",
       "                        <td id=\"T_4c766fc6_11ea_11eb_a264_5b44e87b4dfbrow0_col0\" class=\"data row0 col0\" >1</td>\n",
       "                        <td id=\"T_4c766fc6_11ea_11eb_a264_5b44e87b4dfbrow0_col1\" class=\"data row0 col1\" >1</td>\n",
       "                        <td id=\"T_4c766fc6_11ea_11eb_a264_5b44e87b4dfbrow0_col2\" class=\"data row0 col2\" >1</td>\n",
       "                        <td id=\"T_4c766fc6_11ea_11eb_a264_5b44e87b4dfbrow0_col3\" class=\"data row0 col3\" >0</td>\n",
       "                        <td id=\"T_4c766fc6_11ea_11eb_a264_5b44e87b4dfbrow0_col4\" class=\"data row0 col4\" >3</td>\n",
       "            </tr>\n",
       "            <tr>\n",
       "                                        <th id=\"T_4c766fc6_11ea_11eb_a264_5b44e87b4dfblevel2_row1\" class=\"row_heading level2 row1\" >1</th>\n",
       "                        <td id=\"T_4c766fc6_11ea_11eb_a264_5b44e87b4dfbrow1_col0\" class=\"data row1 col0\" >13</td>\n",
       "                        <td id=\"T_4c766fc6_11ea_11eb_a264_5b44e87b4dfbrow1_col1\" class=\"data row1 col1\" >44</td>\n",
       "                        <td id=\"T_4c766fc6_11ea_11eb_a264_5b44e87b4dfbrow1_col2\" class=\"data row1 col2\" >23</td>\n",
       "                        <td id=\"T_4c766fc6_11ea_11eb_a264_5b44e87b4dfbrow1_col3\" class=\"data row1 col3\" >2</td>\n",
       "                        <td id=\"T_4c766fc6_11ea_11eb_a264_5b44e87b4dfbrow1_col4\" class=\"data row1 col4\" >82</td>\n",
       "            </tr>\n",
       "            <tr>\n",
       "                                <th id=\"T_4c766fc6_11ea_11eb_a264_5b44e87b4dfblevel1_row2\" class=\"row_heading level1 row2\" rowspan=2>male</th>\n",
       "                        <th id=\"T_4c766fc6_11ea_11eb_a264_5b44e87b4dfblevel2_row2\" class=\"row_heading level2 row2\" >0</th>\n",
       "                        <td id=\"T_4c766fc6_11ea_11eb_a264_5b44e87b4dfbrow2_col0\" class=\"data row2 col0\" >3</td>\n",
       "                        <td id=\"T_4c766fc6_11ea_11eb_a264_5b44e87b4dfbrow2_col1\" class=\"data row2 col1\" >22</td>\n",
       "                        <td id=\"T_4c766fc6_11ea_11eb_a264_5b44e87b4dfbrow2_col2\" class=\"data row2 col2\" >25</td>\n",
       "                        <td id=\"T_4c766fc6_11ea_11eb_a264_5b44e87b4dfbrow2_col3\" class=\"data row2 col3\" >11</td>\n",
       "                        <td id=\"T_4c766fc6_11ea_11eb_a264_5b44e87b4dfbrow2_col4\" class=\"data row2 col4\" >61</td>\n",
       "            </tr>\n",
       "            <tr>\n",
       "                                        <th id=\"T_4c766fc6_11ea_11eb_a264_5b44e87b4dfblevel2_row3\" class=\"row_heading level2 row3\" >1</th>\n",
       "                        <td id=\"T_4c766fc6_11ea_11eb_a264_5b44e87b4dfbrow3_col0\" class=\"data row3 col0\" >4</td>\n",
       "                        <td id=\"T_4c766fc6_11ea_11eb_a264_5b44e87b4dfbrow3_col1\" class=\"data row3 col1\" >22</td>\n",
       "                        <td id=\"T_4c766fc6_11ea_11eb_a264_5b44e87b4dfbrow3_col2\" class=\"data row3 col2\" >13</td>\n",
       "                        <td id=\"T_4c766fc6_11ea_11eb_a264_5b44e87b4dfbrow3_col3\" class=\"data row3 col3\" >1</td>\n",
       "                        <td id=\"T_4c766fc6_11ea_11eb_a264_5b44e87b4dfbrow3_col4\" class=\"data row3 col4\" >40</td>\n",
       "            </tr>\n",
       "            <tr>\n",
       "                        <th id=\"T_4c766fc6_11ea_11eb_a264_5b44e87b4dfblevel0_row4\" class=\"row_heading level0 row4\" rowspan=4>2</th>\n",
       "                        <th id=\"T_4c766fc6_11ea_11eb_a264_5b44e87b4dfblevel1_row4\" class=\"row_heading level1 row4\" rowspan=2>female</th>\n",
       "                        <th id=\"T_4c766fc6_11ea_11eb_a264_5b44e87b4dfblevel2_row4\" class=\"row_heading level2 row4\" >0</th>\n",
       "                        <td id=\"T_4c766fc6_11ea_11eb_a264_5b44e87b4dfbrow4_col0\" class=\"data row4 col0\" >0</td>\n",
       "                        <td id=\"T_4c766fc6_11ea_11eb_a264_5b44e87b4dfbrow4_col1\" class=\"data row4 col1\" >4</td>\n",
       "                        <td id=\"T_4c766fc6_11ea_11eb_a264_5b44e87b4dfbrow4_col2\" class=\"data row4 col2\" >2</td>\n",
       "                        <td id=\"T_4c766fc6_11ea_11eb_a264_5b44e87b4dfbrow4_col3\" class=\"data row4 col3\" >0</td>\n",
       "                        <td id=\"T_4c766fc6_11ea_11eb_a264_5b44e87b4dfbrow4_col4\" class=\"data row4 col4\" >6</td>\n",
       "            </tr>\n",
       "            <tr>\n",
       "                                        <th id=\"T_4c766fc6_11ea_11eb_a264_5b44e87b4dfblevel2_row5\" class=\"row_heading level2 row5\" >1</th>\n",
       "                        <td id=\"T_4c766fc6_11ea_11eb_a264_5b44e87b4dfbrow5_col0\" class=\"data row5 col0\" >16</td>\n",
       "                        <td id=\"T_4c766fc6_11ea_11eb_a264_5b44e87b4dfbrow5_col1\" class=\"data row5 col1\" >41</td>\n",
       "                        <td id=\"T_4c766fc6_11ea_11eb_a264_5b44e87b4dfbrow5_col2\" class=\"data row5 col2\" >11</td>\n",
       "                        <td id=\"T_4c766fc6_11ea_11eb_a264_5b44e87b4dfbrow5_col3\" class=\"data row5 col3\" >0</td>\n",
       "                        <td id=\"T_4c766fc6_11ea_11eb_a264_5b44e87b4dfbrow5_col4\" class=\"data row5 col4\" >68</td>\n",
       "            </tr>\n",
       "            <tr>\n",
       "                                <th id=\"T_4c766fc6_11ea_11eb_a264_5b44e87b4dfblevel1_row6\" class=\"row_heading level1 row6\" rowspan=2>male</th>\n",
       "                        <th id=\"T_4c766fc6_11ea_11eb_a264_5b44e87b4dfblevel2_row6\" class=\"row_heading level2 row6\" >0</th>\n",
       "                        <td id=\"T_4c766fc6_11ea_11eb_a264_5b44e87b4dfbrow6_col0\" class=\"data row6 col0\" >9</td>\n",
       "                        <td id=\"T_4c766fc6_11ea_11eb_a264_5b44e87b4dfbrow6_col1\" class=\"data row6 col1\" >56</td>\n",
       "                        <td id=\"T_4c766fc6_11ea_11eb_a264_5b44e87b4dfbrow6_col2\" class=\"data row6 col2\" >17</td>\n",
       "                        <td id=\"T_4c766fc6_11ea_11eb_a264_5b44e87b4dfbrow6_col3\" class=\"data row6 col3\" >2</td>\n",
       "                        <td id=\"T_4c766fc6_11ea_11eb_a264_5b44e87b4dfbrow6_col4\" class=\"data row6 col4\" >84</td>\n",
       "            </tr>\n",
       "            <tr>\n",
       "                                        <th id=\"T_4c766fc6_11ea_11eb_a264_5b44e87b4dfblevel2_row7\" class=\"row_heading level2 row7\" >1</th>\n",
       "                        <td id=\"T_4c766fc6_11ea_11eb_a264_5b44e87b4dfbrow7_col0\" class=\"data row7 col0\" >10</td>\n",
       "                        <td id=\"T_4c766fc6_11ea_11eb_a264_5b44e87b4dfbrow7_col1\" class=\"data row7 col1\" >3</td>\n",
       "                        <td id=\"T_4c766fc6_11ea_11eb_a264_5b44e87b4dfbrow7_col2\" class=\"data row7 col2\" >1</td>\n",
       "                        <td id=\"T_4c766fc6_11ea_11eb_a264_5b44e87b4dfbrow7_col3\" class=\"data row7 col3\" >1</td>\n",
       "                        <td id=\"T_4c766fc6_11ea_11eb_a264_5b44e87b4dfbrow7_col4\" class=\"data row7 col4\" >15</td>\n",
       "            </tr>\n",
       "            <tr>\n",
       "                        <th id=\"T_4c766fc6_11ea_11eb_a264_5b44e87b4dfblevel0_row8\" class=\"row_heading level0 row8\" rowspan=4>3</th>\n",
       "                        <th id=\"T_4c766fc6_11ea_11eb_a264_5b44e87b4dfblevel1_row8\" class=\"row_heading level1 row8\" rowspan=2>female</th>\n",
       "                        <th id=\"T_4c766fc6_11ea_11eb_a264_5b44e87b4dfblevel2_row8\" class=\"row_heading level2 row8\" >0</th>\n",
       "                        <td id=\"T_4c766fc6_11ea_11eb_a264_5b44e87b4dfbrow8_col0\" class=\"data row8 col0\" >23</td>\n",
       "                        <td id=\"T_4c766fc6_11ea_11eb_a264_5b44e87b4dfbrow8_col1\" class=\"data row8 col1\" >24</td>\n",
       "                        <td id=\"T_4c766fc6_11ea_11eb_a264_5b44e87b4dfbrow8_col2\" class=\"data row8 col2\" >8</td>\n",
       "                        <td id=\"T_4c766fc6_11ea_11eb_a264_5b44e87b4dfbrow8_col3\" class=\"data row8 col3\" >0</td>\n",
       "                        <td id=\"T_4c766fc6_11ea_11eb_a264_5b44e87b4dfbrow8_col4\" class=\"data row8 col4\" >55</td>\n",
       "            </tr>\n",
       "            <tr>\n",
       "                                        <th id=\"T_4c766fc6_11ea_11eb_a264_5b44e87b4dfblevel2_row9\" class=\"row_heading level2 row9\" >1</th>\n",
       "                        <td id=\"T_4c766fc6_11ea_11eb_a264_5b44e87b4dfbrow9_col0\" class=\"data row9 col0\" >24</td>\n",
       "                        <td id=\"T_4c766fc6_11ea_11eb_a264_5b44e87b4dfbrow9_col1\" class=\"data row9 col1\" >22</td>\n",
       "                        <td id=\"T_4c766fc6_11ea_11eb_a264_5b44e87b4dfbrow9_col2\" class=\"data row9 col2\" >0</td>\n",
       "                        <td id=\"T_4c766fc6_11ea_11eb_a264_5b44e87b4dfbrow9_col3\" class=\"data row9 col3\" >1</td>\n",
       "                        <td id=\"T_4c766fc6_11ea_11eb_a264_5b44e87b4dfbrow9_col4\" class=\"data row9 col4\" >47</td>\n",
       "            </tr>\n",
       "            <tr>\n",
       "                                <th id=\"T_4c766fc6_11ea_11eb_a264_5b44e87b4dfblevel1_row10\" class=\"row_heading level1 row10\" rowspan=2>male</th>\n",
       "                        <th id=\"T_4c766fc6_11ea_11eb_a264_5b44e87b4dfblevel2_row10\" class=\"row_heading level2 row10\" >0</th>\n",
       "                        <td id=\"T_4c766fc6_11ea_11eb_a264_5b44e87b4dfbrow10_col0\" class=\"data row10 col0\" >61</td>\n",
       "                        <td id=\"T_4c766fc6_11ea_11eb_a264_5b44e87b4dfbrow10_col1\" class=\"data row10 col1\" >125</td>\n",
       "                        <td id=\"T_4c766fc6_11ea_11eb_a264_5b44e87b4dfbrow10_col2\" class=\"data row10 col2\" >25</td>\n",
       "                        <td id=\"T_4c766fc6_11ea_11eb_a264_5b44e87b4dfbrow10_col3\" class=\"data row10 col3\" >4</td>\n",
       "                        <td id=\"T_4c766fc6_11ea_11eb_a264_5b44e87b4dfbrow10_col4\" class=\"data row10 col4\" >215</td>\n",
       "            </tr>\n",
       "            <tr>\n",
       "                                        <th id=\"T_4c766fc6_11ea_11eb_a264_5b44e87b4dfblevel2_row11\" class=\"row_heading level2 row11\" >1</th>\n",
       "                        <td id=\"T_4c766fc6_11ea_11eb_a264_5b44e87b4dfbrow11_col0\" class=\"data row11 col0\" >15</td>\n",
       "                        <td id=\"T_4c766fc6_11ea_11eb_a264_5b44e87b4dfbrow11_col1\" class=\"data row11 col1\" >21</td>\n",
       "                        <td id=\"T_4c766fc6_11ea_11eb_a264_5b44e87b4dfbrow11_col2\" class=\"data row11 col2\" >2</td>\n",
       "                        <td id=\"T_4c766fc6_11ea_11eb_a264_5b44e87b4dfbrow11_col3\" class=\"data row11 col3\" >0</td>\n",
       "                        <td id=\"T_4c766fc6_11ea_11eb_a264_5b44e87b4dfbrow11_col4\" class=\"data row11 col4\" >38</td>\n",
       "            </tr>\n",
       "            <tr>\n",
       "                        <th id=\"T_4c766fc6_11ea_11eb_a264_5b44e87b4dfblevel0_row12\" class=\"row_heading level0 row12\" >All</th>\n",
       "                        <th id=\"T_4c766fc6_11ea_11eb_a264_5b44e87b4dfblevel1_row12\" class=\"row_heading level1 row12\" ></th>\n",
       "                        <th id=\"T_4c766fc6_11ea_11eb_a264_5b44e87b4dfblevel2_row12\" class=\"row_heading level2 row12\" ></th>\n",
       "                        <td id=\"T_4c766fc6_11ea_11eb_a264_5b44e87b4dfbrow12_col0\" class=\"data row12 col0\" >179</td>\n",
       "                        <td id=\"T_4c766fc6_11ea_11eb_a264_5b44e87b4dfbrow12_col1\" class=\"data row12 col1\" >385</td>\n",
       "                        <td id=\"T_4c766fc6_11ea_11eb_a264_5b44e87b4dfbrow12_col2\" class=\"data row12 col2\" >128</td>\n",
       "                        <td id=\"T_4c766fc6_11ea_11eb_a264_5b44e87b4dfbrow12_col3\" class=\"data row12 col3\" >22</td>\n",
       "                        <td id=\"T_4c766fc6_11ea_11eb_a264_5b44e87b4dfbrow12_col4\" class=\"data row12 col4\" >714</td>\n",
       "            </tr>\n",
       "    </tbody></table>"
      ],
      "text/plain": [
       "<pandas.io.formats.style.Styler at 0x7f429583f760>"
      ]
     },
     "execution_count": 207,
     "metadata": {},
     "output_type": "execute_result"
    }
   ],
   "source": [
    "pd.crosstab(index=[train.Pclass, train.Sex, train.Survived], columns=train.Age_Bin, margins=True).style.background_gradient(cmap=\"pink_r\")"
   ]
  },
  {
   "cell_type": "markdown",
   "metadata": {},
   "source": [
    "* We see here that majority males who died were between the age 20-40 and belonged to the third class \n",
    "* We also observe that all the passengers who were above 60 and belonged to third class died and only one out from first class and second class survived\n",
    "* All the females who were in second class and were of age below 20 survived "
   ]
  },
  {
   "cell_type": "markdown",
   "metadata": {},
   "source": [
    "### Relationship between Alone and Survived with Age and Pclass"
   ]
  },
  {
   "cell_type": "code",
   "execution_count": 209,
   "metadata": {},
   "outputs": [
    {
     "data": {
      "text/html": [
       "<style  type=\"text/css\" >\n",
       "#T_b8a1b8e4_11eb_11eb_a264_5b44e87b4dfbrow0_col0,#T_b8a1b8e4_11eb_11eb_a264_5b44e87b4dfbrow0_col2,#T_b8a1b8e4_11eb_11eb_a264_5b44e87b4dfbrow3_col1{\n",
       "            background-color:  #f7fcfd;\n",
       "            color:  #000000;\n",
       "        }#T_b8a1b8e4_11eb_11eb_a264_5b44e87b4dfbrow0_col1{\n",
       "            background-color:  #f2f8fb;\n",
       "            color:  #000000;\n",
       "        }#T_b8a1b8e4_11eb_11eb_a264_5b44e87b4dfbrow1_col0{\n",
       "            background-color:  #dce9f2;\n",
       "            color:  #000000;\n",
       "        }#T_b8a1b8e4_11eb_11eb_a264_5b44e87b4dfbrow1_col1{\n",
       "            background-color:  #b5cce3;\n",
       "            color:  #000000;\n",
       "        }#T_b8a1b8e4_11eb_11eb_a264_5b44e87b4dfbrow1_col2{\n",
       "            background-color:  #cfdfed;\n",
       "            color:  #000000;\n",
       "        }#T_b8a1b8e4_11eb_11eb_a264_5b44e87b4dfbrow2_col0{\n",
       "            background-color:  #8c6ab1;\n",
       "            color:  #000000;\n",
       "        }#T_b8a1b8e4_11eb_11eb_a264_5b44e87b4dfbrow2_col1{\n",
       "            background-color:  #c1d4e7;\n",
       "            color:  #000000;\n",
       "        }#T_b8a1b8e4_11eb_11eb_a264_5b44e87b4dfbrow2_col2{\n",
       "            background-color:  #8f9dc9;\n",
       "            color:  #000000;\n",
       "        }#T_b8a1b8e4_11eb_11eb_a264_5b44e87b4dfbrow3_col0{\n",
       "            background-color:  #eaf3f8;\n",
       "            color:  #000000;\n",
       "        }#T_b8a1b8e4_11eb_11eb_a264_5b44e87b4dfbrow3_col2{\n",
       "            background-color:  #f1f8fb;\n",
       "            color:  #000000;\n",
       "        }#T_b8a1b8e4_11eb_11eb_a264_5b44e87b4dfbrow4_col0,#T_b8a1b8e4_11eb_11eb_a264_5b44e87b4dfbrow4_col1,#T_b8a1b8e4_11eb_11eb_a264_5b44e87b4dfbrow4_col2{\n",
       "            background-color:  #4d004b;\n",
       "            color:  #f1f1f1;\n",
       "        }</style><table id=\"T_b8a1b8e4_11eb_11eb_a264_5b44e87b4dfb\" ><thead>    <tr>        <th class=\"blank\" ></th>        <th class=\"index_name level0\" >Alone</th>        <th class=\"col_heading level0 col0\" >0</th>        <th class=\"col_heading level0 col1\" >1</th>        <th class=\"col_heading level0 col2\" >All</th>    </tr>    <tr>        <th class=\"index_name level0\" >Sex</th>        <th class=\"index_name level1\" >Survived</th>        <th class=\"blank\" ></th>        <th class=\"blank\" ></th>        <th class=\"blank\" ></th>    </tr></thead><tbody>\n",
       "                <tr>\n",
       "                        <th id=\"T_b8a1b8e4_11eb_11eb_a264_5b44e87b4dfblevel0_row0\" class=\"row_heading level0 row0\" rowspan=2>female</th>\n",
       "                        <th id=\"T_b8a1b8e4_11eb_11eb_a264_5b44e87b4dfblevel1_row0\" class=\"row_heading level1 row0\" >0</th>\n",
       "                        <td id=\"T_b8a1b8e4_11eb_11eb_a264_5b44e87b4dfbrow0_col0\" class=\"data row0 col0\" >27</td>\n",
       "                        <td id=\"T_b8a1b8e4_11eb_11eb_a264_5b44e87b4dfbrow0_col1\" class=\"data row0 col1\" >54</td>\n",
       "                        <td id=\"T_b8a1b8e4_11eb_11eb_a264_5b44e87b4dfbrow0_col2\" class=\"data row0 col2\" >81</td>\n",
       "            </tr>\n",
       "            <tr>\n",
       "                                <th id=\"T_b8a1b8e4_11eb_11eb_a264_5b44e87b4dfblevel1_row1\" class=\"row_heading level1 row1\" >1</th>\n",
       "                        <td id=\"T_b8a1b8e4_11eb_11eb_a264_5b44e87b4dfbrow1_col0\" class=\"data row1 col0\" >99</td>\n",
       "                        <td id=\"T_b8a1b8e4_11eb_11eb_a264_5b44e87b4dfbrow1_col1\" class=\"data row1 col1\" >134</td>\n",
       "                        <td id=\"T_b8a1b8e4_11eb_11eb_a264_5b44e87b4dfbrow1_col2\" class=\"data row1 col2\" >233</td>\n",
       "            </tr>\n",
       "            <tr>\n",
       "                        <th id=\"T_b8a1b8e4_11eb_11eb_a264_5b44e87b4dfblevel0_row2\" class=\"row_heading level0 row2\" rowspan=2>male</th>\n",
       "                        <th id=\"T_b8a1b8e4_11eb_11eb_a264_5b44e87b4dfblevel1_row2\" class=\"row_heading level1 row2\" >0</th>\n",
       "                        <td id=\"T_b8a1b8e4_11eb_11eb_a264_5b44e87b4dfbrow2_col0\" class=\"data row2 col0\" >347</td>\n",
       "                        <td id=\"T_b8a1b8e4_11eb_11eb_a264_5b44e87b4dfbrow2_col1\" class=\"data row2 col1\" >121</td>\n",
       "                        <td id=\"T_b8a1b8e4_11eb_11eb_a264_5b44e87b4dfbrow2_col2\" class=\"data row2 col2\" >468</td>\n",
       "            </tr>\n",
       "            <tr>\n",
       "                                <th id=\"T_b8a1b8e4_11eb_11eb_a264_5b44e87b4dfblevel1_row3\" class=\"row_heading level1 row3\" >1</th>\n",
       "                        <td id=\"T_b8a1b8e4_11eb_11eb_a264_5b44e87b4dfbrow3_col0\" class=\"data row3 col0\" >64</td>\n",
       "                        <td id=\"T_b8a1b8e4_11eb_11eb_a264_5b44e87b4dfbrow3_col1\" class=\"data row3 col1\" >45</td>\n",
       "                        <td id=\"T_b8a1b8e4_11eb_11eb_a264_5b44e87b4dfbrow3_col2\" class=\"data row3 col2\" >109</td>\n",
       "            </tr>\n",
       "            <tr>\n",
       "                        <th id=\"T_b8a1b8e4_11eb_11eb_a264_5b44e87b4dfblevel0_row4\" class=\"row_heading level0 row4\" >All</th>\n",
       "                        <th id=\"T_b8a1b8e4_11eb_11eb_a264_5b44e87b4dfblevel1_row4\" class=\"row_heading level1 row4\" ></th>\n",
       "                        <td id=\"T_b8a1b8e4_11eb_11eb_a264_5b44e87b4dfbrow4_col0\" class=\"data row4 col0\" >537</td>\n",
       "                        <td id=\"T_b8a1b8e4_11eb_11eb_a264_5b44e87b4dfbrow4_col1\" class=\"data row4 col1\" >354</td>\n",
       "                        <td id=\"T_b8a1b8e4_11eb_11eb_a264_5b44e87b4dfbrow4_col2\" class=\"data row4 col2\" >891</td>\n",
       "            </tr>\n",
       "    </tbody></table>"
      ],
      "text/plain": [
       "<pandas.io.formats.style.Styler at 0x7f4298cc41f0>"
      ]
     },
     "execution_count": 209,
     "metadata": {},
     "output_type": "execute_result"
    }
   ],
   "source": [
    "pd.crosstab(index=[train.Sex, train.Survived], columns=train.Alone, margins=True).style.background_gradient(cmap=\"BuPu\")"
   ]
  },
  {
   "cell_type": "code",
   "execution_count": 208,
   "metadata": {},
   "outputs": [
    {
     "data": {
      "image/png": "[encoded data removed]",
      "text/plain": [
       "<Figure size 437.975x360 with 1 Axes>"
      ]
     },
     "metadata": {},
     "output_type": "display_data"
    }
   ],
   "source": [
    "sns.catplot(x='Alone', y='Survived',hue='Sex',data=train, kind=\"point\")\n",
    "plt.show()"
   ]
  },
  {
   "cell_type": "markdown",
   "metadata": {},
   "source": [
    "We see that males who were alone had a very low chance of survival"
   ]
  },
  {
   "cell_type": "code",
   "execution_count": 211,
   "metadata": {},
   "outputs": [
    {
     "data": {
      "text/html": [
       "<style  type=\"text/css\" >\n",
       "#T_ca3e2b6e_11eb_11eb_a264_5b44e87b4dfbrow0_col0{\n",
       "            background-color:  #fbf3f9;\n",
       "            color:  #000000;\n",
       "        }#T_ca3e2b6e_11eb_11eb_a264_5b44e87b4dfbrow0_col1,#T_ca3e2b6e_11eb_11eb_a264_5b44e87b4dfbrow0_col2,#T_ca3e2b6e_11eb_11eb_a264_5b44e87b4dfbrow2_col1,#T_ca3e2b6e_11eb_11eb_a264_5b44e87b4dfbrow3_col0{\n",
       "            background-color:  #fff7fb;\n",
       "            color:  #000000;\n",
       "        }#T_ca3e2b6e_11eb_11eb_a264_5b44e87b4dfbrow1_col0,#T_ca3e2b6e_11eb_11eb_a264_5b44e87b4dfbrow5_col2{\n",
       "            background-color:  #f8f1f8;\n",
       "            color:  #000000;\n",
       "        }#T_ca3e2b6e_11eb_11eb_a264_5b44e87b4dfbrow1_col1{\n",
       "            background-color:  #e7e3f0;\n",
       "            color:  #000000;\n",
       "        }#T_ca3e2b6e_11eb_11eb_a264_5b44e87b4dfbrow1_col2,#T_ca3e2b6e_11eb_11eb_a264_5b44e87b4dfbrow3_col1{\n",
       "            background-color:  #f5eef6;\n",
       "            color:  #000000;\n",
       "        }#T_ca3e2b6e_11eb_11eb_a264_5b44e87b4dfbrow2_col0,#T_ca3e2b6e_11eb_11eb_a264_5b44e87b4dfbrow5_col0,#T_ca3e2b6e_11eb_11eb_a264_5b44e87b4dfbrow5_col1{\n",
       "            background-color:  #f5eff6;\n",
       "            color:  #000000;\n",
       "        }#T_ca3e2b6e_11eb_11eb_a264_5b44e87b4dfbrow2_col2{\n",
       "            background-color:  #fcf4fa;\n",
       "            color:  #000000;\n",
       "        }#T_ca3e2b6e_11eb_11eb_a264_5b44e87b4dfbrow3_col2{\n",
       "            background-color:  #fef6fa;\n",
       "            color:  #000000;\n",
       "        }#T_ca3e2b6e_11eb_11eb_a264_5b44e87b4dfbrow4_col0{\n",
       "            background-color:  #8eb3d5;\n",
       "            color:  #000000;\n",
       "        }#T_ca3e2b6e_11eb_11eb_a264_5b44e87b4dfbrow4_col1{\n",
       "            background-color:  #c9cee4;\n",
       "            color:  #000000;\n",
       "        }#T_ca3e2b6e_11eb_11eb_a264_5b44e87b4dfbrow4_col2{\n",
       "            background-color:  #abbfdc;\n",
       "            color:  #000000;\n",
       "        }#T_ca3e2b6e_11eb_11eb_a264_5b44e87b4dfbrow6_col0,#T_ca3e2b6e_11eb_11eb_a264_5b44e87b4dfbrow6_col1,#T_ca3e2b6e_11eb_11eb_a264_5b44e87b4dfbrow6_col2{\n",
       "            background-color:  #023858;\n",
       "            color:  #f1f1f1;\n",
       "        }</style><table id=\"T_ca3e2b6e_11eb_11eb_a264_5b44e87b4dfb\" ><thead>    <tr>        <th class=\"blank\" ></th>        <th class=\"index_name level0\" >Alone</th>        <th class=\"col_heading level0 col0\" >0</th>        <th class=\"col_heading level0 col1\" >1</th>        <th class=\"col_heading level0 col2\" >All</th>    </tr>    <tr>        <th class=\"index_name level0\" >Pclass</th>        <th class=\"index_name level1\" >Survived</th>        <th class=\"blank\" ></th>        <th class=\"blank\" ></th>        <th class=\"blank\" ></th>    </tr></thead><tbody>\n",
       "                <tr>\n",
       "                        <th id=\"T_ca3e2b6e_11eb_11eb_a264_5b44e87b4dfblevel0_row0\" class=\"row_heading level0 row0\" rowspan=2>1</th>\n",
       "                        <th id=\"T_ca3e2b6e_11eb_11eb_a264_5b44e87b4dfblevel1_row0\" class=\"row_heading level1 row0\" >0</th>\n",
       "                        <td id=\"T_ca3e2b6e_11eb_11eb_a264_5b44e87b4dfbrow0_col0\" class=\"data row0 col0\" >51</td>\n",
       "                        <td id=\"T_ca3e2b6e_11eb_11eb_a264_5b44e87b4dfbrow0_col1\" class=\"data row0 col1\" >29</td>\n",
       "                        <td id=\"T_ca3e2b6e_11eb_11eb_a264_5b44e87b4dfbrow0_col2\" class=\"data row0 col2\" >80</td>\n",
       "            </tr>\n",
       "            <tr>\n",
       "                                <th id=\"T_ca3e2b6e_11eb_11eb_a264_5b44e87b4dfblevel1_row1\" class=\"row_heading level1 row1\" >1</th>\n",
       "                        <td id=\"T_ca3e2b6e_11eb_11eb_a264_5b44e87b4dfbrow1_col0\" class=\"data row1 col0\" >58</td>\n",
       "                        <td id=\"T_ca3e2b6e_11eb_11eb_a264_5b44e87b4dfbrow1_col1\" class=\"data row1 col1\" >78</td>\n",
       "                        <td id=\"T_ca3e2b6e_11eb_11eb_a264_5b44e87b4dfbrow1_col2\" class=\"data row1 col2\" >136</td>\n",
       "            </tr>\n",
       "            <tr>\n",
       "                        <th id=\"T_ca3e2b6e_11eb_11eb_a264_5b44e87b4dfblevel0_row2\" class=\"row_heading level0 row2\" rowspan=2>2</th>\n",
       "                        <th id=\"T_ca3e2b6e_11eb_11eb_a264_5b44e87b4dfblevel1_row2\" class=\"row_heading level1 row2\" >0</th>\n",
       "                        <td id=\"T_ca3e2b6e_11eb_11eb_a264_5b44e87b4dfbrow2_col0\" class=\"data row2 col0\" >68</td>\n",
       "                        <td id=\"T_ca3e2b6e_11eb_11eb_a264_5b44e87b4dfbrow2_col1\" class=\"data row2 col1\" >29</td>\n",
       "                        <td id=\"T_ca3e2b6e_11eb_11eb_a264_5b44e87b4dfbrow2_col2\" class=\"data row2 col2\" >97</td>\n",
       "            </tr>\n",
       "            <tr>\n",
       "                                <th id=\"T_ca3e2b6e_11eb_11eb_a264_5b44e87b4dfblevel1_row3\" class=\"row_heading level1 row3\" >1</th>\n",
       "                        <td id=\"T_ca3e2b6e_11eb_11eb_a264_5b44e87b4dfbrow3_col0\" class=\"data row3 col0\" >36</td>\n",
       "                        <td id=\"T_ca3e2b6e_11eb_11eb_a264_5b44e87b4dfbrow3_col1\" class=\"data row3 col1\" >51</td>\n",
       "                        <td id=\"T_ca3e2b6e_11eb_11eb_a264_5b44e87b4dfbrow3_col2\" class=\"data row3 col2\" >87</td>\n",
       "            </tr>\n",
       "            <tr>\n",
       "                        <th id=\"T_ca3e2b6e_11eb_11eb_a264_5b44e87b4dfblevel0_row4\" class=\"row_heading level0 row4\" rowspan=2>3</th>\n",
       "                        <th id=\"T_ca3e2b6e_11eb_11eb_a264_5b44e87b4dfblevel1_row4\" class=\"row_heading level1 row4\" >0</th>\n",
       "                        <td id=\"T_ca3e2b6e_11eb_11eb_a264_5b44e87b4dfbrow4_col0\" class=\"data row4 col0\" >255</td>\n",
       "                        <td id=\"T_ca3e2b6e_11eb_11eb_a264_5b44e87b4dfbrow4_col1\" class=\"data row4 col1\" >117</td>\n",
       "                        <td id=\"T_ca3e2b6e_11eb_11eb_a264_5b44e87b4dfbrow4_col2\" class=\"data row4 col2\" >372</td>\n",
       "            </tr>\n",
       "            <tr>\n",
       "                                <th id=\"T_ca3e2b6e_11eb_11eb_a264_5b44e87b4dfblevel1_row5\" class=\"row_heading level1 row5\" >1</th>\n",
       "                        <td id=\"T_ca3e2b6e_11eb_11eb_a264_5b44e87b4dfbrow5_col0\" class=\"data row5 col0\" >69</td>\n",
       "                        <td id=\"T_ca3e2b6e_11eb_11eb_a264_5b44e87b4dfbrow5_col1\" class=\"data row5 col1\" >50</td>\n",
       "                        <td id=\"T_ca3e2b6e_11eb_11eb_a264_5b44e87b4dfbrow5_col2\" class=\"data row5 col2\" >119</td>\n",
       "            </tr>\n",
       "            <tr>\n",
       "                        <th id=\"T_ca3e2b6e_11eb_11eb_a264_5b44e87b4dfblevel0_row6\" class=\"row_heading level0 row6\" >All</th>\n",
       "                        <th id=\"T_ca3e2b6e_11eb_11eb_a264_5b44e87b4dfblevel1_row6\" class=\"row_heading level1 row6\" ></th>\n",
       "                        <td id=\"T_ca3e2b6e_11eb_11eb_a264_5b44e87b4dfbrow6_col0\" class=\"data row6 col0\" >537</td>\n",
       "                        <td id=\"T_ca3e2b6e_11eb_11eb_a264_5b44e87b4dfbrow6_col1\" class=\"data row6 col1\" >354</td>\n",
       "                        <td id=\"T_ca3e2b6e_11eb_11eb_a264_5b44e87b4dfbrow6_col2\" class=\"data row6 col2\" >891</td>\n",
       "            </tr>\n",
       "    </tbody></table>"
      ],
      "text/plain": [
       "<pandas.io.formats.style.Styler at 0x7f4298cdebe0>"
      ]
     },
     "execution_count": 211,
     "metadata": {},
     "output_type": "execute_result"
    }
   ],
   "source": [
    "pd.crosstab(index=[train.Pclass, train.Survived], columns=train.Alone, margins=True).style.background_gradient(cmap=\"PuBu\")"
   ]
  },
  {
   "cell_type": "code",
   "execution_count": 212,
   "metadata": {},
   "outputs": [
    {
     "data": {
      "image/png": "[encoded data removed]",
      "text/plain": [
       "<Figure size 406.6x360 with 1 Axes>"
      ]
     },
     "metadata": {},
     "output_type": "display_data"
    }
   ],
   "source": [
    "sns.catplot(x='Alone', y='Survived',hue='Pclass',data=train, kind=\"point\")\n",
    "plt.show()"
   ]
  },
  {
   "cell_type": "code",
   "execution_count": 215,
   "metadata": {},
   "outputs": [
    {
     "data": {
      "text/html": [
       "<style  type=\"text/css\" >\n",
       "#T_254cbf40_11fe_11eb_a264_5b44e87b4dfbrow0_col0,#T_254cbf40_11fe_11eb_a264_5b44e87b4dfbrow0_col2,#T_254cbf40_11fe_11eb_a264_5b44e87b4dfbrow0_col4,#T_254cbf40_11fe_11eb_a264_5b44e87b4dfbrow3_col1,#T_254cbf40_11fe_11eb_a264_5b44e87b4dfbrow3_col3{\n",
       "            background-color:  #fff7fb;\n",
       "            color:  #000000;\n",
       "        }#T_254cbf40_11fe_11eb_a264_5b44e87b4dfbrow0_col1,#T_254cbf40_11fe_11eb_a264_5b44e87b4dfbrow0_col3{\n",
       "            background-color:  #efe9f3;\n",
       "            color:  #000000;\n",
       "        }#T_254cbf40_11fe_11eb_a264_5b44e87b4dfbrow1_col0{\n",
       "            background-color:  #ced0e6;\n",
       "            color:  #000000;\n",
       "        }#T_254cbf40_11fe_11eb_a264_5b44e87b4dfbrow1_col1,#T_254cbf40_11fe_11eb_a264_5b44e87b4dfbrow5_col4{\n",
       "            background-color:  #f8f1f8;\n",
       "            color:  #000000;\n",
       "        }#T_254cbf40_11fe_11eb_a264_5b44e87b4dfbrow1_col2{\n",
       "            background-color:  #bfc9e1;\n",
       "            color:  #000000;\n",
       "        }#T_254cbf40_11fe_11eb_a264_5b44e87b4dfbrow1_col3{\n",
       "            background-color:  #f5eff6;\n",
       "            color:  #000000;\n",
       "        }#T_254cbf40_11fe_11eb_a264_5b44e87b4dfbrow1_col4{\n",
       "            background-color:  #f5eef6;\n",
       "            color:  #000000;\n",
       "        }#T_254cbf40_11fe_11eb_a264_5b44e87b4dfbrow2_col0{\n",
       "            background-color:  #fdf5fa;\n",
       "            color:  #000000;\n",
       "        }#T_254cbf40_11fe_11eb_a264_5b44e87b4dfbrow2_col1{\n",
       "            background-color:  #e8e4f0;\n",
       "            color:  #000000;\n",
       "        }#T_254cbf40_11fe_11eb_a264_5b44e87b4dfbrow2_col2{\n",
       "            background-color:  #fef6fb;\n",
       "            color:  #000000;\n",
       "        }#T_254cbf40_11fe_11eb_a264_5b44e87b4dfbrow2_col3{\n",
       "            background-color:  #f0eaf4;\n",
       "            color:  #000000;\n",
       "        }#T_254cbf40_11fe_11eb_a264_5b44e87b4dfbrow2_col4{\n",
       "            background-color:  #fcf4fa;\n",
       "            color:  #000000;\n",
       "        }#T_254cbf40_11fe_11eb_a264_5b44e87b4dfbrow3_col0{\n",
       "            background-color:  #d6d6e9;\n",
       "            color:  #000000;\n",
       "        }#T_254cbf40_11fe_11eb_a264_5b44e87b4dfbrow3_col2{\n",
       "            background-color:  #d9d8ea;\n",
       "            color:  #000000;\n",
       "        }#T_254cbf40_11fe_11eb_a264_5b44e87b4dfbrow3_col4{\n",
       "            background-color:  #fef6fa;\n",
       "            color:  #000000;\n",
       "        }#T_254cbf40_11fe_11eb_a264_5b44e87b4dfbrow4_col0,#T_254cbf40_11fe_11eb_a264_5b44e87b4dfbrow5_col2{\n",
       "            background-color:  #e0deed;\n",
       "            color:  #000000;\n",
       "        }#T_254cbf40_11fe_11eb_a264_5b44e87b4dfbrow4_col1{\n",
       "            background-color:  #589ec8;\n",
       "            color:  #000000;\n",
       "        }#T_254cbf40_11fe_11eb_a264_5b44e87b4dfbrow4_col2{\n",
       "            background-color:  #d0d1e6;\n",
       "            color:  #000000;\n",
       "        }#T_254cbf40_11fe_11eb_a264_5b44e87b4dfbrow4_col3{\n",
       "            background-color:  #a7bddb;\n",
       "            color:  #000000;\n",
       "        }#T_254cbf40_11fe_11eb_a264_5b44e87b4dfbrow4_col4{\n",
       "            background-color:  #abbfdc;\n",
       "            color:  #000000;\n",
       "        }#T_254cbf40_11fe_11eb_a264_5b44e87b4dfbrow5_col0{\n",
       "            background-color:  #c4cbe3;\n",
       "            color:  #000000;\n",
       "        }#T_254cbf40_11fe_11eb_a264_5b44e87b4dfbrow5_col1{\n",
       "            background-color:  #f6eff7;\n",
       "            color:  #000000;\n",
       "        }#T_254cbf40_11fe_11eb_a264_5b44e87b4dfbrow5_col3{\n",
       "            background-color:  #faf3f9;\n",
       "            color:  #000000;\n",
       "        }#T_254cbf40_11fe_11eb_a264_5b44e87b4dfbrow6_col0,#T_254cbf40_11fe_11eb_a264_5b44e87b4dfbrow6_col1,#T_254cbf40_11fe_11eb_a264_5b44e87b4dfbrow6_col2,#T_254cbf40_11fe_11eb_a264_5b44e87b4dfbrow6_col3,#T_254cbf40_11fe_11eb_a264_5b44e87b4dfbrow6_col4{\n",
       "            background-color:  #023858;\n",
       "            color:  #f1f1f1;\n",
       "        }</style><table id=\"T_254cbf40_11fe_11eb_a264_5b44e87b4dfb\" ><thead>    <tr>        <th class=\"blank\" ></th>        <th class=\"index_name level0\" >Alone</th>        <th class=\"col_heading level0 col0\" colspan=2>0</th>        <th class=\"col_heading level0 col2\" colspan=2>1</th>        <th class=\"col_heading level0 col4\" >All</th>    </tr>    <tr>        <th class=\"blank\" ></th>        <th class=\"index_name level1\" >Sex</th>        <th class=\"col_heading level1 col0\" >female</th>        <th class=\"col_heading level1 col1\" >male</th>        <th class=\"col_heading level1 col2\" >female</th>        <th class=\"col_heading level1 col3\" >male</th>        <th class=\"col_heading level1 col4\" ></th>    </tr>    <tr>        <th class=\"index_name level0\" >Pclass</th>        <th class=\"index_name level1\" >Survived</th>        <th class=\"blank\" ></th>        <th class=\"blank\" ></th>        <th class=\"blank\" ></th>        <th class=\"blank\" ></th>        <th class=\"blank\" ></th>    </tr></thead><tbody>\n",
       "                <tr>\n",
       "                        <th id=\"T_254cbf40_11fe_11eb_a264_5b44e87b4dfblevel0_row0\" class=\"row_heading level0 row0\" rowspan=2>1</th>\n",
       "                        <th id=\"T_254cbf40_11fe_11eb_a264_5b44e87b4dfblevel1_row0\" class=\"row_heading level1 row0\" >0</th>\n",
       "                        <td id=\"T_254cbf40_11fe_11eb_a264_5b44e87b4dfbrow0_col0\" class=\"data row0 col0\" >1</td>\n",
       "                        <td id=\"T_254cbf40_11fe_11eb_a264_5b44e87b4dfbrow0_col1\" class=\"data row0 col1\" >50</td>\n",
       "                        <td id=\"T_254cbf40_11fe_11eb_a264_5b44e87b4dfbrow0_col2\" class=\"data row0 col2\" >2</td>\n",
       "                        <td id=\"T_254cbf40_11fe_11eb_a264_5b44e87b4dfbrow0_col3\" class=\"data row0 col3\" >27</td>\n",
       "                        <td id=\"T_254cbf40_11fe_11eb_a264_5b44e87b4dfbrow0_col4\" class=\"data row0 col4\" >80</td>\n",
       "            </tr>\n",
       "            <tr>\n",
       "                                <th id=\"T_254cbf40_11fe_11eb_a264_5b44e87b4dfblevel1_row1\" class=\"row_heading level1 row1\" >1</th>\n",
       "                        <td id=\"T_254cbf40_11fe_11eb_a264_5b44e87b4dfbrow1_col0\" class=\"data row1 col0\" >33</td>\n",
       "                        <td id=\"T_254cbf40_11fe_11eb_a264_5b44e87b4dfbrow1_col1\" class=\"data row1 col1\" >25</td>\n",
       "                        <td id=\"T_254cbf40_11fe_11eb_a264_5b44e87b4dfbrow1_col2\" class=\"data row1 col2\" >58</td>\n",
       "                        <td id=\"T_254cbf40_11fe_11eb_a264_5b44e87b4dfbrow1_col3\" class=\"data row1 col3\" >20</td>\n",
       "                        <td id=\"T_254cbf40_11fe_11eb_a264_5b44e87b4dfbrow1_col4\" class=\"data row1 col4\" >136</td>\n",
       "            </tr>\n",
       "            <tr>\n",
       "                        <th id=\"T_254cbf40_11fe_11eb_a264_5b44e87b4dfblevel0_row2\" class=\"row_heading level0 row2\" rowspan=2>2</th>\n",
       "                        <th id=\"T_254cbf40_11fe_11eb_a264_5b44e87b4dfblevel1_row2\" class=\"row_heading level1 row2\" >0</th>\n",
       "                        <td id=\"T_254cbf40_11fe_11eb_a264_5b44e87b4dfbrow2_col0\" class=\"data row2 col0\" >3</td>\n",
       "                        <td id=\"T_254cbf40_11fe_11eb_a264_5b44e87b4dfbrow2_col1\" class=\"data row2 col1\" >65</td>\n",
       "                        <td id=\"T_254cbf40_11fe_11eb_a264_5b44e87b4dfbrow2_col2\" class=\"data row2 col2\" >3</td>\n",
       "                        <td id=\"T_254cbf40_11fe_11eb_a264_5b44e87b4dfbrow2_col3\" class=\"data row2 col3\" >26</td>\n",
       "                        <td id=\"T_254cbf40_11fe_11eb_a264_5b44e87b4dfbrow2_col4\" class=\"data row2 col4\" >97</td>\n",
       "            </tr>\n",
       "            <tr>\n",
       "                                <th id=\"T_254cbf40_11fe_11eb_a264_5b44e87b4dfblevel1_row3\" class=\"row_heading level1 row3\" >1</th>\n",
       "                        <td id=\"T_254cbf40_11fe_11eb_a264_5b44e87b4dfbrow3_col0\" class=\"data row3 col0\" >29</td>\n",
       "                        <td id=\"T_254cbf40_11fe_11eb_a264_5b44e87b4dfbrow3_col1\" class=\"data row3 col1\" >7</td>\n",
       "                        <td id=\"T_254cbf40_11fe_11eb_a264_5b44e87b4dfbrow3_col2\" class=\"data row3 col2\" >41</td>\n",
       "                        <td id=\"T_254cbf40_11fe_11eb_a264_5b44e87b4dfbrow3_col3\" class=\"data row3 col3\" >10</td>\n",
       "                        <td id=\"T_254cbf40_11fe_11eb_a264_5b44e87b4dfbrow3_col4\" class=\"data row3 col4\" >87</td>\n",
       "            </tr>\n",
       "            <tr>\n",
       "                        <th id=\"T_254cbf40_11fe_11eb_a264_5b44e87b4dfblevel0_row4\" class=\"row_heading level0 row4\" rowspan=2>3</th>\n",
       "                        <th id=\"T_254cbf40_11fe_11eb_a264_5b44e87b4dfblevel1_row4\" class=\"row_heading level1 row4\" >0</th>\n",
       "                        <td id=\"T_254cbf40_11fe_11eb_a264_5b44e87b4dfbrow4_col0\" class=\"data row4 col0\" >23</td>\n",
       "                        <td id=\"T_254cbf40_11fe_11eb_a264_5b44e87b4dfbrow4_col1\" class=\"data row4 col1\" >232</td>\n",
       "                        <td id=\"T_254cbf40_11fe_11eb_a264_5b44e87b4dfbrow4_col2\" class=\"data row4 col2\" >49</td>\n",
       "                        <td id=\"T_254cbf40_11fe_11eb_a264_5b44e87b4dfbrow4_col3\" class=\"data row4 col3\" >68</td>\n",
       "                        <td id=\"T_254cbf40_11fe_11eb_a264_5b44e87b4dfbrow4_col4\" class=\"data row4 col4\" >372</td>\n",
       "            </tr>\n",
       "            <tr>\n",
       "                                <th id=\"T_254cbf40_11fe_11eb_a264_5b44e87b4dfblevel1_row5\" class=\"row_heading level1 row5\" >1</th>\n",
       "                        <td id=\"T_254cbf40_11fe_11eb_a264_5b44e87b4dfbrow5_col0\" class=\"data row5 col0\" >37</td>\n",
       "                        <td id=\"T_254cbf40_11fe_11eb_a264_5b44e87b4dfbrow5_col1\" class=\"data row5 col1\" >32</td>\n",
       "                        <td id=\"T_254cbf40_11fe_11eb_a264_5b44e87b4dfbrow5_col2\" class=\"data row5 col2\" >35</td>\n",
       "                        <td id=\"T_254cbf40_11fe_11eb_a264_5b44e87b4dfbrow5_col3\" class=\"data row5 col3\" >15</td>\n",
       "                        <td id=\"T_254cbf40_11fe_11eb_a264_5b44e87b4dfbrow5_col4\" class=\"data row5 col4\" >119</td>\n",
       "            </tr>\n",
       "            <tr>\n",
       "                        <th id=\"T_254cbf40_11fe_11eb_a264_5b44e87b4dfblevel0_row6\" class=\"row_heading level0 row6\" >All</th>\n",
       "                        <th id=\"T_254cbf40_11fe_11eb_a264_5b44e87b4dfblevel1_row6\" class=\"row_heading level1 row6\" ></th>\n",
       "                        <td id=\"T_254cbf40_11fe_11eb_a264_5b44e87b4dfbrow6_col0\" class=\"data row6 col0\" >126</td>\n",
       "                        <td id=\"T_254cbf40_11fe_11eb_a264_5b44e87b4dfbrow6_col1\" class=\"data row6 col1\" >411</td>\n",
       "                        <td id=\"T_254cbf40_11fe_11eb_a264_5b44e87b4dfbrow6_col2\" class=\"data row6 col2\" >188</td>\n",
       "                        <td id=\"T_254cbf40_11fe_11eb_a264_5b44e87b4dfbrow6_col3\" class=\"data row6 col3\" >166</td>\n",
       "                        <td id=\"T_254cbf40_11fe_11eb_a264_5b44e87b4dfbrow6_col4\" class=\"data row6 col4\" >891</td>\n",
       "            </tr>\n",
       "    </tbody></table>"
      ],
      "text/plain": [
       "<pandas.io.formats.style.Styler at 0x7f42ae26ab50>"
      ]
     },
     "execution_count": 215,
     "metadata": {},
     "output_type": "execute_result"
    }
   ],
   "source": [
    "pd.crosstab(index=[train.Pclass, train.Survived], columns=[train.Alone, train.Sex], margins=True).style.background_gradient(cmap=\"PuBu\")"
   ]
  },
  {
   "cell_type": "markdown",
   "metadata": {},
   "source": [
    "Majority of the males were alone and belonged to third class."
   ]
  },
  {
   "cell_type": "markdown",
   "metadata": {},
   "source": [
    "### Relationship between Embarked and Survived with Pclass and Sex"
   ]
  },
  {
   "cell_type": "code",
   "execution_count": 216,
   "metadata": {},
   "outputs": [
    {
     "data": {
      "text/html": [
       "<style  type=\"text/css\" >\n",
       "#T_9c45bbf6_11fe_11eb_a264_5b44e87b4dfbrow0_col0,#T_9c45bbf6_11fe_11eb_a264_5b44e87b4dfbrow1_col2{\n",
       "            background-color:  #fcfe66;\n",
       "            color:  #000000;\n",
       "        }#T_9c45bbf6_11fe_11eb_a264_5b44e87b4dfbrow0_col1{\n",
       "            background-color:  #d2e866;\n",
       "            color:  #000000;\n",
       "        }#T_9c45bbf6_11fe_11eb_a264_5b44e87b4dfbrow0_col2{\n",
       "            background-color:  #f2f866;\n",
       "            color:  #000000;\n",
       "        }#T_9c45bbf6_11fe_11eb_a264_5b44e87b4dfbrow0_col3{\n",
       "            background-color:  #d8ec66;\n",
       "            color:  #000000;\n",
       "        }#T_9c45bbf6_11fe_11eb_a264_5b44e87b4dfbrow0_col4,#T_9c45bbf6_11fe_11eb_a264_5b44e87b4dfbrow2_col3{\n",
       "            background-color:  #e8f466;\n",
       "            color:  #000000;\n",
       "        }#T_9c45bbf6_11fe_11eb_a264_5b44e87b4dfbrow1_col0,#T_9c45bbf6_11fe_11eb_a264_5b44e87b4dfbrow3_col0,#T_9c45bbf6_11fe_11eb_a264_5b44e87b4dfbrow3_col1,#T_9c45bbf6_11fe_11eb_a264_5b44e87b4dfbrow3_col2,#T_9c45bbf6_11fe_11eb_a264_5b44e87b4dfbrow3_col3,#T_9c45bbf6_11fe_11eb_a264_5b44e87b4dfbrow3_col4,#T_9c45bbf6_11fe_11eb_a264_5b44e87b4dfbrow4_col0,#T_9c45bbf6_11fe_11eb_a264_5b44e87b4dfbrow4_col2,#T_9c45bbf6_11fe_11eb_a264_5b44e87b4dfbrow4_col3,#T_9c45bbf6_11fe_11eb_a264_5b44e87b4dfbrow4_col4{\n",
       "            background-color:  #ffff66;\n",
       "            color:  #000000;\n",
       "        }#T_9c45bbf6_11fe_11eb_a264_5b44e87b4dfbrow1_col1,#T_9c45bbf6_11fe_11eb_a264_5b44e87b4dfbrow6_col0{\n",
       "            background-color:  #f9fc66;\n",
       "            color:  #000000;\n",
       "        }#T_9c45bbf6_11fe_11eb_a264_5b44e87b4dfbrow1_col3,#T_9c45bbf6_11fe_11eb_a264_5b44e87b4dfbrow1_col4{\n",
       "            background-color:  #fbfd66;\n",
       "            color:  #000000;\n",
       "        }#T_9c45bbf6_11fe_11eb_a264_5b44e87b4dfbrow2_col0,#T_9c45bbf6_11fe_11eb_a264_5b44e87b4dfbrow5_col1{\n",
       "            background-color:  #e6f266;\n",
       "            color:  #000000;\n",
       "        }#T_9c45bbf6_11fe_11eb_a264_5b44e87b4dfbrow2_col1{\n",
       "            background-color:  #f0f866;\n",
       "            color:  #000000;\n",
       "        }#T_9c45bbf6_11fe_11eb_a264_5b44e87b4dfbrow2_col2{\n",
       "            background-color:  #eef666;\n",
       "            color:  #000000;\n",
       "        }#T_9c45bbf6_11fe_11eb_a264_5b44e87b4dfbrow2_col4,#T_9c45bbf6_11fe_11eb_a264_5b44e87b4dfbrow7_col0{\n",
       "            background-color:  #edf666;\n",
       "            color:  #000000;\n",
       "        }#T_9c45bbf6_11fe_11eb_a264_5b44e87b4dfbrow4_col1{\n",
       "            background-color:  #fefe66;\n",
       "            color:  #000000;\n",
       "        }#T_9c45bbf6_11fe_11eb_a264_5b44e87b4dfbrow5_col0{\n",
       "            background-color:  #e3f166;\n",
       "            color:  #000000;\n",
       "        }#T_9c45bbf6_11fe_11eb_a264_5b44e87b4dfbrow5_col2{\n",
       "            background-color:  #ecf666;\n",
       "            color:  #000000;\n",
       "        }#T_9c45bbf6_11fe_11eb_a264_5b44e87b4dfbrow5_col3{\n",
       "            background-color:  #f8fc66;\n",
       "            color:  #000000;\n",
       "        }#T_9c45bbf6_11fe_11eb_a264_5b44e87b4dfbrow5_col4{\n",
       "            background-color:  #ebf566;\n",
       "            color:  #000000;\n",
       "        }#T_9c45bbf6_11fe_11eb_a264_5b44e87b4dfbrow6_col1{\n",
       "            background-color:  #cde666;\n",
       "            color:  #000000;\n",
       "        }#T_9c45bbf6_11fe_11eb_a264_5b44e87b4dfbrow6_col2{\n",
       "            background-color:  #e4f266;\n",
       "            color:  #000000;\n",
       "        }#T_9c45bbf6_11fe_11eb_a264_5b44e87b4dfbrow6_col3{\n",
       "            background-color:  #bede66;\n",
       "            color:  #000000;\n",
       "        }#T_9c45bbf6_11fe_11eb_a264_5b44e87b4dfbrow6_col4{\n",
       "            background-color:  #dbed66;\n",
       "            color:  #000000;\n",
       "        }#T_9c45bbf6_11fe_11eb_a264_5b44e87b4dfbrow7_col1{\n",
       "            background-color:  #bdde66;\n",
       "            color:  #000000;\n",
       "        }#T_9c45bbf6_11fe_11eb_a264_5b44e87b4dfbrow7_col2{\n",
       "            background-color:  #d3e966;\n",
       "            color:  #000000;\n",
       "        }#T_9c45bbf6_11fe_11eb_a264_5b44e87b4dfbrow7_col3,#T_9c45bbf6_11fe_11eb_a264_5b44e87b4dfbrow8_col1{\n",
       "            background-color:  #dcee66;\n",
       "            color:  #000000;\n",
       "        }#T_9c45bbf6_11fe_11eb_a264_5b44e87b4dfbrow7_col4{\n",
       "            background-color:  #d1e866;\n",
       "            color:  #000000;\n",
       "        }#T_9c45bbf6_11fe_11eb_a264_5b44e87b4dfbrow8_col0{\n",
       "            background-color:  #52a866;\n",
       "            color:  #000000;\n",
       "        }#T_9c45bbf6_11fe_11eb_a264_5b44e87b4dfbrow8_col2{\n",
       "            background-color:  #81c066;\n",
       "            color:  #000000;\n",
       "        }#T_9c45bbf6_11fe_11eb_a264_5b44e87b4dfbrow8_col3{\n",
       "            background-color:  #b0d866;\n",
       "            color:  #000000;\n",
       "        }#T_9c45bbf6_11fe_11eb_a264_5b44e87b4dfbrow8_col4{\n",
       "            background-color:  #9acc66;\n",
       "            color:  #000000;\n",
       "        }#T_9c45bbf6_11fe_11eb_a264_5b44e87b4dfbrow9_col0,#T_9c45bbf6_11fe_11eb_a264_5b44e87b4dfbrow9_col1,#T_9c45bbf6_11fe_11eb_a264_5b44e87b4dfbrow9_col2,#T_9c45bbf6_11fe_11eb_a264_5b44e87b4dfbrow9_col3,#T_9c45bbf6_11fe_11eb_a264_5b44e87b4dfbrow9_col4{\n",
       "            background-color:  #008066;\n",
       "            color:  #f1f1f1;\n",
       "        }</style><table id=\"T_9c45bbf6_11fe_11eb_a264_5b44e87b4dfb\" ><thead>    <tr>        <th class=\"blank\" ></th>        <th class=\"index_name level0\" >Sex</th>        <th class=\"col_heading level0 col0\" colspan=2>female</th>        <th class=\"col_heading level0 col2\" colspan=2>male</th>        <th class=\"col_heading level0 col4\" >All</th>    </tr>    <tr>        <th class=\"blank\" ></th>        <th class=\"index_name level1\" >Survived</th>        <th class=\"col_heading level1 col0\" >0</th>        <th class=\"col_heading level1 col1\" >1</th>        <th class=\"col_heading level1 col2\" >0</th>        <th class=\"col_heading level1 col3\" >1</th>        <th class=\"col_heading level1 col4\" ></th>    </tr>    <tr>        <th class=\"index_name level0\" >Embarked</th>        <th class=\"index_name level1\" >Pclass</th>        <th class=\"blank\" ></th>        <th class=\"blank\" ></th>        <th class=\"blank\" ></th>        <th class=\"blank\" ></th>        <th class=\"blank\" ></th>    </tr></thead><tbody>\n",
       "                <tr>\n",
       "                        <th id=\"T_9c45bbf6_11fe_11eb_a264_5b44e87b4dfblevel0_row0\" class=\"row_heading level0 row0\" rowspan=3>C</th>\n",
       "                        <th id=\"T_9c45bbf6_11fe_11eb_a264_5b44e87b4dfblevel1_row0\" class=\"row_heading level1 row0\" >1</th>\n",
       "                        <td id=\"T_9c45bbf6_11fe_11eb_a264_5b44e87b4dfbrow0_col0\" class=\"data row0 col0\" >1</td>\n",
       "                        <td id=\"T_9c45bbf6_11fe_11eb_a264_5b44e87b4dfbrow0_col1\" class=\"data row0 col1\" >42</td>\n",
       "                        <td id=\"T_9c45bbf6_11fe_11eb_a264_5b44e87b4dfbrow0_col2\" class=\"data row0 col2\" >25</td>\n",
       "                        <td id=\"T_9c45bbf6_11fe_11eb_a264_5b44e87b4dfbrow0_col3\" class=\"data row0 col3\" >17</td>\n",
       "                        <td id=\"T_9c45bbf6_11fe_11eb_a264_5b44e87b4dfbrow0_col4\" class=\"data row0 col4\" >85</td>\n",
       "            </tr>\n",
       "            <tr>\n",
       "                                <th id=\"T_9c45bbf6_11fe_11eb_a264_5b44e87b4dfblevel1_row1\" class=\"row_heading level1 row1\" >2</th>\n",
       "                        <td id=\"T_9c45bbf6_11fe_11eb_a264_5b44e87b4dfbrow1_col0\" class=\"data row1 col0\" >0</td>\n",
       "                        <td id=\"T_9c45bbf6_11fe_11eb_a264_5b44e87b4dfbrow1_col1\" class=\"data row1 col1\" >7</td>\n",
       "                        <td id=\"T_9c45bbf6_11fe_11eb_a264_5b44e87b4dfbrow1_col2\" class=\"data row1 col2\" >8</td>\n",
       "                        <td id=\"T_9c45bbf6_11fe_11eb_a264_5b44e87b4dfbrow1_col3\" class=\"data row1 col3\" >2</td>\n",
       "                        <td id=\"T_9c45bbf6_11fe_11eb_a264_5b44e87b4dfbrow1_col4\" class=\"data row1 col4\" >17</td>\n",
       "            </tr>\n",
       "            <tr>\n",
       "                                <th id=\"T_9c45bbf6_11fe_11eb_a264_5b44e87b4dfblevel1_row2\" class=\"row_heading level1 row2\" >3</th>\n",
       "                        <td id=\"T_9c45bbf6_11fe_11eb_a264_5b44e87b4dfbrow2_col0\" class=\"data row2 col0\" >8</td>\n",
       "                        <td id=\"T_9c45bbf6_11fe_11eb_a264_5b44e87b4dfbrow2_col1\" class=\"data row2 col1\" >15</td>\n",
       "                        <td id=\"T_9c45bbf6_11fe_11eb_a264_5b44e87b4dfbrow2_col2\" class=\"data row2 col2\" >33</td>\n",
       "                        <td id=\"T_9c45bbf6_11fe_11eb_a264_5b44e87b4dfbrow2_col3\" class=\"data row2 col3\" >10</td>\n",
       "                        <td id=\"T_9c45bbf6_11fe_11eb_a264_5b44e87b4dfbrow2_col4\" class=\"data row2 col4\" >66</td>\n",
       "            </tr>\n",
       "            <tr>\n",
       "                        <th id=\"T_9c45bbf6_11fe_11eb_a264_5b44e87b4dfblevel0_row3\" class=\"row_heading level0 row3\" rowspan=3>Q</th>\n",
       "                        <th id=\"T_9c45bbf6_11fe_11eb_a264_5b44e87b4dfblevel1_row3\" class=\"row_heading level1 row3\" >1</th>\n",
       "                        <td id=\"T_9c45bbf6_11fe_11eb_a264_5b44e87b4dfbrow3_col0\" class=\"data row3 col0\" >0</td>\n",
       "                        <td id=\"T_9c45bbf6_11fe_11eb_a264_5b44e87b4dfbrow3_col1\" class=\"data row3 col1\" >1</td>\n",
       "                        <td id=\"T_9c45bbf6_11fe_11eb_a264_5b44e87b4dfbrow3_col2\" class=\"data row3 col2\" >1</td>\n",
       "                        <td id=\"T_9c45bbf6_11fe_11eb_a264_5b44e87b4dfbrow3_col3\" class=\"data row3 col3\" >0</td>\n",
       "                        <td id=\"T_9c45bbf6_11fe_11eb_a264_5b44e87b4dfbrow3_col4\" class=\"data row3 col4\" >2</td>\n",
       "            </tr>\n",
       "            <tr>\n",
       "                                <th id=\"T_9c45bbf6_11fe_11eb_a264_5b44e87b4dfblevel1_row4\" class=\"row_heading level1 row4\" >2</th>\n",
       "                        <td id=\"T_9c45bbf6_11fe_11eb_a264_5b44e87b4dfbrow4_col0\" class=\"data row4 col0\" >0</td>\n",
       "                        <td id=\"T_9c45bbf6_11fe_11eb_a264_5b44e87b4dfbrow4_col1\" class=\"data row4 col1\" >2</td>\n",
       "                        <td id=\"T_9c45bbf6_11fe_11eb_a264_5b44e87b4dfbrow4_col2\" class=\"data row4 col2\" >1</td>\n",
       "                        <td id=\"T_9c45bbf6_11fe_11eb_a264_5b44e87b4dfbrow4_col3\" class=\"data row4 col3\" >0</td>\n",
       "                        <td id=\"T_9c45bbf6_11fe_11eb_a264_5b44e87b4dfbrow4_col4\" class=\"data row4 col4\" >3</td>\n",
       "            </tr>\n",
       "            <tr>\n",
       "                                <th id=\"T_9c45bbf6_11fe_11eb_a264_5b44e87b4dfblevel1_row5\" class=\"row_heading level1 row5\" >3</th>\n",
       "                        <td id=\"T_9c45bbf6_11fe_11eb_a264_5b44e87b4dfbrow5_col0\" class=\"data row5 col0\" >9</td>\n",
       "                        <td id=\"T_9c45bbf6_11fe_11eb_a264_5b44e87b4dfbrow5_col1\" class=\"data row5 col1\" >24</td>\n",
       "                        <td id=\"T_9c45bbf6_11fe_11eb_a264_5b44e87b4dfbrow5_col2\" class=\"data row5 col2\" >36</td>\n",
       "                        <td id=\"T_9c45bbf6_11fe_11eb_a264_5b44e87b4dfbrow5_col3\" class=\"data row5 col3\" >3</td>\n",
       "                        <td id=\"T_9c45bbf6_11fe_11eb_a264_5b44e87b4dfbrow5_col4\" class=\"data row5 col4\" >72</td>\n",
       "            </tr>\n",
       "            <tr>\n",
       "                        <th id=\"T_9c45bbf6_11fe_11eb_a264_5b44e87b4dfblevel0_row6\" class=\"row_heading level0 row6\" rowspan=3>S</th>\n",
       "                        <th id=\"T_9c45bbf6_11fe_11eb_a264_5b44e87b4dfblevel1_row6\" class=\"row_heading level1 row6\" >1</th>\n",
       "                        <td id=\"T_9c45bbf6_11fe_11eb_a264_5b44e87b4dfbrow6_col0\" class=\"data row6 col0\" >2</td>\n",
       "                        <td id=\"T_9c45bbf6_11fe_11eb_a264_5b44e87b4dfbrow6_col1\" class=\"data row6 col1\" >46</td>\n",
       "                        <td id=\"T_9c45bbf6_11fe_11eb_a264_5b44e87b4dfbrow6_col2\" class=\"data row6 col2\" >51</td>\n",
       "                        <td id=\"T_9c45bbf6_11fe_11eb_a264_5b44e87b4dfbrow6_col3\" class=\"data row6 col3\" >28</td>\n",
       "                        <td id=\"T_9c45bbf6_11fe_11eb_a264_5b44e87b4dfbrow6_col4\" class=\"data row6 col4\" >127</td>\n",
       "            </tr>\n",
       "            <tr>\n",
       "                                <th id=\"T_9c45bbf6_11fe_11eb_a264_5b44e87b4dfblevel1_row7\" class=\"row_heading level1 row7\" >2</th>\n",
       "                        <td id=\"T_9c45bbf6_11fe_11eb_a264_5b44e87b4dfbrow7_col0\" class=\"data row7 col0\" >6</td>\n",
       "                        <td id=\"T_9c45bbf6_11fe_11eb_a264_5b44e87b4dfbrow7_col1\" class=\"data row7 col1\" >61</td>\n",
       "                        <td id=\"T_9c45bbf6_11fe_11eb_a264_5b44e87b4dfbrow7_col2\" class=\"data row7 col2\" >82</td>\n",
       "                        <td id=\"T_9c45bbf6_11fe_11eb_a264_5b44e87b4dfbrow7_col3\" class=\"data row7 col3\" >15</td>\n",
       "                        <td id=\"T_9c45bbf6_11fe_11eb_a264_5b44e87b4dfbrow7_col4\" class=\"data row7 col4\" >164</td>\n",
       "            </tr>\n",
       "            <tr>\n",
       "                                <th id=\"T_9c45bbf6_11fe_11eb_a264_5b44e87b4dfblevel1_row8\" class=\"row_heading level1 row8\" >3</th>\n",
       "                        <td id=\"T_9c45bbf6_11fe_11eb_a264_5b44e87b4dfbrow8_col0\" class=\"data row8 col0\" >55</td>\n",
       "                        <td id=\"T_9c45bbf6_11fe_11eb_a264_5b44e87b4dfbrow8_col1\" class=\"data row8 col1\" >33</td>\n",
       "                        <td id=\"T_9c45bbf6_11fe_11eb_a264_5b44e87b4dfbrow8_col2\" class=\"data row8 col2\" >231</td>\n",
       "                        <td id=\"T_9c45bbf6_11fe_11eb_a264_5b44e87b4dfbrow8_col3\" class=\"data row8 col3\" >34</td>\n",
       "                        <td id=\"T_9c45bbf6_11fe_11eb_a264_5b44e87b4dfbrow8_col4\" class=\"data row8 col4\" >353</td>\n",
       "            </tr>\n",
       "            <tr>\n",
       "                        <th id=\"T_9c45bbf6_11fe_11eb_a264_5b44e87b4dfblevel0_row9\" class=\"row_heading level0 row9\" >All</th>\n",
       "                        <th id=\"T_9c45bbf6_11fe_11eb_a264_5b44e87b4dfblevel1_row9\" class=\"row_heading level1 row9\" ></th>\n",
       "                        <td id=\"T_9c45bbf6_11fe_11eb_a264_5b44e87b4dfbrow9_col0\" class=\"data row9 col0\" >81</td>\n",
       "                        <td id=\"T_9c45bbf6_11fe_11eb_a264_5b44e87b4dfbrow9_col1\" class=\"data row9 col1\" >231</td>\n",
       "                        <td id=\"T_9c45bbf6_11fe_11eb_a264_5b44e87b4dfbrow9_col2\" class=\"data row9 col2\" >468</td>\n",
       "                        <td id=\"T_9c45bbf6_11fe_11eb_a264_5b44e87b4dfbrow9_col3\" class=\"data row9 col3\" >109</td>\n",
       "                        <td id=\"T_9c45bbf6_11fe_11eb_a264_5b44e87b4dfbrow9_col4\" class=\"data row9 col4\" >889</td>\n",
       "            </tr>\n",
       "    </tbody></table>"
      ],
      "text/plain": [
       "<pandas.io.formats.style.Styler at 0x7f42956fa0d0>"
      ]
     },
     "execution_count": 216,
     "metadata": {},
     "output_type": "execute_result"
    }
   ],
   "source": [
    "pd.crosstab([train.Embarked, train.Pclass],[train.Sex,train.Survived],margins=True).style.background_gradient(cmap='summer_r')"
   ]
  },
  {
   "cell_type": "code",
   "execution_count": 223,
   "metadata": {},
   "outputs": [
    {
     "data": {
      "text/plain": [
       "<Figure size 2160x432 with 0 Axes>"
      ]
     },
     "metadata": {},
     "output_type": "display_data"
    },
    {
     "data": {
      "image/png": "[encoded data removed]",
      "text/plain": [
       "<Figure size 1157.97x360 with 3 Axes>"
      ]
     },
     "metadata": {
      "needs_background": "light"
     },
     "output_type": "display_data"
    }
   ],
   "source": [
    "plt.figure(figsize=(30,6))\n",
    "sns.catplot(x='Pclass',y='Survived',hue='Sex',col='Embarked',data=train, kind=\"point\")\n",
    "plt.tight_layout()\n",
    "plt.show()"
   ]
  },
  {
   "cell_type": "markdown",
   "metadata": {},
   "source": [
    "* We can see that men from all ports S, C, Q who were alone and belongeed to third class had the maximum chance of dying.\n",
    "* Rate of survival of women belonging to Pclass 1 and Pclass 2 is 1 regardless of the port they embarked from"
   ]
  },
  {
   "cell_type": "code",
   "execution_count": 224,
   "metadata": {},
   "outputs": [
    {
     "data": {
      "text/html": [
       "<div>\n",
       "<style scoped>\n",
       "    .dataframe tbody tr th:only-of-type {\n",
       "        vertical-align: middle;\n",
       "    }\n",
       "\n",
       "    .dataframe tbody tr th {\n",
       "        vertical-align: top;\n",
       "    }\n",
       "\n",
       "    .dataframe thead th {\n",
       "        text-align: right;\n",
       "    }\n",
       "</style>\n",
       "<table border=\"1\" class=\"dataframe\">\n",
       "  <thead>\n",
       "    <tr style=\"text-align: right;\">\n",
       "      <th></th>\n",
       "      <th>PassengerId</th>\n",
       "      <th>Survived</th>\n",
       "      <th>Pclass</th>\n",
       "      <th>Name</th>\n",
       "      <th>Sex</th>\n",
       "      <th>Age</th>\n",
       "      <th>SibSp</th>\n",
       "      <th>Parch</th>\n",
       "      <th>Ticket</th>\n",
       "      <th>Fare</th>\n",
       "      <th>Cabin</th>\n",
       "      <th>Embarked</th>\n",
       "      <th>Title</th>\n",
       "      <th>Age_Bin</th>\n",
       "      <th>Alone</th>\n",
       "      <th>Fare_Bin</th>\n",
       "    </tr>\n",
       "  </thead>\n",
       "  <tbody>\n",
       "    <tr>\n",
       "      <th>0</th>\n",
       "      <td>1</td>\n",
       "      <td>0</td>\n",
       "      <td>3</td>\n",
       "      <td>Braund, Mr. Owen Harris</td>\n",
       "      <td>male</td>\n",
       "      <td>22.0</td>\n",
       "      <td>1</td>\n",
       "      <td>0</td>\n",
       "      <td>A/5 21171</td>\n",
       "      <td>7.2500</td>\n",
       "      <td>NaN</td>\n",
       "      <td>S</td>\n",
       "      <td>Mr</td>\n",
       "      <td>2</td>\n",
       "      <td>1</td>\n",
       "      <td>3</td>\n",
       "    </tr>\n",
       "    <tr>\n",
       "      <th>1</th>\n",
       "      <td>2</td>\n",
       "      <td>1</td>\n",
       "      <td>1</td>\n",
       "      <td>Cumings, Mrs. John Bradley (Florence Briggs Th...</td>\n",
       "      <td>female</td>\n",
       "      <td>38.0</td>\n",
       "      <td>1</td>\n",
       "      <td>0</td>\n",
       "      <td>PC 17599</td>\n",
       "      <td>71.2833</td>\n",
       "      <td>C85</td>\n",
       "      <td>C</td>\n",
       "      <td>Mrs</td>\n",
       "      <td>2</td>\n",
       "      <td>1</td>\n",
       "      <td>3</td>\n",
       "    </tr>\n",
       "    <tr>\n",
       "      <th>2</th>\n",
       "      <td>3</td>\n",
       "      <td>1</td>\n",
       "      <td>3</td>\n",
       "      <td>Heikkinen, Miss. Laina</td>\n",
       "      <td>female</td>\n",
       "      <td>26.0</td>\n",
       "      <td>0</td>\n",
       "      <td>0</td>\n",
       "      <td>STON/O2. 3101282</td>\n",
       "      <td>7.9250</td>\n",
       "      <td>NaN</td>\n",
       "      <td>S</td>\n",
       "      <td>Miss</td>\n",
       "      <td>2</td>\n",
       "      <td>0</td>\n",
       "      <td>3</td>\n",
       "    </tr>\n",
       "    <tr>\n",
       "      <th>3</th>\n",
       "      <td>4</td>\n",
       "      <td>1</td>\n",
       "      <td>1</td>\n",
       "      <td>Futrelle, Mrs. Jacques Heath (Lily May Peel)</td>\n",
       "      <td>female</td>\n",
       "      <td>35.0</td>\n",
       "      <td>1</td>\n",
       "      <td>0</td>\n",
       "      <td>113803</td>\n",
       "      <td>53.1000</td>\n",
       "      <td>C123</td>\n",
       "      <td>S</td>\n",
       "      <td>Mrs</td>\n",
       "      <td>2</td>\n",
       "      <td>1</td>\n",
       "      <td>3</td>\n",
       "    </tr>\n",
       "    <tr>\n",
       "      <th>4</th>\n",
       "      <td>5</td>\n",
       "      <td>0</td>\n",
       "      <td>3</td>\n",
       "      <td>Allen, Mr. William Henry</td>\n",
       "      <td>male</td>\n",
       "      <td>35.0</td>\n",
       "      <td>0</td>\n",
       "      <td>0</td>\n",
       "      <td>373450</td>\n",
       "      <td>8.0500</td>\n",
       "      <td>NaN</td>\n",
       "      <td>S</td>\n",
       "      <td>Mr</td>\n",
       "      <td>2</td>\n",
       "      <td>0</td>\n",
       "      <td>3</td>\n",
       "    </tr>\n",
       "  </tbody>\n",
       "</table>\n",
       "</div>"
      ],
      "text/plain": [
       "   PassengerId  Survived  Pclass  \\\n",
       "0            1         0       3   \n",
       "1            2         1       1   \n",
       "2            3         1       3   \n",
       "3            4         1       1   \n",
       "4            5         0       3   \n",
       "\n",
       "                                                Name     Sex   Age  SibSp  \\\n",
       "0                            Braund, Mr. Owen Harris    male  22.0      1   \n",
       "1  Cumings, Mrs. John Bradley (Florence Briggs Th...  female  38.0      1   \n",
       "2                             Heikkinen, Miss. Laina  female  26.0      0   \n",
       "3       Futrelle, Mrs. Jacques Heath (Lily May Peel)  female  35.0      1   \n",
       "4                           Allen, Mr. William Henry    male  35.0      0   \n",
       "\n",
       "   Parch            Ticket     Fare Cabin Embarked Title Age_Bin  Alone  \\\n",
       "0      0         A/5 21171   7.2500   NaN        S    Mr       2      1   \n",
       "1      0          PC 17599  71.2833   C85        C   Mrs       2      1   \n",
       "2      0  STON/O2. 3101282   7.9250   NaN        S  Miss       2      0   \n",
       "3      0            113803  53.1000  C123        S   Mrs       2      1   \n",
       "4      0            373450   8.0500   NaN        S    Mr       2      0   \n",
       "\n",
       "  Fare_Bin  \n",
       "0        3  \n",
       "1        3  \n",
       "2        3  \n",
       "3        3  \n",
       "4        3  "
      ]
     },
     "execution_count": 224,
     "metadata": {},
     "output_type": "execute_result"
    }
   ],
   "source": [
    "train.head()"
   ]
  },
  {
   "cell_type": "markdown",
   "metadata": {},
   "source": [
    "### Relationship between Fare_Bin, Pclass and Survived"
   ]
  },
  {
   "cell_type": "code",
   "execution_count": 225,
   "metadata": {},
   "outputs": [
    {
     "data": {
      "text/html": [
       "<style  type=\"text/css\" >\n",
       "#T_2f1ba8cc_1200_11eb_a264_5b44e87b4dfbrow0_col0,#T_2f1ba8cc_1200_11eb_a264_5b44e87b4dfbrow0_col3,#T_2f1ba8cc_1200_11eb_a264_5b44e87b4dfbrow0_col4,#T_2f1ba8cc_1200_11eb_a264_5b44e87b4dfbrow1_col1,#T_2f1ba8cc_1200_11eb_a264_5b44e87b4dfbrow1_col2,#T_2f1ba8cc_1200_11eb_a264_5b44e87b4dfbrow1_col3,#T_2f1ba8cc_1200_11eb_a264_5b44e87b4dfbrow2_col1,#T_2f1ba8cc_1200_11eb_a264_5b44e87b4dfbrow2_col2,#T_2f1ba8cc_1200_11eb_a264_5b44e87b4dfbrow2_col3,#T_2f1ba8cc_1200_11eb_a264_5b44e87b4dfbrow4_col1,#T_2f1ba8cc_1200_11eb_a264_5b44e87b4dfbrow4_col2,#T_2f1ba8cc_1200_11eb_a264_5b44e87b4dfbrow4_col3,#T_2f1ba8cc_1200_11eb_a264_5b44e87b4dfbrow5_col1,#T_2f1ba8cc_1200_11eb_a264_5b44e87b4dfbrow5_col2,#T_2f1ba8cc_1200_11eb_a264_5b44e87b4dfbrow5_col3{\n",
       "            background-color:  #f7fbff;\n",
       "            color:  #000000;\n",
       "        }#T_2f1ba8cc_1200_11eb_a264_5b44e87b4dfbrow0_col1{\n",
       "            background-color:  #bed8ec;\n",
       "            color:  #000000;\n",
       "        }#T_2f1ba8cc_1200_11eb_a264_5b44e87b4dfbrow0_col2{\n",
       "            background-color:  #abd0e6;\n",
       "            color:  #000000;\n",
       "        }#T_2f1ba8cc_1200_11eb_a264_5b44e87b4dfbrow1_col0{\n",
       "            background-color:  #f1f7fd;\n",
       "            color:  #000000;\n",
       "        }#T_2f1ba8cc_1200_11eb_a264_5b44e87b4dfbrow1_col4,#T_2f1ba8cc_1200_11eb_a264_5b44e87b4dfbrow4_col0{\n",
       "            background-color:  #f3f8fe;\n",
       "            color:  #000000;\n",
       "        }#T_2f1ba8cc_1200_11eb_a264_5b44e87b4dfbrow2_col0{\n",
       "            background-color:  #9ac8e0;\n",
       "            color:  #000000;\n",
       "        }#T_2f1ba8cc_1200_11eb_a264_5b44e87b4dfbrow2_col4{\n",
       "            background-color:  #a3cce3;\n",
       "            color:  #000000;\n",
       "        }#T_2f1ba8cc_1200_11eb_a264_5b44e87b4dfbrow3_col0,#T_2f1ba8cc_1200_11eb_a264_5b44e87b4dfbrow5_col4{\n",
       "            background-color:  #eef5fc;\n",
       "            color:  #000000;\n",
       "        }#T_2f1ba8cc_1200_11eb_a264_5b44e87b4dfbrow3_col1{\n",
       "            background-color:  #2777b8;\n",
       "            color:  #000000;\n",
       "        }#T_2f1ba8cc_1200_11eb_a264_5b44e87b4dfbrow3_col2{\n",
       "            background-color:  #3787c0;\n",
       "            color:  #000000;\n",
       "        }#T_2f1ba8cc_1200_11eb_a264_5b44e87b4dfbrow3_col3,#T_2f1ba8cc_1200_11eb_a264_5b44e87b4dfbrow6_col0,#T_2f1ba8cc_1200_11eb_a264_5b44e87b4dfbrow6_col1,#T_2f1ba8cc_1200_11eb_a264_5b44e87b4dfbrow6_col2,#T_2f1ba8cc_1200_11eb_a264_5b44e87b4dfbrow6_col3,#T_2f1ba8cc_1200_11eb_a264_5b44e87b4dfbrow6_col4{\n",
       "            background-color:  #08306b;\n",
       "            color:  #f1f1f1;\n",
       "        }#T_2f1ba8cc_1200_11eb_a264_5b44e87b4dfbrow3_col4{\n",
       "            background-color:  #eaf2fb;\n",
       "            color:  #000000;\n",
       "        }#T_2f1ba8cc_1200_11eb_a264_5b44e87b4dfbrow4_col4{\n",
       "            background-color:  #f5fafe;\n",
       "            color:  #000000;\n",
       "        }#T_2f1ba8cc_1200_11eb_a264_5b44e87b4dfbrow5_col0{\n",
       "            background-color:  #eaf3fb;\n",
       "            color:  #000000;\n",
       "        }</style><table id=\"T_2f1ba8cc_1200_11eb_a264_5b44e87b4dfb\" ><thead>    <tr>        <th class=\"blank\" ></th>        <th class=\"index_name level0\" >Fare_Bin</th>        <th class=\"col_heading level0 col0\" >3</th>        <th class=\"col_heading level0 col1\" >1</th>        <th class=\"col_heading level0 col2\" >4</th>        <th class=\"col_heading level0 col3\" >2</th>        <th class=\"col_heading level0 col4\" >All</th>    </tr>    <tr>        <th class=\"index_name level0\" >Survived</th>        <th class=\"index_name level1\" >Pclass</th>        <th class=\"blank\" ></th>        <th class=\"blank\" ></th>        <th class=\"blank\" ></th>        <th class=\"blank\" ></th>        <th class=\"blank\" ></th>    </tr></thead><tbody>\n",
       "                <tr>\n",
       "                        <th id=\"T_2f1ba8cc_1200_11eb_a264_5b44e87b4dfblevel0_row0\" class=\"row_heading level0 row0\" rowspan=3>0</th>\n",
       "                        <th id=\"T_2f1ba8cc_1200_11eb_a264_5b44e87b4dfblevel1_row0\" class=\"row_heading level1 row0\" >1</th>\n",
       "                        <td id=\"T_2f1ba8cc_1200_11eb_a264_5b44e87b4dfbrow0_col0\" class=\"data row0 col0\" >70</td>\n",
       "                        <td id=\"T_2f1ba8cc_1200_11eb_a264_5b44e87b4dfbrow0_col1\" class=\"data row0 col1\" >8</td>\n",
       "                        <td id=\"T_2f1ba8cc_1200_11eb_a264_5b44e87b4dfbrow0_col2\" class=\"data row0 col2\" >2</td>\n",
       "                        <td id=\"T_2f1ba8cc_1200_11eb_a264_5b44e87b4dfbrow0_col3\" class=\"data row0 col3\" >0</td>\n",
       "                        <td id=\"T_2f1ba8cc_1200_11eb_a264_5b44e87b4dfbrow0_col4\" class=\"data row0 col4\" >80</td>\n",
       "            </tr>\n",
       "            <tr>\n",
       "                                <th id=\"T_2f1ba8cc_1200_11eb_a264_5b44e87b4dfblevel1_row1\" class=\"row_heading level1 row1\" >2</th>\n",
       "                        <td id=\"T_2f1ba8cc_1200_11eb_a264_5b44e87b4dfbrow1_col0\" class=\"data row1 col0\" >97</td>\n",
       "                        <td id=\"T_2f1ba8cc_1200_11eb_a264_5b44e87b4dfbrow1_col1\" class=\"data row1 col1\" >0</td>\n",
       "                        <td id=\"T_2f1ba8cc_1200_11eb_a264_5b44e87b4dfbrow1_col2\" class=\"data row1 col2\" >0</td>\n",
       "                        <td id=\"T_2f1ba8cc_1200_11eb_a264_5b44e87b4dfbrow1_col3\" class=\"data row1 col3\" >0</td>\n",
       "                        <td id=\"T_2f1ba8cc_1200_11eb_a264_5b44e87b4dfbrow1_col4\" class=\"data row1 col4\" >97</td>\n",
       "            </tr>\n",
       "            <tr>\n",
       "                                <th id=\"T_2f1ba8cc_1200_11eb_a264_5b44e87b4dfblevel1_row2\" class=\"row_heading level1 row2\" >3</th>\n",
       "                        <td id=\"T_2f1ba8cc_1200_11eb_a264_5b44e87b4dfbrow2_col0\" class=\"data row2 col0\" >372</td>\n",
       "                        <td id=\"T_2f1ba8cc_1200_11eb_a264_5b44e87b4dfbrow2_col1\" class=\"data row2 col1\" >0</td>\n",
       "                        <td id=\"T_2f1ba8cc_1200_11eb_a264_5b44e87b4dfbrow2_col2\" class=\"data row2 col2\" >0</td>\n",
       "                        <td id=\"T_2f1ba8cc_1200_11eb_a264_5b44e87b4dfbrow2_col3\" class=\"data row2 col3\" >0</td>\n",
       "                        <td id=\"T_2f1ba8cc_1200_11eb_a264_5b44e87b4dfbrow2_col4\" class=\"data row2 col4\" >372</td>\n",
       "            </tr>\n",
       "            <tr>\n",
       "                        <th id=\"T_2f1ba8cc_1200_11eb_a264_5b44e87b4dfblevel0_row3\" class=\"row_heading level0 row3\" rowspan=3>1</th>\n",
       "                        <th id=\"T_2f1ba8cc_1200_11eb_a264_5b44e87b4dfblevel1_row3\" class=\"row_heading level1 row3\" >1</th>\n",
       "                        <td id=\"T_2f1ba8cc_1200_11eb_a264_5b44e87b4dfbrow3_col0\" class=\"data row3 col0\" >108</td>\n",
       "                        <td id=\"T_2f1ba8cc_1200_11eb_a264_5b44e87b4dfbrow3_col1\" class=\"data row3 col1\" >21</td>\n",
       "                        <td id=\"T_2f1ba8cc_1200_11eb_a264_5b44e87b4dfbrow3_col2\" class=\"data row3 col2\" >4</td>\n",
       "                        <td id=\"T_2f1ba8cc_1200_11eb_a264_5b44e87b4dfbrow3_col3\" class=\"data row3 col3\" >3</td>\n",
       "                        <td id=\"T_2f1ba8cc_1200_11eb_a264_5b44e87b4dfbrow3_col4\" class=\"data row3 col4\" >136</td>\n",
       "            </tr>\n",
       "            <tr>\n",
       "                                <th id=\"T_2f1ba8cc_1200_11eb_a264_5b44e87b4dfblevel1_row4\" class=\"row_heading level1 row4\" >2</th>\n",
       "                        <td id=\"T_2f1ba8cc_1200_11eb_a264_5b44e87b4dfbrow4_col0\" class=\"data row4 col0\" >87</td>\n",
       "                        <td id=\"T_2f1ba8cc_1200_11eb_a264_5b44e87b4dfbrow4_col1\" class=\"data row4 col1\" >0</td>\n",
       "                        <td id=\"T_2f1ba8cc_1200_11eb_a264_5b44e87b4dfbrow4_col2\" class=\"data row4 col2\" >0</td>\n",
       "                        <td id=\"T_2f1ba8cc_1200_11eb_a264_5b44e87b4dfbrow4_col3\" class=\"data row4 col3\" >0</td>\n",
       "                        <td id=\"T_2f1ba8cc_1200_11eb_a264_5b44e87b4dfbrow4_col4\" class=\"data row4 col4\" >87</td>\n",
       "            </tr>\n",
       "            <tr>\n",
       "                                <th id=\"T_2f1ba8cc_1200_11eb_a264_5b44e87b4dfblevel1_row5\" class=\"row_heading level1 row5\" >3</th>\n",
       "                        <td id=\"T_2f1ba8cc_1200_11eb_a264_5b44e87b4dfbrow5_col0\" class=\"data row5 col0\" >119</td>\n",
       "                        <td id=\"T_2f1ba8cc_1200_11eb_a264_5b44e87b4dfbrow5_col1\" class=\"data row5 col1\" >0</td>\n",
       "                        <td id=\"T_2f1ba8cc_1200_11eb_a264_5b44e87b4dfbrow5_col2\" class=\"data row5 col2\" >0</td>\n",
       "                        <td id=\"T_2f1ba8cc_1200_11eb_a264_5b44e87b4dfbrow5_col3\" class=\"data row5 col3\" >0</td>\n",
       "                        <td id=\"T_2f1ba8cc_1200_11eb_a264_5b44e87b4dfbrow5_col4\" class=\"data row5 col4\" >119</td>\n",
       "            </tr>\n",
       "            <tr>\n",
       "                        <th id=\"T_2f1ba8cc_1200_11eb_a264_5b44e87b4dfblevel0_row6\" class=\"row_heading level0 row6\" >All</th>\n",
       "                        <th id=\"T_2f1ba8cc_1200_11eb_a264_5b44e87b4dfblevel1_row6\" class=\"row_heading level1 row6\" ></th>\n",
       "                        <td id=\"T_2f1ba8cc_1200_11eb_a264_5b44e87b4dfbrow6_col0\" class=\"data row6 col0\" >853</td>\n",
       "                        <td id=\"T_2f1ba8cc_1200_11eb_a264_5b44e87b4dfbrow6_col1\" class=\"data row6 col1\" >29</td>\n",
       "                        <td id=\"T_2f1ba8cc_1200_11eb_a264_5b44e87b4dfbrow6_col2\" class=\"data row6 col2\" >6</td>\n",
       "                        <td id=\"T_2f1ba8cc_1200_11eb_a264_5b44e87b4dfbrow6_col3\" class=\"data row6 col3\" >3</td>\n",
       "                        <td id=\"T_2f1ba8cc_1200_11eb_a264_5b44e87b4dfbrow6_col4\" class=\"data row6 col4\" >891</td>\n",
       "            </tr>\n",
       "    </tbody></table>"
      ],
      "text/plain": [
       "<pandas.io.formats.style.Styler at 0x7f4297692490>"
      ]
     },
     "execution_count": 225,
     "metadata": {},
     "output_type": "execute_result"
    }
   ],
   "source": [
    "pd.crosstab([train.Survived, train.Pclass], train.Fare_Bin, margins=True).style.background_gradient(cmap='Blues')"
   ]
  },
  {
   "cell_type": "code",
   "execution_count": 227,
   "metadata": {},
   "outputs": [
    {
     "data": {
      "text/plain": [
       "{Interval(128.082, 256.165, closed='right'): 1,\n",
       " Interval(384.247, 512.329, closed='right'): 2,\n",
       " Interval(-0.512, 128.082, closed='right'): 3,\n",
       " Interval(256.165, 384.247, closed='right'): 4}"
      ]
     },
     "execution_count": 227,
     "metadata": {},
     "output_type": "execute_result"
    }
   ],
   "source": [
    "fare_dict"
   ]
  },
  {
   "cell_type": "markdown",
   "metadata": {},
   "source": [
    "We see that 372 passengers died and all of then belonged to 3rd class"
   ]
  },
  {
   "cell_type": "markdown",
   "metadata": {},
   "source": [
    "#### Observations in a Nutshell for all features:\n",
    "* **Sex**: The chance of survival for women is high as compared to men.\n",
    "\n",
    "* **Pclass**:There is a visible trend that being a 1st class passenger gives you better chances of survival. The survival rate for Pclass3 is very low. For women, the chance of survival from Pclass1 is almost 1 and is high too for those from Pclass2. Money Wins!!!.\n",
    "\n",
    "* **Age**: Children less than 5-10 years do have a high chance of survival. Passengers between age group 15 to 35 died a lot.\n",
    "\n",
    "* **Embarked**: This is a very interesting feature. The chances of survival at C looks to be better than even though the majority of Pclass1 passengers got up at S. Passengers at Q were all from Pclass3.\n",
    "\n",
    "* **Parch+SibSp**: Having someone with you be it a sibling/spouse or parent gave u a higher chance of survival than when you were travelling alone."
   ]
  },
  {
   "cell_type": "code",
   "execution_count": null,
   "metadata": {},
   "outputs": [],
   "source": []
  }
 ],
 "metadata": {
  "kernelspec": {
   "display_name": "Python 3",
   "language": "python",
   "name": "python3"
  },
  "language_info": {
   "codemirror_mode": {
    "name": "ipython",
    "version": 3
   },
   "file_extension": ".py",
   "mimetype": "text/x-python",
   "name": "python",
   "nbconvert_exporter": "python",
   "pygments_lexer": "ipython3",
   "version": "3.8.5"
  },
  "varInspector": {
   "cols": {
    "lenName": 16,
    "lenType": 16,
    "lenVar": 40
   },
   "kernels_config": {
    "python": {
     "delete_cmd_postfix": "",
     "delete_cmd_prefix": "del ",
     "library": "var_list.py",
     "varRefreshCmd": "print(var_dic_list())"
    },
    "r": {
     "delete_cmd_postfix": ") ",
     "delete_cmd_prefix": "rm(",
     "library": "var_list.r",
     "varRefreshCmd": "cat(var_dic_list()) "
    }
   },
   "types_to_exclude": [
    "module",
    "function",
    "builtin_function_or_method",
    "instance",
    "_Feature"
   ],
   "window_display": false
  }
 },
 "nbformat": 4,
 "nbformat_minor": 4
}
